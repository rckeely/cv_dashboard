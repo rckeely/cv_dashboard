{
 "cells": [
  {
   "cell_type": "markdown",
   "metadata": {},
   "source": [
    "# Appendix :: Code"
   ]
  },
  {
   "cell_type": "markdown",
   "metadata": {},
   "source": [
    "## Library Imports"
   ]
  },
  {
   "cell_type": "code",
   "execution_count": 187,
   "metadata": {},
   "outputs": [],
   "source": [
    "import json\n",
    "import urllib.request\n",
    "import sys\n",
    "import os\n",
    "import importlib\n",
    "import datetime as dt\n",
    "import pandas as pd\n",
    "import numpy as np\n",
    "import matplotlib.pyplot as plt\n",
    "# import matplotlib\n",
    "import bisect\n",
    "import math\n",
    "from bs4 import BeautifulSoup\n",
    "import time\n",
    "import warnings\n",
    "import country_converter as coco"
   ]
  },
  {
   "cell_type": "code",
   "execution_count": 188,
   "metadata": {},
   "outputs": [],
   "source": [
    "#!{sys.executable} -m pip install country_converter"
   ]
  },
  {
   "cell_type": "code",
   "execution_count": 189,
   "metadata": {},
   "outputs": [],
   "source": [
    "user_module_path = './'\n",
    "module_path = os.path.abspath(os.path.join(user_module_path))\n",
    "\n",
    "import fetch_data"
   ]
  },
  {
   "cell_type": "markdown",
   "metadata": {},
   "source": [
    "## Functions"
   ]
  },
  {
   "cell_type": "markdown",
   "metadata": {},
   "source": [
    "### Utility functions"
   ]
  },
  {
   "cell_type": "code",
   "execution_count": 190,
   "metadata": {},
   "outputs": [],
   "source": [
    "def reload_module(module,\n",
    "                 user_module_path = './'):\n",
    "    # Block to handle reloading user modules\n",
    "    module_path = os.path.abspath(os.path.join(user_module_path))\n",
    "    if module_path not in sys.path:\n",
    "        sys.path.append(module_path)\n",
    "    importlib.reload(module)\n",
    "    fetch_data.test_refresh()"
   ]
  },
  {
   "cell_type": "code",
   "execution_count": 191,
   "metadata": {},
   "outputs": [],
   "source": [
    "def set_warnings(level):\n",
    "    # Disable warnings\n",
    "    warnings.filterwarnings(level)"
   ]
  },
  {
   "cell_type": "markdown",
   "metadata": {},
   "source": [
    "### Plot functions"
   ]
  },
  {
   "cell_type": "code",
   "execution_count": 192,
   "metadata": {},
   "outputs": [],
   "source": [
    "def plot_df(df, days=30):\n",
    "    plt.title(\"Per day\")\n",
    "    plt.plot(df.index[-days:], df['confirmed'][-days:], label=\"Confirmed\")\n",
    "    plt.plot(df.index[-days:], df['deaths'][-days:], label=\"Deaths\")\n",
    "    plt.plot(df.index[-days:], df['recovered'][-days:], label=\"Recovered\")\n",
    "    plt.legend()\n",
    "    plt.show()\n",
    "    \n",
    "#     plt.title(\"2nd diff\")\n",
    "#     plt.plot(df.index[-days:], df['confirmed_diff_2'][-days:], label=\"Confirmed\")\n",
    "#     plt.plot(df.index[-days:], df['deaths_diff_2'][-days:], label=\"Deaths\")\n",
    "#     plt.plot(df.index[-days:], df['recovered_diff_2'][-days:], label=\"Recovered\")\n",
    "#     plt.legend()\n",
    "#     plt.show()\n",
    "\n",
    "    plt.title(\"Cumulative, Linear\")\n",
    "    plt.plot(df.index[-days:], df['confirmed_total'][-days:], label=\"Confirmed\")\n",
    "    plt.plot(df.index[-days:], df['deaths_total'][-days:], label=\"Deaths\")\n",
    "    plt.plot(df.index[-days:], df['recovered_total'][-days:], label=\"Recovered\")\n",
    "    plt.legend()\n",
    "    plt.show()\n",
    "\n",
    "    plt.title(\"Cumulative, Log\")\n",
    "    plt.plot(df.index[-days:], df['confirmed_log_total'][-days:], label=\"Confirmed\")\n",
    "    plt.plot(df.index[-days:], df['deaths_log_total'][-days:], label=\"Deaths\")\n",
    "    plt.plot(df.index[-days:], df['recovered_log_total'][-days:], label=\"Recovered\")\n",
    "    plt.legend()\n",
    "    plt.show()\n",
    "    \n",
    "    plt.title(\"Per day, Log\")\n",
    "    plt.plot(df.index[-days:], df['confirmed_log'][-days:], label=\"Confirmed\")\n",
    "    plt.plot(df.index[-days:], df['deaths_log'][-days:], label=\"Deaths\")\n",
    "    plt.plot(df.index[-days:], df['recovered_log'][-days:], label=\"Recovered\")\n",
    "    plt.legend()\n",
    "    plt.show()"
   ]
  },
  {
   "cell_type": "code",
   "execution_count": 193,
   "metadata": {},
   "outputs": [],
   "source": [
    "def plot_set(series,\n",
    "             panels = 3,\n",
    "             col_width  = 7,\n",
    "             row_height = 5,\n",
    "             fig_title=\"Title\"):\n",
    "    # Calculate the number of rows\n",
    "    row_max, col_max, del_cells = calc_maxes(len(series), panels)\n",
    "    fig, axs = plt.subplots(row_max, col_max)\n",
    "    fig.set_size_inches(col_max * col_width, row_max * row_height)\n",
    "    fig.suptitle(fig_title)\n",
    "\n",
    "    row_idx = 0\n",
    "    col_idx = 0\n",
    "\n",
    "    # Handle single row case\n",
    "    if (row_max == 1):\n",
    "        for s in series:\n",
    "            axs[col_idx].plot(s)\n",
    "            col_idx += 1\n",
    "    # Multirow case\n",
    "    else:\n",
    "        for s in series:\n",
    "            axs[row_idx, col_idx].plot(s)\n",
    "            col_idx += 1\n",
    "            if (col_idx == col_max):\n",
    "                row_idx += 1\n",
    "                col_idx = 0\n",
    "\n",
    "    # Hide extra panels\n",
    "    offset = col_max - del_cells\n",
    "    for i in range(0, del_cells):\n",
    "        axs[row_max-1, offset+i].axis('off')  \n"
   ]
  },
  {
   "cell_type": "code",
   "execution_count": 194,
   "metadata": {},
   "outputs": [],
   "source": [
    "def rebase_series(series, threshold=0, ret_idx = False, trim_idx = -1):\n",
    "    if (trim_idx == -1):\n",
    "        trim_idx = bisect.bisect_left(series, threshold)\n",
    "    trim_series = np.array(list(series[trim_idx:].values) + [np.nan]*trim_idx)\n",
    "    if ret_idx:\n",
    "        return trim_series, trim_idx\n",
    "    else:\n",
    "        return trim_series"
   ]
  },
  {
   "cell_type": "code",
   "execution_count": 195,
   "metadata": {},
   "outputs": [],
   "source": [
    "def threshold_plot(df,\n",
    "                   countries,\n",
    "                   threshold=25,\n",
    "                   x_lim=45,\n",
    "                   y_lim=None,\n",
    "                   log_var = False):\n",
    "    plt.rcParams.update({'font.size': 14})\n",
    "    plt.subplots_adjust(wspace=0.4)\n",
    "    fig, axs = plt.subplots(1, 2)\n",
    "    fig.set_size_inches(16, 8)\n",
    "    fig.suptitle(\"Cross Country comparisons of growth rates\")\n",
    "    \n",
    "    plot_var = \"deaths_total\"\n",
    "    if log_var:\n",
    "        threshold = math.log(threshold)\n",
    "    #plt.figure(figsize=(10,7))\n",
    "    #plt.title(f\"Total coronavirus deaths for places with at least {threshold} deaths\")\n",
    "    \n",
    "    deaths_threshold = 25\n",
    "    confirmed_threshold = 1000\n",
    "    \n",
    "    #y_ticks = [1, 2000-threshold, 5000-threshold, 20000-threshold]\n",
    "    #y_tick_labels = [threshold, 2000, 5000, 20000]\n",
    "#     max_region_st = 0\n",
    "    for c in countries:\n",
    "        country_df = df.loc[df[\"Country/Region\"]==c]\n",
    "        \n",
    "        deaths_rebase = rebase_series(country_df['deaths_total'], threshold=deaths_threshold)\n",
    "        axs[0].plot(deaths_rebase-deaths_threshold, label=c)\n",
    "        \n",
    "        confirmed_rebase = rebase_series(country_df['confirmed_total'], threshold=confirmed_threshold)\n",
    "        axs[1].plot(confirmed_rebase-confirmed_threshold, label=c)\n",
    "#         if region_st > max_region_st:\n",
    "#             max_region_st = region_st\n",
    "    #print(f\"region_st {len(region_st)}\")\n",
    "        x = np.linspace(0,len(region_st),len(region_st))\n",
    "\n",
    "        # Add scale lines\n",
    "    for idx in [0,1]:\n",
    "        axs[idx].plot(np.power(2,x), color=\"#666666\")\n",
    "        axs[idx].plot(np.power(2,x/2), color=\"#666666\")\n",
    "        axs[idx].plot(np.power(2,x/3), color=\"#666666\")\n",
    "        axs[idx].plot(np.power(2,x/7), color=\"#666666\")\n",
    "        axs[idx].plot(np.power(2,x/30), color=\"#666666\")\n",
    "        axs[idx].set_xlim((0,x_lim))\n",
    "        axs[idx].set_yscale(\"log\", basey=2)                                 \n",
    "        axs[idx].legend(loc=\"upper right\")                         \n",
    "        \n",
    "    axs[0].set_xlabel(f\"Days since {deaths_threshold}th death\")\n",
    "    axs[1].set_xlabel(f\"Days since {confirmed_threshold}th confirmed case\")\n",
    "\n",
    "    if y_lim is not None:\n",
    "        axs[0].set_ylim((1,y_lim))\n",
    "        axs[1].set_ylim((1,y_lim*8))\n",
    "\n",
    "    axs[0].set_title(f\"Total Deaths\")\n",
    "    axs[1].set_title(f\"Total Confirmed Cases\")\n",
    "\n",
    "    axs[0].set_yticks([1,100-deaths_threshold,200-deaths_threshold,500-deaths_threshold,\n",
    "                       1000-deaths_threshold,2000-deaths_threshold,5000-deaths_threshold,\n",
    "                       10_000-deaths_threshold,20_000-deaths_threshold])\n",
    "    axs[0].set_yticklabels([deaths_threshold,100,200,500,1000,2000,5000,10_000,20_000])\n",
    "\n",
    "    axs[1].set_yticks([1,#100-confirmed_threshold,200-confirmed_threshold,500-confirmed_threshold,\n",
    "                       2000-confirmed_threshold,5000-confirmed_threshold,\n",
    "                       10_000-confirmed_threshold,20_000-confirmed_threshold,50_000-confirmed_threshold,\n",
    "                       100_000-confirmed_threshold,200_000-confirmed_threshold,500_000-confirmed_threshold,\n",
    "                       1_000_000-confirmed_threshold])\n",
    "    axs[1].set_yticklabels([confirmed_threshold,2000,5000,10_000,20_000,50_000,100_000,\n",
    "                            200_000,500_000,1_000_000])\n",
    "    #axs[idx].get_yaxis().set_major_formatter(matplotlib.ticker.ScalarFormatter())\n",
    "    plt.savefig(f'figures/country_set_timeComp_{threshold}.png')\n",
    "#         plt.show()"
   ]
  },
  {
   "cell_type": "code",
   "execution_count": 196,
   "metadata": {},
   "outputs": [],
   "source": [
    "def plot_panel(axs, row_idx, col_idx, country_df, plot_vars, threshold, title, log_scale = False, mean_window=1):\n",
    "    first = True\n",
    "    for plot_var in plot_vars.keys():\n",
    "        if first:\n",
    "            series, trim_idx = rebase_series(country_df[plot_var], threshold=threshold, ret_idx = True)\n",
    "            first = False\n",
    "        else:\n",
    "            series = rebase_series(country_df[plot_var], trim_idx=trim_idx)\n",
    "        \n",
    "        series = pd.Series(series).rolling(window=mean_window).mean()\n",
    "        axs[row_idx, col_idx].plot(series, label=plot_vars[plot_var])\n",
    "    if log_scale:\n",
    "        axs[row_idx, col_idx].set_yscale(\"log\", basey=2)                                 \n",
    "    axs[row_idx, col_idx].set_title(title)\n",
    "    if row_idx == 1:\n",
    "        axs[row_idx, col_idx].set_xlabel(f\"Days since {threshold}th case\")\n",
    "    axs[row_idx, col_idx].legend(loc='upper left')"
   ]
  },
  {
   "cell_type": "code",
   "execution_count": 197,
   "metadata": {},
   "outputs": [],
   "source": [
    "def plot_country(full_df, country, threshold, mean_window=3):\n",
    "    fig, axs = plt.subplots(2, 2)\n",
    "    plt.rcParams.update({'font.size': 12})\n",
    "    #plt.subplots_adjust(wspace=0.4,hspace=1.3)\n",
    "    fig.set_size_inches(16, 10)\n",
    "    fig.suptitle(f'{country} :: Comparison over time')\n",
    "    country_df = full_df.loc[full_df[\"Country/Region\"]==country]\n",
    "    daily_vars = { 'confirmed' : \"New Cases\",\n",
    "                 'deaths' : \"New Deaths\",\n",
    "                 'recovered' : \"New Recovered\",\n",
    "                 'net_cases' : \"Net Cases\"    \n",
    "    }\n",
    "    plot_panel(axs, 0, 0, country_df, daily_vars, threshold, \n",
    "               \"Daily\", mean_window=mean_window)\n",
    "    plot_panel(axs, 1, 0, country_df, daily_vars, threshold, \n",
    "               \"Daily (Log)\", mean_window=mean_window, log_scale=True)\n",
    "    cum_vars = { 'confirmed_total' : \"Total Confirmed Cases\",\n",
    "                 'deaths_total' : \"Total Deaths\",\n",
    "                 'recovered_total' : \"Recovered\",\n",
    "                 'active_cases' : \"Active Cases\"    \n",
    "    }\n",
    "    plot_panel(axs, 0, 1, country_df, cum_vars, threshold,\n",
    "               \"Cumulative\")\n",
    "    plot_panel(axs, 1, 1, country_df, cum_vars, threshold,\n",
    "               \"Cumulative (Log)\", log_scale=True)\n",
    "    plt.savefig(f'figures/{country}_timeComp_{threshold}.png')"
   ]
  },
  {
   "cell_type": "code",
   "execution_count": 198,
   "metadata": {},
   "outputs": [],
   "source": [
    "def plot_country_list(full_df, countries, threshold=25):\n",
    "    for country in countries:\n",
    "        plot_country(full_df, country, threshold)"
   ]
  },
  {
   "cell_type": "code",
   "execution_count": 199,
   "metadata": {},
   "outputs": [],
   "source": [
    "def plot_log_growth(full_df, countries, mean_window=3, days=45):\n",
    "    #plot_var = 'deaths_log_growth'\n",
    "    #threshold= 0.5\n",
    "    # mean_window = 3\n",
    "    # days = 45\n",
    "\n",
    "    fig, axs = plt.subplots(1, 2)\n",
    "    plt.rcParams.update({'font.size': 12})\n",
    "    #plt.subplots_adjust(wspace=0.4,hspace=1.3)\n",
    "    fig.set_size_inches(16, 6)\n",
    "\n",
    "    labels = labels = [i * 15 for i in range(0, days // 15 + 1)]\n",
    "    for country in countries:\n",
    "        country_df = full_df.loc[full_df['Country/Region'] == country]\n",
    "        death_series = country_df['deaths_log_growth'].rolling(window=mean_window).mean()\n",
    "        confirmed_series = country_df['confirmed_log_growth'].rolling(window=mean_window).mean()\n",
    "        #series = rebase_series(country_df[plot_var], threshold=threshold)\n",
    "        axs[0].plot(death_series[-days:], label=country)\n",
    "        axs[1].plot(confirmed_series[-days:], label=country)\n",
    "    axs[0].set_title(f'Deaths :: Log Growth (last {days} days)')\n",
    "    axs[1].set_title(f'Confirmed Cases :: Log Growth (last {days} days)')\n",
    "    for idx in [0,1]:\n",
    "        axs[idx].set_xticks(labels)\n",
    "        axs[idx].set_xticklabels(labels)\n",
    "    axs[1].legend()\n",
    "    plt.savefig(f'figures/country_logGrowth_{days}.png')"
   ]
  },
  {
   "cell_type": "code",
   "execution_count": 200,
   "metadata": {},
   "outputs": [],
   "source": [
    "def plot_normalised(full_df, countries, mean_window=3, days=60):\n",
    "    fig, axs = plt.subplots(1, 2)\n",
    "    plt.rcParams.update({'font.size': 12})\n",
    "    #plt.subplots_adjust(wspace=0.4,hspace=1.3)\n",
    "    fig.set_size_inches(16, 6)\n",
    "\n",
    "    labels = [i * 15 for i in range(0, days // 15 + 1)]\n",
    "    for country in countries:\n",
    "        country_df = full_df.loc[full_df['Country/Region'] == country]\n",
    "        death_series = country_df['confirmed_total_norm']\n",
    "        confirmed_series = country_df['deaths_total_norm']\n",
    "        #series = rebase_series(country_df[plot_var], threshold=threshold)\n",
    "        axs[0].plot(death_series[-days:], label=country)\n",
    "        axs[1].plot(confirmed_series[-days:], label=country)\n",
    "    axs[0].set_title(f'Deaths, per Million population :: Log Growth (last {days} days)')\n",
    "    axs[1].set_title(f'Confirmed Cases, per Million population :: Log Growth (last {days} days)')\n",
    "    for idx in [0,1]:\n",
    "        axs[idx].set_yscale(\"log\", basey=10) \n",
    "        axs[idx].set_xticks(labels)\n",
    "        axs[idx].set_xticklabels(labels)\n",
    "    axs[1].legend()\n",
    "    plt.savefig(f'figures/country_normPop_{days}.png')"
   ]
  },
  {
   "cell_type": "markdown",
   "metadata": {},
   "source": [
    "## Fetch data"
   ]
  },
  {
   "cell_type": "code",
   "execution_count": 201,
   "metadata": {},
   "outputs": [],
   "source": [
    "set_warnings('default')"
   ]
  },
  {
   "cell_type": "code",
   "execution_count": 202,
   "metadata": {},
   "outputs": [
    {
     "name": "stdout",
     "output_type": "stream",
     "text": [
      "Refreshed at 2020-04-27 10:59:41.978766\n"
     ]
    }
   ],
   "source": [
    "reload_module(fetch_data)"
   ]
  },
  {
   "cell_type": "code",
   "execution_count": 208,
   "metadata": {
    "scrolled": false
   },
   "outputs": [
    {
     "name": "stdout",
     "output_type": "stream",
     "text": [
      ">> Purging cached files...\n",
      "\t+ File [ assets/full_df.csv ] not found. Cannot remove...\n",
      "\t+ File [ assets/merged_df_global.csv ] not found. Cannot remove...\n",
      "\t+ Removing file [ assets/coronaVirus_global.csv ]...\n",
      "\t+ File [ assets/coronaVirus_US.csv ] not found. Cannot remove...\n",
      "\t+ Removing file [ assets/ISO_codes.csv ]...\n",
      "\t+ File [ assets/wb_indicators.csv ] not found. Cannot remove...\n",
      ">> File [ merged_df_global.csv ] not found. Fetching...\n",
      ">> File [ coronaVirus_global.csv ] not found. Fetching...\n",
      ">> File [ ISO_codes.csv ] not found. Fetching...\n",
      ">> Before name fixes:\n",
      "\t+ [ Bahamas ] not found...\n",
      "\t+ [ Congo (Brazzaville) ] not found...\n",
      "\t+ [ Congo (Kinshasa) ] not found...\n",
      "\t+ [ Diamond Princess ] not found...\n",
      "\t+ [ Gambia ] not found...\n",
      "\t+ [ Holy See ] not found...\n",
      "\t+ [ Taiwan* ] not found...\n",
      "\t+ [ US ] not found...\n",
      "\t+ [ West Bank and Gaza ] not found...\n",
      "\t+ [ MS Zaandam ] not found...\n",
      ">> After name fixes:\n",
      "\t+ [ Other ] not found...\n",
      ">> Before summarise countries:\n",
      "\t+ [Australia] not found...\n",
      "\t+ [Canada] not found...\n",
      "\t+ [Other] not found...\n",
      "\t+ [China] not found...\n",
      ">> After summarise countries:\n",
      "\t+ No failures found.\n",
      ">> Fetching World Bank Indicators...\n",
      ">> File [ wb_indicators.csv ] not found. Fetching...\n",
      "Request URL [ https://api.worldbank.org/v2/country/all/indicator/SP.POP.TOTL?format=json&mrnev=1 ]\n",
      "Request URL [ https://api.worldbank.org/v2/country/all/indicator/NY.GDP.MKTP.CD?format=json&mrnev=1 ]\n",
      "Request URL [ https://api.worldbank.org/v2/country/all/indicator/SP.DYN.LE00.MA.IN?format=json&mrnev=1 ]\n",
      "Request URL [ https://api.worldbank.org/v2/country/all/indicator/SP.DYN.LE00.FE.IN?format=json&mrnev=1 ]\n",
      ">> Merging data...\n",
      "\t+ Saving to [ assets/merged_df_global.csv ]\n",
      ">> File [ full_df.csv ] not found. Fetching...\n",
      ">> Building full df...\n",
      "\t+ Complete.\n"
     ]
    }
   ],
   "source": [
    "full_df, cv_merged_df, iso_codes_df, indicator_df = fetch_data.fetch_all(purge=True)\n"
   ]
  },
  {
   "cell_type": "markdown",
   "metadata": {},
   "source": [
    "## Scratch coding"
   ]
  },
  {
   "cell_type": "code",
   "execution_count": null,
   "metadata": {},
   "outputs": [],
   "source": [
    "full_df['Date'].unique()[-1]"
   ]
  },
  {
   "cell_type": "code",
   "execution_count": null,
   "metadata": {},
   "outputs": [],
   "source": [
    "full_df.columns"
   ]
  },
  {
   "cell_type": "code",
   "execution_count": null,
   "metadata": {},
   "outputs": [],
   "source": [
    "country = \"China\"\n",
    "cum = False\n",
    "\n",
    "typeStr = 'Daily'\n",
    "\n",
    "confirmed = full_df.loc[full_df['Name']==country, [f'Confirmed ({typeStr}, percent)']]\n",
    "deaths = full_df.loc[full_df['Name']==country, [f'Deaths ({typeStr}, percent)']]\n",
    "active = full_df.loc[full_df['Name']==country, [f'Active ({typeStr}, percent)']]\n",
    "recovered = full_df.loc[full_df['Name']==country, [f'Recovered ({typeStr}, percent)']]\n",
    "\n",
    "plt.plot(confirmed, label='confirmed')\n",
    "plt.plot(deaths, label='deaths')\n",
    "plt.plot(active, label='active')\n",
    "plt.plot(recovered, label='recovered')\n",
    "plt.legend()"
   ]
  },
  {
   "cell_type": "code",
   "execution_count": null,
   "metadata": {},
   "outputs": [],
   "source": [
    "full_df.loc[(full_df['Date']=='22-04-2020') &\n",
    "            (full_df['Name'].isin(['China', 'Italy', 'Spain', 'United States']))]"
   ]
  },
  {
   "cell_type": "code",
   "execution_count": null,
   "metadata": {},
   "outputs": [],
   "source": [
    "first = True\n",
    "for date in list(full_df['Date'].unique()):\n",
    "    if first:\n",
    "        world_num = full_df.loc[(full_df['Name']=='World') &\n",
    "                (full_df['Date']==date), 'Confirmed (Daily)'].values[0]\n",
    "        deaths = full_df.loc[(full_df['Name']=='World') &\n",
    "                (full_df['Date']==date), 'Deaths (Daily)'].values[0]\n",
    "        recovered = full_df.loc[(full_df['Name']=='World') &\n",
    "                (full_df['Date']==date), 'Confirmed (Daily)'].values[0]\n",
    "        active = full_df.loc[(full_df['Name']=='World') &\n",
    "                (full_df['Date']==date), 'Confirmed (Daily)'].values[0]\n",
    "        first = False\n",
    "        \n",
    "print(var)"
   ]
  },
  {
   "cell_type": "code",
   "execution_count": null,
   "metadata": {},
   "outputs": [],
   "source": [
    "full_df.loc[(full_df['Name']=='World'), 'Confirmed (Daily)']"
   ]
  },
  {
   "cell_type": "code",
   "execution_count": null,
   "metadata": {},
   "outputs": [],
   "source": [
    "country ="
   ]
  },
  {
   "cell_type": "code",
   "execution_count": null,
   "metadata": {},
   "outputs": [],
   "source": [
    "full_df[full_df['Name']==]"
   ]
  },
  {
   "cell_type": "code",
   "execution_count": 120,
   "metadata": {},
   "outputs": [
    {
     "name": "stdout",
     "output_type": "stream",
     "text": [
      "confirmed_total\n",
      "deaths_total\n",
      "recovered_total\n",
      "Province/State\n",
      "Country/Region\n",
      "ISO3166_alpha2\n",
      "ISO3166_alpha3\n",
      "ISO3166_numeric\n",
      "Date\n",
      "population\n",
      "gdp_total\n",
      "lifeExp_male\n",
      "lifeExp_female\n",
      "DisplayName\n",
      "confirmed_daily\n",
      "deaths_daily\n",
      "recovered_daily\n",
      "active_daily\n",
      "active_total\n",
      "confirmed_total_norm\n",
      "deaths_total_norm\n",
      "recovered_total_norm\n",
      "active_total_norm\n",
      "confirmed_daily_norm\n",
      "deaths_daily_norm\n",
      "recovered_daily_norm\n",
      "active_daily_norm\n"
     ]
    }
   ],
   "source": [
    "for col in full_df.columns: print(col)"
   ]
  },
  {
   "cell_type": "code",
   "execution_count": 103,
   "metadata": {},
   "outputs": [
    {
     "data": {
      "text/plain": [
       "91                 Afghanistan\n",
       "183                    Albania\n",
       "275                    Algeria\n",
       "367                    Andorra\n",
       "459                     Angola\n",
       "                 ...          \n",
       "16559              South Sudan\n",
       "16651           Western Sahara\n",
       "16743    Sao Tome and Principe\n",
       "16835              Yemen, Rep.\n",
       "16927                    World\n",
       "Name: DisplayName, Length: 184, dtype: object"
      ]
     },
     "execution_count": 103,
     "metadata": {},
     "output_type": "execute_result"
    }
   ],
   "source": [
    "full_df.loc[full_df['Date']=='2020-04-22','DisplayName']"
   ]
  },
  {
   "cell_type": "code",
   "execution_count": 112,
   "metadata": {},
   "outputs": [],
   "source": [
    "new_df = fetch_data.generate_features(full_df)"
   ]
  },
  {
   "cell_type": "code",
   "execution_count": 114,
   "metadata": {},
   "outputs": [
    {
     "data": {
      "text/html": [
       "<div>\n",
       "<style scoped>\n",
       "    .dataframe tbody tr th:only-of-type {\n",
       "        vertical-align: middle;\n",
       "    }\n",
       "\n",
       "    .dataframe tbody tr th {\n",
       "        vertical-align: top;\n",
       "    }\n",
       "\n",
       "    .dataframe thead th {\n",
       "        text-align: right;\n",
       "    }\n",
       "</style>\n",
       "<table border=\"1\" class=\"dataframe\">\n",
       "  <thead>\n",
       "    <tr style=\"text-align: right;\">\n",
       "      <th></th>\n",
       "      <th>confirmed_total</th>\n",
       "      <th>deaths_total</th>\n",
       "      <th>recovered_total</th>\n",
       "      <th>Province/State</th>\n",
       "      <th>Country/Region</th>\n",
       "      <th>ISO3166_alpha2</th>\n",
       "      <th>ISO3166_alpha3</th>\n",
       "      <th>ISO3166_numeric</th>\n",
       "      <th>Date</th>\n",
       "      <th>population</th>\n",
       "      <th>...</th>\n",
       "      <th>active_daily</th>\n",
       "      <th>active_total</th>\n",
       "      <th>confirmed_total_norm</th>\n",
       "      <th>deaths_total_norm</th>\n",
       "      <th>recovered_total_norm</th>\n",
       "      <th>active_total_norm</th>\n",
       "      <th>confirmed_daily_norm</th>\n",
       "      <th>deaths_daily_norm</th>\n",
       "      <th>recovered_daily_norm</th>\n",
       "      <th>active_daily_norm</th>\n",
       "    </tr>\n",
       "  </thead>\n",
       "  <tbody>\n",
       "    <tr>\n",
       "      <th>91</th>\n",
       "      <td>1176.0</td>\n",
       "      <td>40.0</td>\n",
       "      <td>166.0</td>\n",
       "      <td>All</td>\n",
       "      <td>Afghanistan</td>\n",
       "      <td>AF</td>\n",
       "      <td>AFG</td>\n",
       "      <td>004</td>\n",
       "      <td>2020-04-22</td>\n",
       "      <td>3.717239e+07</td>\n",
       "      <td>...</td>\n",
       "      <td>64.0</td>\n",
       "      <td>970.0</td>\n",
       "      <td>3.163639e-05</td>\n",
       "      <td>1.076068e-06</td>\n",
       "      <td>4.465681e-06</td>\n",
       "      <td>2.609464e-05</td>\n",
       "      <td>2.259742e-06</td>\n",
       "      <td>1.076068e-07</td>\n",
       "      <td>4.304270e-07</td>\n",
       "      <td>1.721708e-06</td>\n",
       "    </tr>\n",
       "    <tr>\n",
       "      <th>183</th>\n",
       "      <td>634.0</td>\n",
       "      <td>27.0</td>\n",
       "      <td>356.0</td>\n",
       "      <td>All</td>\n",
       "      <td>Albania</td>\n",
       "      <td>AL</td>\n",
       "      <td>ALB</td>\n",
       "      <td>008</td>\n",
       "      <td>2020-04-22</td>\n",
       "      <td>2.866376e+06</td>\n",
       "      <td>...</td>\n",
       "      <td>13.0</td>\n",
       "      <td>251.0</td>\n",
       "      <td>2.211852e-04</td>\n",
       "      <td>9.419560e-06</td>\n",
       "      <td>1.241986e-04</td>\n",
       "      <td>8.756702e-05</td>\n",
       "      <td>8.721815e-06</td>\n",
       "      <td>3.488726e-07</td>\n",
       "      <td>3.837598e-06</td>\n",
       "      <td>4.535344e-06</td>\n",
       "    </tr>\n",
       "    <tr>\n",
       "      <th>275</th>\n",
       "      <td>2910.0</td>\n",
       "      <td>402.0</td>\n",
       "      <td>1204.0</td>\n",
       "      <td>All</td>\n",
       "      <td>Algeria</td>\n",
       "      <td>DZ</td>\n",
       "      <td>DZA</td>\n",
       "      <td>012</td>\n",
       "      <td>2020-04-22</td>\n",
       "      <td>4.222843e+07</td>\n",
       "      <td>...</td>\n",
       "      <td>37.0</td>\n",
       "      <td>1304.0</td>\n",
       "      <td>6.891092e-05</td>\n",
       "      <td>9.519653e-06</td>\n",
       "      <td>2.851160e-05</td>\n",
       "      <td>3.087967e-05</td>\n",
       "      <td>2.344392e-06</td>\n",
       "      <td>2.368073e-07</td>\n",
       "      <td>1.231398e-06</td>\n",
       "      <td>8.761870e-07</td>\n",
       "    </tr>\n",
       "    <tr>\n",
       "      <th>367</th>\n",
       "      <td>723.0</td>\n",
       "      <td>37.0</td>\n",
       "      <td>309.0</td>\n",
       "      <td>All</td>\n",
       "      <td>Andorra</td>\n",
       "      <td>AD</td>\n",
       "      <td>AND</td>\n",
       "      <td>020</td>\n",
       "      <td>2020-04-22</td>\n",
       "      <td>7.700600e+04</td>\n",
       "      <td>...</td>\n",
       "      <td>-21.0</td>\n",
       "      <td>377.0</td>\n",
       "      <td>9.388879e-03</td>\n",
       "      <td>4.804820e-04</td>\n",
       "      <td>4.012674e-03</td>\n",
       "      <td>4.895722e-03</td>\n",
       "      <td>7.791601e-05</td>\n",
       "      <td>0.000000e+00</td>\n",
       "      <td>3.506220e-04</td>\n",
       "      <td>-2.727060e-04</td>\n",
       "    </tr>\n",
       "    <tr>\n",
       "      <th>459</th>\n",
       "      <td>25.0</td>\n",
       "      <td>2.0</td>\n",
       "      <td>6.0</td>\n",
       "      <td>All</td>\n",
       "      <td>Angola</td>\n",
       "      <td>AO</td>\n",
       "      <td>AGO</td>\n",
       "      <td>024</td>\n",
       "      <td>2020-04-22</td>\n",
       "      <td>3.080976e+07</td>\n",
       "      <td>...</td>\n",
       "      <td>1.0</td>\n",
       "      <td>17.0</td>\n",
       "      <td>8.114311e-07</td>\n",
       "      <td>6.491449e-08</td>\n",
       "      <td>1.947435e-07</td>\n",
       "      <td>5.517732e-07</td>\n",
       "      <td>3.245725e-08</td>\n",
       "      <td>0.000000e+00</td>\n",
       "      <td>0.000000e+00</td>\n",
       "      <td>3.245725e-08</td>\n",
       "    </tr>\n",
       "    <tr>\n",
       "      <th>...</th>\n",
       "      <td>...</td>\n",
       "      <td>...</td>\n",
       "      <td>...</td>\n",
       "      <td>...</td>\n",
       "      <td>...</td>\n",
       "      <td>...</td>\n",
       "      <td>...</td>\n",
       "      <td>...</td>\n",
       "      <td>...</td>\n",
       "      <td>...</td>\n",
       "      <td>...</td>\n",
       "      <td>...</td>\n",
       "      <td>...</td>\n",
       "      <td>...</td>\n",
       "      <td>...</td>\n",
       "      <td>...</td>\n",
       "      <td>...</td>\n",
       "      <td>...</td>\n",
       "      <td>...</td>\n",
       "      <td>...</td>\n",
       "      <td>...</td>\n",
       "    </tr>\n",
       "    <tr>\n",
       "      <th>16559</th>\n",
       "      <td>4.0</td>\n",
       "      <td>0.0</td>\n",
       "      <td>0.0</td>\n",
       "      <td>All</td>\n",
       "      <td>South Sudan</td>\n",
       "      <td>SS</td>\n",
       "      <td>SSD</td>\n",
       "      <td>728</td>\n",
       "      <td>2020-04-22</td>\n",
       "      <td>1.097592e+07</td>\n",
       "      <td>...</td>\n",
       "      <td>0.0</td>\n",
       "      <td>4.0</td>\n",
       "      <td>3.644341e-07</td>\n",
       "      <td>0.000000e+00</td>\n",
       "      <td>0.000000e+00</td>\n",
       "      <td>3.644341e-07</td>\n",
       "      <td>0.000000e+00</td>\n",
       "      <td>0.000000e+00</td>\n",
       "      <td>0.000000e+00</td>\n",
       "      <td>0.000000e+00</td>\n",
       "    </tr>\n",
       "    <tr>\n",
       "      <th>16651</th>\n",
       "      <td>6.0</td>\n",
       "      <td>0.0</td>\n",
       "      <td>0.0</td>\n",
       "      <td>All</td>\n",
       "      <td>Western Sahara</td>\n",
       "      <td>EH</td>\n",
       "      <td>ESH</td>\n",
       "      <td>732</td>\n",
       "      <td>2020-04-22</td>\n",
       "      <td>NaN</td>\n",
       "      <td>...</td>\n",
       "      <td>0.0</td>\n",
       "      <td>6.0</td>\n",
       "      <td>NaN</td>\n",
       "      <td>NaN</td>\n",
       "      <td>NaN</td>\n",
       "      <td>NaN</td>\n",
       "      <td>NaN</td>\n",
       "      <td>NaN</td>\n",
       "      <td>NaN</td>\n",
       "      <td>NaN</td>\n",
       "    </tr>\n",
       "    <tr>\n",
       "      <th>16743</th>\n",
       "      <td>4.0</td>\n",
       "      <td>0.0</td>\n",
       "      <td>0.0</td>\n",
       "      <td>All</td>\n",
       "      <td>Sao Tome and Principe</td>\n",
       "      <td>ST</td>\n",
       "      <td>STP</td>\n",
       "      <td>678</td>\n",
       "      <td>2020-04-22</td>\n",
       "      <td>2.110280e+05</td>\n",
       "      <td>...</td>\n",
       "      <td>0.0</td>\n",
       "      <td>4.0</td>\n",
       "      <td>1.895483e-05</td>\n",
       "      <td>0.000000e+00</td>\n",
       "      <td>0.000000e+00</td>\n",
       "      <td>1.895483e-05</td>\n",
       "      <td>0.000000e+00</td>\n",
       "      <td>0.000000e+00</td>\n",
       "      <td>0.000000e+00</td>\n",
       "      <td>0.000000e+00</td>\n",
       "    </tr>\n",
       "    <tr>\n",
       "      <th>16835</th>\n",
       "      <td>1.0</td>\n",
       "      <td>0.0</td>\n",
       "      <td>0.0</td>\n",
       "      <td>All</td>\n",
       "      <td>Yemen</td>\n",
       "      <td>YE</td>\n",
       "      <td>YEM</td>\n",
       "      <td>887</td>\n",
       "      <td>2020-04-22</td>\n",
       "      <td>2.849869e+07</td>\n",
       "      <td>...</td>\n",
       "      <td>0.0</td>\n",
       "      <td>1.0</td>\n",
       "      <td>3.508934e-08</td>\n",
       "      <td>0.000000e+00</td>\n",
       "      <td>0.000000e+00</td>\n",
       "      <td>3.508934e-08</td>\n",
       "      <td>0.000000e+00</td>\n",
       "      <td>0.000000e+00</td>\n",
       "      <td>0.000000e+00</td>\n",
       "      <td>0.000000e+00</td>\n",
       "    </tr>\n",
       "    <tr>\n",
       "      <th>16927</th>\n",
       "      <td>2619900.0</td>\n",
       "      <td>182914.0</td>\n",
       "      <td>707408.0</td>\n",
       "      <td>All</td>\n",
       "      <td>World</td>\n",
       "      <td>WL</td>\n",
       "      <td>WLD</td>\n",
       "      <td>000</td>\n",
       "      <td>2020-04-22</td>\n",
       "      <td>7.509056e+09</td>\n",
       "      <td>...</td>\n",
       "      <td>37889.0</td>\n",
       "      <td>1729578.0</td>\n",
       "      <td>3.488987e-04</td>\n",
       "      <td>2.435912e-05</td>\n",
       "      <td>9.420732e-05</td>\n",
       "      <td>2.303323e-04</td>\n",
       "      <td>9.867286e-06</td>\n",
       "      <td>8.566989e-07</td>\n",
       "      <td>3.964813e-06</td>\n",
       "      <td>5.045774e-06</td>\n",
       "    </tr>\n",
       "  </tbody>\n",
       "</table>\n",
       "<p>184 rows × 27 columns</p>\n",
       "</div>"
      ],
      "text/plain": [
       "       confirmed_total  deaths_total  recovered_total Province/State  \\\n",
       "91              1176.0          40.0            166.0            All   \n",
       "183              634.0          27.0            356.0            All   \n",
       "275             2910.0         402.0           1204.0            All   \n",
       "367              723.0          37.0            309.0            All   \n",
       "459               25.0           2.0              6.0            All   \n",
       "...                ...           ...              ...            ...   \n",
       "16559              4.0           0.0              0.0            All   \n",
       "16651              6.0           0.0              0.0            All   \n",
       "16743              4.0           0.0              0.0            All   \n",
       "16835              1.0           0.0              0.0            All   \n",
       "16927        2619900.0      182914.0         707408.0            All   \n",
       "\n",
       "              Country/Region ISO3166_alpha2 ISO3166_alpha3 ISO3166_numeric  \\\n",
       "91               Afghanistan             AF            AFG             004   \n",
       "183                  Albania             AL            ALB             008   \n",
       "275                  Algeria             DZ            DZA             012   \n",
       "367                  Andorra             AD            AND             020   \n",
       "459                   Angola             AO            AGO             024   \n",
       "...                      ...            ...            ...             ...   \n",
       "16559            South Sudan             SS            SSD             728   \n",
       "16651         Western Sahara             EH            ESH             732   \n",
       "16743  Sao Tome and Principe             ST            STP             678   \n",
       "16835                  Yemen             YE            YEM             887   \n",
       "16927                  World             WL            WLD             000   \n",
       "\n",
       "            Date    population  ...  active_daily  active_total  \\\n",
       "91    2020-04-22  3.717239e+07  ...          64.0         970.0   \n",
       "183   2020-04-22  2.866376e+06  ...          13.0         251.0   \n",
       "275   2020-04-22  4.222843e+07  ...          37.0        1304.0   \n",
       "367   2020-04-22  7.700600e+04  ...         -21.0         377.0   \n",
       "459   2020-04-22  3.080976e+07  ...           1.0          17.0   \n",
       "...          ...           ...  ...           ...           ...   \n",
       "16559 2020-04-22  1.097592e+07  ...           0.0           4.0   \n",
       "16651 2020-04-22           NaN  ...           0.0           6.0   \n",
       "16743 2020-04-22  2.110280e+05  ...           0.0           4.0   \n",
       "16835 2020-04-22  2.849869e+07  ...           0.0           1.0   \n",
       "16927 2020-04-22  7.509056e+09  ...       37889.0     1729578.0   \n",
       "\n",
       "       confirmed_total_norm deaths_total_norm  recovered_total_norm  \\\n",
       "91             3.163639e-05      1.076068e-06          4.465681e-06   \n",
       "183            2.211852e-04      9.419560e-06          1.241986e-04   \n",
       "275            6.891092e-05      9.519653e-06          2.851160e-05   \n",
       "367            9.388879e-03      4.804820e-04          4.012674e-03   \n",
       "459            8.114311e-07      6.491449e-08          1.947435e-07   \n",
       "...                     ...               ...                   ...   \n",
       "16559          3.644341e-07      0.000000e+00          0.000000e+00   \n",
       "16651                   NaN               NaN                   NaN   \n",
       "16743          1.895483e-05      0.000000e+00          0.000000e+00   \n",
       "16835          3.508934e-08      0.000000e+00          0.000000e+00   \n",
       "16927          3.488987e-04      2.435912e-05          9.420732e-05   \n",
       "\n",
       "       active_total_norm  confirmed_daily_norm  deaths_daily_norm  \\\n",
       "91          2.609464e-05          2.259742e-06       1.076068e-07   \n",
       "183         8.756702e-05          8.721815e-06       3.488726e-07   \n",
       "275         3.087967e-05          2.344392e-06       2.368073e-07   \n",
       "367         4.895722e-03          7.791601e-05       0.000000e+00   \n",
       "459         5.517732e-07          3.245725e-08       0.000000e+00   \n",
       "...                  ...                   ...                ...   \n",
       "16559       3.644341e-07          0.000000e+00       0.000000e+00   \n",
       "16651                NaN                   NaN                NaN   \n",
       "16743       1.895483e-05          0.000000e+00       0.000000e+00   \n",
       "16835       3.508934e-08          0.000000e+00       0.000000e+00   \n",
       "16927       2.303323e-04          9.867286e-06       8.566989e-07   \n",
       "\n",
       "       recovered_daily_norm  active_daily_norm  \n",
       "91             4.304270e-07       1.721708e-06  \n",
       "183            3.837598e-06       4.535344e-06  \n",
       "275            1.231398e-06       8.761870e-07  \n",
       "367            3.506220e-04      -2.727060e-04  \n",
       "459            0.000000e+00       3.245725e-08  \n",
       "...                     ...                ...  \n",
       "16559          0.000000e+00       0.000000e+00  \n",
       "16651                   NaN                NaN  \n",
       "16743          0.000000e+00       0.000000e+00  \n",
       "16835          0.000000e+00       0.000000e+00  \n",
       "16927          3.964813e-06       5.045774e-06  \n",
       "\n",
       "[184 rows x 27 columns]"
      ]
     },
     "execution_count": 114,
     "metadata": {},
     "output_type": "execute_result"
    }
   ],
   "source": [
    "new_df.loc[new_df['Date']=='2020-04-22']"
   ]
  },
  {
   "cell_type": "code",
   "execution_count": 71,
   "metadata": {},
   "outputs": [
    {
     "data": {
      "text/plain": [
       "Index(['Country/Region', 'Province/State', 'ISO3166:2', 'ISO3166:3',\n",
       "       'ISO3166:#', 'Name', 'Population', 'GDP (Total)',\n",
       "       'Life Expectancy (Male)', 'Life Expectancy (Female)', 'Date',\n",
       "       'Confirmed (Total)', 'Deaths (Total)', 'Recovered (Total)',\n",
       "       'Active (Total)', 'Confirmed (Total, normalised)',\n",
       "       'Deaths (Total, normalised)', 'Recovered (Total, normalised)',\n",
       "       'Confirmed (Total, log)', 'Deaths (Total, log)',\n",
       "       'Recovered (Total, log)', 'Confirmed (Daily)', 'Deaths (Daily)',\n",
       "       'Recovered (Daily)', 'Net Cases (Daily)', 'Confirmed (Daily, log)',\n",
       "       'Deaths (Daily, log)', 'Recovered (Daily, log)',\n",
       "       'Confirmed (Daily, log growth)', 'Deaths (Daily, log growth)',\n",
       "       'Recovered (Daily, log growth)'],\n",
       "      dtype='object')"
      ]
     },
     "execution_count": 71,
     "metadata": {},
     "output_type": "execute_result"
    }
   ],
   "source": [
    "full_df.columns"
   ]
  },
  {
   "cell_type": "code",
   "execution_count": 88,
   "metadata": {},
   "outputs": [
    {
     "data": {
      "text/plain": [
       "[16, 105, 137, 141, 155]"
      ]
     },
     "execution_count": 88,
     "metadata": {},
     "output_type": "execute_result"
    }
   ],
   "source": [
    "search_list = ['United States', 'Belgium', 'Spain', 'Sweden', 'Netherlands']\n",
    "search_col = 'Name'\n",
    "reverse_lookup_col_idx(search_list, search_col)"
   ]
  },
  {
   "cell_type": "code",
   "execution_count": 87,
   "metadata": {},
   "outputs": [],
   "source": [
    "def reverse_lookup_col_idx(search_list, search_col):\n",
    "    s = pd.Series(full_df[search_col].unique()).isin(search_list)\n",
    "    return list(s[s].index)"
   ]
  },
  {
   "cell_type": "code",
   "execution_count": 70,
   "metadata": {},
   "outputs": [
    {
     "name": "stdout",
     "output_type": "stream",
     "text": [
      "0:Afghanistan\n",
      "1:Albania\n",
      "2:Algeria\n",
      "3:Andorra\n",
      "4:Angola\n",
      "5:Antigua and Barbuda\n",
      "6:Argentina\n",
      "7:Armenia\n",
      "8:Australia\n",
      "9:Austria\n",
      "10:Azerbaijan\n",
      "11:Bahamas, The\n",
      "12:Bahrain\n",
      "13:Bangladesh\n",
      "14:Barbados\n",
      "15:Belarus\n",
      "16:Belgium\n",
      "17:Benin\n",
      "18:Bhutan\n",
      "19:Bolivia\n",
      "20:Bosnia and Herzegovina\n",
      "21:Brazil\n",
      "22:Brunei Darussalam\n",
      "23:Bulgaria\n",
      "24:Burkina Faso\n",
      "25:Cabo Verde\n",
      "26:Cambodia\n",
      "27:Cameroon\n",
      "28:Canada\n",
      "29:Central African Republic\n",
      "30:Chad\n",
      "31:Chile\n",
      "32:China\n",
      "33:Colombia\n",
      "34:Congo, Rep.\n",
      "35:Congo, Dem. Rep.\n",
      "36:Costa Rica\n",
      "37:Cote d'Ivoire\n",
      "38:Croatia\n",
      "39:Cuba\n",
      "40:Cyprus\n",
      "41:Czech Republic\n",
      "42:Denmark\n",
      "43:Djibouti\n",
      "44:Dominican Republic\n",
      "45:Ecuador\n",
      "46:Egypt, Arab Rep.\n",
      "47:El Salvador\n",
      "48:Equatorial Guinea\n",
      "49:Eritrea\n",
      "50:Estonia\n",
      "51:Eswatini\n",
      "52:Ethiopia\n",
      "53:Fiji\n",
      "54:Finland\n",
      "55:France\n",
      "56:Gabon\n",
      "57:Gambia, The\n",
      "58:Georgia\n",
      "59:Germany\n",
      "60:Ghana\n",
      "61:Greece\n",
      "62:Guatemala\n",
      "63:Guinea\n",
      "64:Guyana\n",
      "65:Haiti\n",
      "66:Holy See (Vatican City)\n",
      "67:Honduras\n",
      "68:Hungary\n",
      "69:Iceland\n",
      "70:India\n",
      "71:Indonesia\n",
      "72:Iran, Islamic Rep.\n",
      "73:Iraq\n",
      "74:Ireland\n",
      "75:Israel\n",
      "76:Italy\n",
      "77:Jamaica\n",
      "78:Japan\n",
      "79:Jordan\n",
      "80:Kazakhstan\n",
      "81:Kenya\n",
      "82:Korea, Rep.\n",
      "83:Kuwait\n",
      "84:Kyrgyz Republic\n",
      "85:Latvia\n",
      "86:Lebanon\n",
      "87:Liberia\n",
      "88:Liechtenstein\n",
      "89:Lithuania\n",
      "90:Luxembourg\n",
      "91:Madagascar\n",
      "92:Malaysia\n",
      "93:Maldives\n",
      "94:Malta\n",
      "95:Mauritania\n",
      "96:Mauritius\n",
      "97:Mexico\n",
      "98:Moldova\n",
      "99:Monaco\n",
      "100:Mongolia\n",
      "101:Montenegro\n",
      "102:Morocco\n",
      "103:Namibia\n",
      "104:Nepal\n",
      "105:Netherlands\n",
      "106:New Zealand\n",
      "107:Nicaragua\n",
      "108:Niger\n",
      "109:Nigeria\n",
      "110:North Macedonia\n",
      "111:Norway\n",
      "112:Oman\n",
      "113:Pakistan\n",
      "114:Panama\n",
      "115:Papua New Guinea\n",
      "116:Paraguay\n",
      "117:Peru\n",
      "118:Philippines\n",
      "119:Poland\n",
      "120:Portugal\n",
      "121:Qatar\n",
      "122:Romania\n",
      "123:Russian Federation\n",
      "124:Rwanda\n",
      "125:St. Lucia\n",
      "126:St. Vincent and the Grenadines\n",
      "127:San Marino\n",
      "128:Saudi Arabia\n",
      "129:Senegal\n",
      "130:Serbia\n",
      "131:Seychelles\n",
      "132:Singapore\n",
      "133:Slovak Republic\n",
      "134:Slovenia\n",
      "135:Somalia\n",
      "136:South Africa\n",
      "137:Spain\n",
      "138:Sri Lanka\n",
      "139:Sudan\n",
      "140:Suriname\n",
      "141:Sweden\n",
      "142:Switzerland\n",
      "143:Taiwan\n",
      "144:Tanzania\n",
      "145:Thailand\n",
      "146:Togo\n",
      "147:Trinidad and Tobago\n",
      "148:Tunisia\n",
      "149:Turkey\n",
      "150:Uganda\n",
      "151:Ukraine\n",
      "152:United Arab Emirates\n",
      "153:United Kingdom\n",
      "154:Uruguay\n",
      "155:United States\n",
      "156:Uzbekistan\n",
      "157:Venezuela, RB\n",
      "158:Vietnam\n",
      "159:Zambia\n",
      "160:Zimbabwe\n",
      "161:Dominica\n",
      "162:Grenada\n",
      "163:Mozambique\n",
      "164:Syrian Arab Republic\n",
      "165:Timor-Leste\n",
      "166:Belize\n",
      "167:Lao PDR\n",
      "168:Libya\n",
      "169:West Bank and Gaza\n",
      "170:Guinea-Bissau\n",
      "171:Mali\n",
      "172:St. Kitts and Nevis\n",
      "173:Kosovo\n",
      "174:Myanmar\n",
      "175:Botswana\n",
      "176:Burundi\n",
      "177:Sierra Leone\n",
      "178:Malawi\n",
      "179:South Sudan\n",
      "180:Western Sahara\n",
      "181:Sao Tome and Principe\n",
      "182:Yemen, Rep.\n",
      "183:World\n"
     ]
    },
    {
     "data": {
      "text/plain": [
       "[None,\n",
       " None,\n",
       " None,\n",
       " None,\n",
       " None,\n",
       " None,\n",
       " None,\n",
       " None,\n",
       " None,\n",
       " None,\n",
       " None,\n",
       " None,\n",
       " None,\n",
       " None,\n",
       " None,\n",
       " None,\n",
       " None,\n",
       " None,\n",
       " None,\n",
       " None,\n",
       " None,\n",
       " None,\n",
       " None,\n",
       " None,\n",
       " None,\n",
       " None,\n",
       " None,\n",
       " None,\n",
       " None,\n",
       " None,\n",
       " None,\n",
       " None,\n",
       " None,\n",
       " None,\n",
       " None,\n",
       " None,\n",
       " None,\n",
       " None,\n",
       " None,\n",
       " None,\n",
       " None,\n",
       " None,\n",
       " None,\n",
       " None,\n",
       " None,\n",
       " None,\n",
       " None,\n",
       " None,\n",
       " None,\n",
       " None,\n",
       " None,\n",
       " None,\n",
       " None,\n",
       " None,\n",
       " None,\n",
       " None,\n",
       " None,\n",
       " None,\n",
       " None,\n",
       " None,\n",
       " None,\n",
       " None,\n",
       " None,\n",
       " None,\n",
       " None,\n",
       " None,\n",
       " None,\n",
       " None,\n",
       " None,\n",
       " None,\n",
       " None,\n",
       " None,\n",
       " None,\n",
       " None,\n",
       " None,\n",
       " None,\n",
       " None,\n",
       " None,\n",
       " None,\n",
       " None,\n",
       " None,\n",
       " None,\n",
       " None,\n",
       " None,\n",
       " None,\n",
       " None,\n",
       " None,\n",
       " None,\n",
       " None,\n",
       " None,\n",
       " None,\n",
       " None,\n",
       " None,\n",
       " None,\n",
       " None,\n",
       " None,\n",
       " None,\n",
       " None,\n",
       " None,\n",
       " None,\n",
       " None,\n",
       " None,\n",
       " None,\n",
       " None,\n",
       " None,\n",
       " None,\n",
       " None,\n",
       " None,\n",
       " None,\n",
       " None,\n",
       " None,\n",
       " None,\n",
       " None,\n",
       " None,\n",
       " None,\n",
       " None,\n",
       " None,\n",
       " None,\n",
       " None,\n",
       " None,\n",
       " None,\n",
       " None,\n",
       " None,\n",
       " None,\n",
       " None,\n",
       " None,\n",
       " None,\n",
       " None,\n",
       " None,\n",
       " None,\n",
       " None,\n",
       " None,\n",
       " None,\n",
       " None,\n",
       " None,\n",
       " None,\n",
       " None,\n",
       " None,\n",
       " None,\n",
       " None,\n",
       " None,\n",
       " None,\n",
       " None,\n",
       " None,\n",
       " None,\n",
       " None,\n",
       " None,\n",
       " None,\n",
       " None,\n",
       " None,\n",
       " None,\n",
       " None,\n",
       " None,\n",
       " None,\n",
       " None,\n",
       " None,\n",
       " None,\n",
       " None,\n",
       " None,\n",
       " None,\n",
       " None,\n",
       " None,\n",
       " None,\n",
       " None,\n",
       " None,\n",
       " None,\n",
       " None,\n",
       " None,\n",
       " None,\n",
       " None,\n",
       " None,\n",
       " None,\n",
       " None,\n",
       " None,\n",
       " None,\n",
       " None,\n",
       " None,\n",
       " None,\n",
       " None,\n",
       " None,\n",
       " None,\n",
       " None,\n",
       " None,\n",
       " None]"
      ]
     },
     "execution_count": 70,
     "metadata": {},
     "output_type": "execute_result"
    }
   ],
   "source": [
    "[print(f\"{idx}:{country}\") for idx, country in enumerate(full_df['Name'].unique())]\n"
   ]
  },
  {
   "cell_type": "code",
   "execution_count": 60,
   "metadata": {},
   "outputs": [
    {
     "data": {
      "text/plain": [
       "['VAT', 'TWN', 'XKS', 'ESH']"
      ]
     },
     "execution_count": 60,
     "metadata": {},
     "output_type": "execute_result"
    }
   ],
   "source": [
    "list(full_df.loc[full_df['Name'].isna(), 'ISO3166:3'].unique())"
   ]
  },
  {
   "cell_type": "code",
   "execution_count": 64,
   "metadata": {},
   "outputs": [
    {
     "data": {
      "text/plain": [
       "68632    Kosovo\n",
       "68635    Kosovo\n",
       "68638    Kosovo\n",
       "68641    Kosovo\n",
       "68644    Kosovo\n",
       "          ...  \n",
       "68893    Kosovo\n",
       "68896    Kosovo\n",
       "68899    Kosovo\n",
       "68902    Kosovo\n",
       "68905    Kosovo\n",
       "Name: Country/Region, Length: 92, dtype: object"
      ]
     },
     "execution_count": 64,
     "metadata": {},
     "output_type": "execute_result"
    }
   ],
   "source": [
    "full_df.loc[full_df[\"ISO3166:3\"] == 'XKS', \"Country/Region\"]"
   ]
  },
  {
   "cell_type": "code",
   "execution_count": null,
   "metadata": {},
   "outputs": [],
   "source": [
    "Holy See (Vatican City)\n",
    "Western Sahara"
   ]
  },
  {
   "cell_type": "code",
   "execution_count": 42,
   "metadata": {},
   "outputs": [],
   "source": [
    "# full_df.loc[full_df[\"ISO3166:3\"] == 'WLD','DisplayName'] = 'World'"
   ]
  },
  {
   "cell_type": "code",
   "execution_count": 48,
   "metadata": {},
   "outputs": [
    {
     "data": {
      "text/plain": [
       "71392    World\n",
       "71395    World\n",
       "71398    World\n",
       "71401    World\n",
       "71404    World\n",
       "         ...  \n",
       "71653    World\n",
       "71656    World\n",
       "71659    World\n",
       "71662    World\n",
       "71665    World\n",
       "Name: Name, Length: 92, dtype: object"
      ]
     },
     "execution_count": 48,
     "metadata": {},
     "output_type": "execute_result"
    }
   ],
   "source": [
    "full_df.loc[full_df[\"ISO3166:3\"] == 'WLD','Name']"
   ]
  },
  {
   "cell_type": "code",
   "execution_count": 28,
   "metadata": {},
   "outputs": [],
   "source": [
    "# fetch_data.map_name_to_ISOcode('World')\n",
    "\n",
    "# continents = pd.read_csv('assets/country_continent.csv')\n",
    "\n",
    "# continents.head()"
   ]
  },
  {
   "cell_type": "markdown",
   "metadata": {},
   "source": [
    "---\n",
    "Fetch global corona virus numbers"
   ]
  },
  {
   "cell_type": "code",
   "execution_count": 22,
   "metadata": {},
   "outputs": [],
   "source": [
    "# PROJECT_FOLDER = '/Users/richie/Dropbox/Records/Education/2019-20_BGSE_MScDataScience/Modules/DS_Trimester02/DataVisualisation/PartB/Project/dashboard/minimal_dash_flask'\n",
    "# # APP_PATH = \"dashboard/minimal_dash_flask/\"\n",
    "# if os.getcwd() != PROJECT_FOLDER:\n",
    "#     #os.chdir(APP_PATH)\n",
    "#     os.chdir(PROJECT_FOLDER)\n",
    "    "
   ]
  },
  {
   "cell_type": "code",
   "execution_count": 23,
   "metadata": {},
   "outputs": [
    {
     "data": {
      "text/plain": [
       "'/Users/richie/Dropbox/Records/Education/2019-20_BGSE_MScDataScience/Modules/DS_Trimester03/DS_MastersProject/dashboard/cv_dashboard'"
      ]
     },
     "execution_count": 23,
     "metadata": {},
     "output_type": "execute_result"
    }
   ],
   "source": [
    "os.getcwd()"
   ]
  },
  {
   "cell_type": "code",
   "execution_count": 24,
   "metadata": {},
   "outputs": [],
   "source": [
    "# cc  = coco.CountryConverter()\n",
    "\n",
    "# cc.valid_class\n",
    "\n",
    "# oecd = set(cc.data.loc[~cc.data['OECD'].isna(),'name_short'])\n",
    "\n",
    "# other_high_income = set(cc.data.loc[cc.data['Cecilia2050'] == 'HI', 'name_short'])\n",
    "\n",
    "# eu = cc.data.loc[cc.data['Cecilia2050'] == 'EU', 'name_short']\n",
    "\n",
    "# other_high_income - oecd\n",
    "\n",
    "# oecd\n",
    "\n",
    "# oecd - other_high_income.union(eu)\n",
    "\n",
    "# cc.data['Cecilia2050'].unique()\n",
    "\n",
    "\n",
    "# cc.data.columns\n",
    "\n",
    "# # cc.data.loc[cc.data['Cecilia2050'] == 'EU', 'name_short'] # European Union\n",
    "# # cc.data.loc[cc.data['Cecilia2050'] == 'HI', 'name_short'] # Other High Income\n",
    "# # cc.data.loc[cc.data['Cecilia2050'] == 'BX', 'name_short'] # Emerging markets, BRICS+\n",
    "# # cc.data.loc[cc.data['Cecilia2050'] == 'RoW', 'name_short'] # Rest of World\n",
    "\n",
    "\n",
    "# # EU : European Union\n",
    "# # HI : Other High Income\n",
    "# # BX : Emerging Markets\n",
    "# # RoW : Rest of World\n",
    "\n",
    "# cc.OECDas('ISO3')\n",
    "\n",
    "# cc.EU28as('ISO3')\n",
    "\n",
    "# # country = 'Afghanistan'\n",
    "# # m_df = cv_merged_df.copy()\n",
    "\n",
    "# # first_date = m_df.columns.get_loc(\"1/22/20\")\n",
    "# # sf = m_df.loc[(m_df['Country/Region'] == country) &\n",
    "# #                     (m_df['Province/State'].isna())]\n",
    "# # sf = sf.iloc[:,first_date:].T\n",
    "\n",
    "# # sf['Country/Region'] = country\n",
    "# # codes = map_name_to_ISOcode(country)\n",
    "# # sf['ISO3166_alpha2'] = codes[0]\n",
    "# # sf['ISO3166_alpha3'] = codes[1]\n",
    "# # sf['ISO3166_numeric'] = codes[2]"
   ]
  },
  {
   "cell_type": "markdown",
   "metadata": {},
   "source": [
    "Groups\n",
    "+ Date\n",
    "+ Country information\n",
    "    + Country Name\n",
    "    + Province / State\n",
    "    + Continent\n",
    "    + International Organisation\n",
    "    + OECD\n",
    "    + G8\n",
    "+ Confirmed / Deaths / Recovered / Active\n",
    "    + Cumulative\n",
    "    + Delta\n",
    "    + Cumulative norm\n",
    "    + Log cumulative\n",
    "    + Log delta\n"
   ]
  },
  {
   "cell_type": "code",
   "execution_count": null,
   "metadata": {},
   "outputs": [],
   "source": [
    "# full_df_bak = full_df.copy()"
   ]
  },
  {
   "cell_type": "code",
   "execution_count": null,
   "metadata": {},
   "outputs": [],
   "source": [
    "full_df = full_df_bak.copy()"
   ]
  },
  {
   "cell_type": "code",
   "execution_count": null,
   "metadata": {},
   "outputs": [],
   "source": [
    "full_df"
   ]
  },
  {
   "cell_type": "code",
   "execution_count": null,
   "metadata": {},
   "outputs": [],
   "source": [
    "full_df['Date'] = pd.to_datetime(full_df.index)\n",
    "full_df.reset_index(inplace=True, drop=True)"
   ]
  },
  {
   "cell_type": "code",
   "execution_count": null,
   "metadata": {},
   "outputs": [],
   "source": [
    "full_df"
   ]
  },
  {
   "cell_type": "code",
   "execution_count": null,
   "metadata": {},
   "outputs": [],
   "source": [
    "full_df.loc[(full_df['Country/Region']=='United States') &\n",
    "            (full_df['Date']=='2020-04-19')]"
   ]
  },
  {
   "cell_type": "code",
   "execution_count": null,
   "metadata": {},
   "outputs": [],
   "source": [
    "merge_columns = [ 'ISO3166_alpha3', 'population', 'gdp_total',\n",
    "                  'lifeExp_male', 'lifeExp_female', 'DisplayName']\n",
    "cv_df = cv_df[merge_columns]\n",
    "full_df = pd.merge(full_df, cv_df, how='left', on='ISO3166_alpha3')\n",
    "# Fix the world name\n",
    "#full_df.loc[full_df[\"ISO3166_alpha3\"] == 'WLD', \"Name\"] = 'World'\n"
   ]
  },
  {
   "cell_type": "code",
   "execution_count": null,
   "metadata": {},
   "outputs": [],
   "source": [
    "full_df"
   ]
  },
  {
   "cell_type": "code",
   "execution_count": null,
   "metadata": {},
   "outputs": [],
   "source": [
    "tmp_df3 = full_df.drop_duplicates()"
   ]
  },
  {
   "cell_type": "code",
   "execution_count": null,
   "metadata": {},
   "outputs": [],
   "source": [
    "tmp_df3"
   ]
  },
  {
   "cell_type": "code",
   "execution_count": null,
   "metadata": {},
   "outputs": [],
   "source": [
    "tmp_df3.loc[tmp_df3['ISO3166_alpha3']=='USA']"
   ]
  },
  {
   "cell_type": "code",
   "execution_count": null,
   "metadata": {},
   "outputs": [],
   "source": [
    "for col in cv_merged_df.columns:\n",
    "    print(col)"
   ]
  },
  {
   "cell_type": "code",
   "execution_count": null,
   "metadata": {},
   "outputs": [],
   "source": [
    "full_df.head()"
   ]
  },
  {
   "cell_type": "markdown",
   "metadata": {},
   "source": [
    "### Threshold plots"
   ]
  },
  {
   "cell_type": "code",
   "execution_count": null,
   "metadata": {},
   "outputs": [],
   "source": [
    "countries = ['Spain', 'Italy', 'China', 'Korea, South', 'United States', 'Singapore']"
   ]
  },
  {
   "cell_type": "markdown",
   "metadata": {},
   "source": [
    "## Data Sources\n",
    "For this project, the principal source used was the John Hopkins University's dataset on corona virus cases. This dataset require a surprising amount of cleaning and heavy reshaping to be usable in the form used for this project. In addition, a number of derived statistics were created to allow things like the growth rate and the active statistics to be examined. In addition, to allow for more useful comparisons, I merged it with two additional datasets, the ISO3166 codes available (via some web-scraping) from the CIA World Factbook and then a number of indicators fetched from the World Bank using an API access.\n",
    "\n",
    "The idea was to make this into an interactive dashboard, but a rather pernicious bug in my caching functions lead to a quite literal 11th hour switch back to static graphics, which are presented below."
   ]
  },
  {
   "cell_type": "markdown",
   "metadata": {},
   "source": [
    "## Visualisations and Analysis"
   ]
  },
  {
   "cell_type": "code",
   "execution_count": null,
   "metadata": {},
   "outputs": [],
   "source": [
    "threshold_plot(full_df, countries, y_lim=2**15, x_lim=60)"
   ]
  },
  {
   "cell_type": "markdown",
   "metadata": {},
   "source": [
    "This plot is a reimplementation of one from the [New York Times' Upshot blog](https://www.nytimes.com/interactive/2020/03/21/upshot/coronavirus-deaths-by-country.html). It allows for a clear view of the growth of the cumulative statistics over time. Here you can see two plots for the countries that I thought would be most interesting to look at, Spain, Italy, China, South Korea, the United States and Singapore (used in all of the plots). Here, it can be seen that the growth rates for most of the countries is now saturating, though the US has not yet reached that point and while Singapore had initially been doing quite well, it appears to now be experiencing a surge in cases."
   ]
  },
  {
   "cell_type": "markdown",
   "metadata": {},
   "source": [
    "The code for this plots everything together, so I've inserted the images instead. For all of the plots we can see the daily and cumulative view of our four main variables over time. For the daily variables, a three period rolling average was used to smooth out some of the turbulence caused by the coarseness of the data."
   ]
  },
  {
   "cell_type": "code",
   "execution_count": null,
   "metadata": {
    "scrolled": false
   },
   "outputs": [],
   "source": [
    "#plot_country_list(full_df, countries, threshold=25)"
   ]
  },
  {
   "cell_type": "markdown",
   "metadata": {},
   "source": [
    "![China](figures/China_timeComp_25.png)"
   ]
  },
  {
   "cell_type": "markdown",
   "metadata": {},
   "source": [
    "The plot for China is the most promising and most similar to the expected theory; after an initial surge, the cases are brought under control and the number of active cases decays towards zero."
   ]
  },
  {
   "cell_type": "markdown",
   "metadata": {},
   "source": [
    "![SouthKorea](figures/SouthKorea_timeComp_25.png)"
   ]
  },
  {
   "cell_type": "markdown",
   "metadata": {},
   "source": [
    "South Korea is also quite promising, showing a similar trend to China, but at an earlier point in the cycle."
   ]
  },
  {
   "cell_type": "markdown",
   "metadata": {},
   "source": [
    "![Spain](figures/Spain_timeComp_25.png)"
   ]
  },
  {
   "cell_type": "markdown",
   "metadata": {},
   "source": [
    "![Italy](figures/Italy_timeComp_25.png)"
   ]
  },
  {
   "cell_type": "markdown",
   "metadata": {},
   "source": [
    "Spain and Italy appear, unfortunately to be still in the midst of the worst part of the curve. While the net increase in the number of active cases is decreasing, the cumulative case load still hasn't peaked."
   ]
  },
  {
   "cell_type": "markdown",
   "metadata": {},
   "source": [
    "![United States](figures/UnitedStates_timeComp_25.png)"
   ]
  },
  {
   "cell_type": "markdown",
   "metadata": {},
   "source": [
    "The United States is even earlier in the cycle and, indeed merits analysis at a more granular level."
   ]
  },
  {
   "cell_type": "markdown",
   "metadata": {},
   "source": [
    "![Singapore](figures/Singapore_timeComp_25.png)"
   ]
  },
  {
   "cell_type": "markdown",
   "metadata": {},
   "source": [
    "Finally Singapore which had appeared to have missed the worst of the epidemic is now experiencing a surge in cases, though whether this will be as bad as that experienced in Europe and the US remains to be seen."
   ]
  },
  {
   "cell_type": "code",
   "execution_count": 30,
   "metadata": {},
   "outputs": [
    {
     "ename": "NameError",
     "evalue": "name 'countries' is not defined",
     "output_type": "error",
     "traceback": [
      "\u001b[0;31m---------------------------------------------------------------------------\u001b[0m",
      "\u001b[0;31mNameError\u001b[0m                                 Traceback (most recent call last)",
      "\u001b[0;32m<ipython-input-30-2b09d0e4553c>\u001b[0m in \u001b[0;36m<module>\u001b[0;34m\u001b[0m\n\u001b[0;32m----> 1\u001b[0;31m \u001b[0mplot_log_growth\u001b[0m\u001b[0;34m(\u001b[0m\u001b[0mfull_df\u001b[0m\u001b[0;34m,\u001b[0m \u001b[0mcountries\u001b[0m\u001b[0;34m,\u001b[0m \u001b[0mmean_window\u001b[0m\u001b[0;34m=\u001b[0m\u001b[0;36m3\u001b[0m\u001b[0;34m,\u001b[0m \u001b[0mdays\u001b[0m\u001b[0;34m=\u001b[0m\u001b[0;36m45\u001b[0m\u001b[0;34m)\u001b[0m\u001b[0;34m\u001b[0m\u001b[0;34m\u001b[0m\u001b[0m\n\u001b[0m",
      "\u001b[0;31mNameError\u001b[0m: name 'countries' is not defined"
     ]
    }
   ],
   "source": [
    "plot_log_growth(full_df, countries, mean_window=3, days=45)"
   ]
  },
  {
   "cell_type": "markdown",
   "metadata": {},
   "source": [
    "Next, I looked at the log growth of deaths and confirmed cases over time, again using a rolling average to smooth the noise. Here it can be seen that for most countries the last two weeks have been largely in the right direction after much more volatility before that as reporting and testing likely revealed more of the underlying cases. Interestingly again, Singapore appears to be in a much earlier stage of the cycle."
   ]
  },
  {
   "cell_type": "code",
   "execution_count": null,
   "metadata": {},
   "outputs": [],
   "source": [
    "plot_normalised(full_df, countries, mean_window=3, days=75)"
   ]
  },
  {
   "cell_type": "markdown",
   "metadata": {},
   "source": [
    "Finally, here I look at deaths and cases normalised by population, to see get some understanding of the the true toll of the crisis in different countries. One interesting thing from this plot is that while it took time to do so, Spain appears to be doing worse across both the deaths and confirmed cases than Italy. This suggests that Spain may not have been able to capitalise on the time and learning from Italy. In addition, it appears that the US may surpass both Spain and Italy. Here again, Singapore's later entry into the crisis is visible."
   ]
  },
  {
   "cell_type": "markdown",
   "metadata": {},
   "source": [
    "---"
   ]
  }
 ],
 "metadata": {
  "kernelspec": {
   "display_name": "Python 3",
   "language": "python",
   "name": "python3"
  },
  "language_info": {
   "codemirror_mode": {
    "name": "ipython",
    "version": 3
   },
   "file_extension": ".py",
   "mimetype": "text/x-python",
   "name": "python",
   "nbconvert_exporter": "python",
   "pygments_lexer": "ipython3",
   "version": "3.7.6"
  },
  "toc": {
   "base_numbering": 1,
   "nav_menu": {},
   "number_sections": true,
   "sideBar": true,
   "skip_h1_title": false,
   "title_cell": "Table of Contents",
   "title_sidebar": "Contents",
   "toc_cell": false,
   "toc_position": {
    "height": "calc(100% - 180px)",
    "left": "10px",
    "top": "150px",
    "width": "211px"
   },
   "toc_section_display": true,
   "toc_window_display": true
  }
 },
 "nbformat": 4,
 "nbformat_minor": 4
}
