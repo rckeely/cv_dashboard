{
 "cells": [
  {
   "cell_type": "markdown",
   "metadata": {},
   "source": [
    "### Library Imports"
   ]
  },
  {
   "cell_type": "code",
   "execution_count": 34,
   "metadata": {
    "ExecuteTime": {
     "end_time": "2020-06-04T14:51:01.058292Z",
     "start_time": "2020-06-04T14:51:01.053661Z"
    }
   },
   "outputs": [],
   "source": [
    "import sqlite3\n",
    "import os\n",
    "import short_url"
   ]
  },
  {
   "cell_type": "code",
   "execution_count": 35,
   "metadata": {
    "ExecuteTime": {
     "end_time": "2020-06-04T14:51:02.422153Z",
     "start_time": "2020-06-04T14:51:01.525822Z"
    }
   },
   "outputs": [],
   "source": [
    "user_module_path = './'\n",
    "module_path = os.path.abspath(os.path.join(user_module_path))\n",
    "\n",
    "import fetch_data"
   ]
  },
  {
   "cell_type": "markdown",
   "metadata": {},
   "source": [
    "### Functions"
   ]
  },
  {
   "cell_type": "code",
   "execution_count": 36,
   "metadata": {
    "ExecuteTime": {
     "end_time": "2020-06-04T14:51:09.575994Z",
     "start_time": "2020-06-04T14:51:09.569989Z"
    }
   },
   "outputs": [],
   "source": []
  },
  {
   "cell_type": "code",
   "execution_count": 19,
   "metadata": {
    "ExecuteTime": {
     "end_time": "2020-06-04T10:59:50.346403Z",
     "start_time": "2020-06-04T10:59:50.340156Z"
    }
   },
   "outputs": [],
   "source": [
    "def create_table(cursorObj):\n",
    "    cursorObj.execute(\"\"\"\n",
    "            CREATE TABLE url_lookup(\n",
    "                url_id INTEGER PRIMARY KEY,\n",
    "                url VARCHAR(255) NOT NULL,\n",
    "                short_code VARCHAR(255) UNIQUE NOT NULL \n",
    "                );\n",
    "           \"\"\")"
   ]
  },
  {
   "cell_type": "code",
   "execution_count": 20,
   "metadata": {
    "ExecuteTime": {
     "end_time": "2020-06-04T10:59:50.881146Z",
     "start_time": "2020-06-04T10:59:50.877050Z"
    }
   },
   "outputs": [],
   "source": [
    "def determine_next_index(cursorObj):\n",
    "    cursorObj.execute(\"\"\"\n",
    "                SELECT COUNT(url_id) FROM url_lookup \n",
    "                \"\"\")\n",
    "    return cursorObj.fetchone()[0] + 1"
   ]
  },
  {
   "cell_type": "code",
   "execution_count": 21,
   "metadata": {
    "ExecuteTime": {
     "end_time": "2020-06-04T10:59:51.285463Z",
     "start_time": "2020-06-04T10:59:51.279750Z"
    }
   },
   "outputs": [],
   "source": [
    "def check_if_table_exists(cursorObj, table):\n",
    "    ret_val = list_tables(cursorObj)\n",
    "    if ret_val is not None:\n",
    "        return True\n",
    "    else:\n",
    "        return False"
   ]
  },
  {
   "cell_type": "code",
   "execution_count": 22,
   "metadata": {
    "ExecuteTime": {
     "end_time": "2020-06-04T10:59:51.725342Z",
     "start_time": "2020-06-04T10:59:51.720989Z"
    }
   },
   "outputs": [],
   "source": [
    "def list_tables(cursorObj):\n",
    "    #cursorObj = con.cursor()\n",
    "    cursorObj.execute('SELECT name from sqlite_master where type= \"table\"')\n",
    "    return cursorObj.fetchone()"
   ]
  },
  {
   "cell_type": "code",
   "execution_count": 23,
   "metadata": {
    "ExecuteTime": {
     "end_time": "2020-06-04T10:59:52.233634Z",
     "start_time": "2020-06-04T10:59:52.223602Z"
    }
   },
   "outputs": [],
   "source": [
    "def encode_url(conn,\n",
    "               long_url,\n",
    "               database = 'assets/url.db',\n",
    "               table_name = 'url_lookup'):\n",
    "    cursorObj = conn.cursor()\n",
    "    if not check_if_table_exists(cursorObj, table_name):\n",
    "        create_table(cursorObj)\n",
    "    select_t = (long_url,)\n",
    "    cursorObj.execute(\"\"\"\n",
    "                      SELECT url_id FROM url_lookup\n",
    "                      WHERE url = ?\n",
    "                      \"\"\", select_t)\n",
    "    ret_val = cursorObj.fetchone()\n",
    "    #print(f\"ret_val : {ret_val}\")\n",
    "    if ret_val is None:\n",
    "        next_index = determine_next_index(cursorObj)\n",
    "        short_code = short_url.encode_url(next_index)\n",
    "        insert_t = (next_index, long_url, short_code,)\n",
    "        cursorObj.execute(\"\"\"\n",
    "                    INSERT INTO url_lookup(url_id, url, short_code)\n",
    "                    VALUES(?, ?, ?);\n",
    "                  \"\"\", insert_t)\n",
    "    else:\n",
    "        short_code = short_url.encode_url(ret_val[0])\n",
    "    #print(f\"short_code : {short_code}\")\n",
    "    cursorObj.close()\n",
    "    return short_code"
   ]
  },
  {
   "cell_type": "code",
   "execution_count": 29,
   "metadata": {
    "ExecuteTime": {
     "end_time": "2020-06-04T11:04:31.014503Z",
     "start_time": "2020-06-04T11:04:31.001478Z"
    }
   },
   "outputs": [],
   "source": [
    "def decode_url(conn,\n",
    "              short_code,\n",
    "              database = 'assets/url.db',\n",
    "               table_name = 'url_lookup'):\n",
    "    cursorObj = conn.cursor()\n",
    "    print(f\"short_code : {short_code}\")\n",
    "    db_idx = short_url.decode_url(short_code)\n",
    "    print(f\"db_idx : {db_idx}\")\n",
    "    select_t = (db_idx,)\n",
    "    cursorObj.execute(\"\"\"\n",
    "                      SELECT url FROM url_lookup\n",
    "                      WHERE url_id = ?\n",
    "                      \"\"\", select_t)\n",
    "    long_url = cursorObj.fetchone()[0]\n",
    "    print(f\"long_url : {long_url}\")\n",
    "    cursorObj.close()\n",
    "    return long_url"
   ]
  },
  {
   "cell_type": "code",
   "execution_count": 30,
   "metadata": {
    "ExecuteTime": {
     "end_time": "2020-06-04T11:04:31.661392Z",
     "start_time": "2020-06-04T11:04:31.656337Z"
    }
   },
   "outputs": [],
   "source": [
    "def open_connection(database='assets/url.db'):\n",
    "    return sqlite3.connect(database)"
   ]
  },
  {
   "cell_type": "markdown",
   "metadata": {},
   "source": [
    "### Test code"
   ]
  },
  {
   "cell_type": "code",
   "execution_count": 32,
   "metadata": {
    "ExecuteTime": {
     "end_time": "2020-06-04T11:05:46.656357Z",
     "start_time": "2020-06-04T11:05:46.622983Z"
    }
   },
   "outputs": [
    {
     "name": "stdout",
     "output_type": "stream",
     "text": [
      "?yscale_rb=linear&normalise=simple&threshold_cumulative=0&threshold_daily=0&rollingMean=0&country_names=%5B32%2C+55%2C+59%2C+76%2C+82%2C+137%2C+153%2C+155%5D&cv_variables=1&date_picker=%5B%272020-01-22%27%2C+%272020-06-02%27%5D\n",
      "867nv\n",
      "short_code : 867nv\n",
      "db_idx : 1\n",
      "long_url : ?yscale_rb=linear&normalise=simple&threshold_cumulative=0&threshold_daily=0&rollingMean=0&country_names=%5B32%2C+55%2C+59%2C+76%2C+82%2C+137%2C+153%2C+155%5D&cv_variables=1&date_picker=%5B%272020-01-22%27%2C+%272020-06-02%27%5D\n",
      "?yscale_rb=linear&normalise=simple&threshold_cumulative=0&threshold_daily=0&rollingMean=0&country_names=%5B32%2C+55%2C+59%2C+76%2C+82%2C+137%2C+153%2C+155%5D&cv_variables=1&date_picker=%5B%272020-01-22%27%2C+%272020-06-02%27%5D\n"
     ]
    }
   ],
   "source": [
    "long_url = \"?yscale_rb=linear&normalise=simple&threshold_cumulative=0&threshold_daily=0&rollingMean=0&country_names=%5B32%2C+55%2C+59%2C+76%2C+82%2C+137%2C+153%2C+155%5D&cv_variables=1&date_picker=%5B%272020-01-22%27%2C+%272020-06-02%27%5D\"\n",
    "database = 'assets/url.db'\n",
    "\n",
    "print(long_url)\n",
    "conn = open_connection(database='assets/url.db')\n",
    "short_code = encode_url(conn, long_url)\n",
    "print(short_code)\n",
    "print(decode_url(conn, short_code))"
   ]
  }
 ],
 "metadata": {
  "kernelspec": {
   "display_name": "Python 3",
   "language": "python",
   "name": "python3"
  },
  "language_info": {
   "codemirror_mode": {
    "name": "ipython",
    "version": 3
   },
   "file_extension": ".py",
   "mimetype": "text/x-python",
   "name": "python",
   "nbconvert_exporter": "python",
   "pygments_lexer": "ipython3",
   "version": "3.7.6"
  },
  "toc": {
   "base_numbering": 1,
   "nav_menu": {},
   "number_sections": true,
   "sideBar": true,
   "skip_h1_title": false,
   "title_cell": "Table of Contents",
   "title_sidebar": "Contents",
   "toc_cell": false,
   "toc_position": {},
   "toc_section_display": true,
   "toc_window_display": false
  }
 },
 "nbformat": 4,
 "nbformat_minor": 4
}
