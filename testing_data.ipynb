{
 "cells": [
  {
   "cell_type": "code",
   "execution_count": 10,
   "metadata": {
    "ExecuteTime": {
     "end_time": "2020-06-08T13:39:31.944960Z",
     "start_time": "2020-06-08T13:39:31.169279Z"
    }
   },
   "outputs": [],
   "source": [
    "import pandas as pd\n",
    "import os\n",
    "import sys\n",
    "import importlib\n",
    "\n",
    "import matplotlib.pyplot as plt\n",
    "import country_converter as coco"
   ]
  },
  {
   "cell_type": "code",
   "execution_count": 11,
   "metadata": {
    "ExecuteTime": {
     "end_time": "2020-06-08T13:39:31.950130Z",
     "start_time": "2020-06-08T13:39:31.946883Z"
    }
   },
   "outputs": [],
   "source": [
    "# !{sys.executable} -m pip install country_converter"
   ]
  },
  {
   "cell_type": "code",
   "execution_count": 12,
   "metadata": {
    "ExecuteTime": {
     "end_time": "2020-06-08T13:39:32.093189Z",
     "start_time": "2020-06-08T13:39:31.952863Z"
    }
   },
   "outputs": [],
   "source": [
    "user_module_path = './'\n",
    "module_path = os.path.abspath(os.path.join(user_module_path))\n",
    "\n",
    "import fetch_data"
   ]
  },
  {
   "cell_type": "code",
   "execution_count": 13,
   "metadata": {
    "ExecuteTime": {
     "end_time": "2020-06-08T13:39:32.241878Z",
     "start_time": "2020-06-08T13:39:32.237068Z"
    }
   },
   "outputs": [],
   "source": [
    "def reload_module(module,\n",
    "                 user_module_path = './'):\n",
    "    # Block to handle reloading user modules\n",
    "    module_path = os.path.abspath(os.path.join(user_module_path))\n",
    "    if module_path not in sys.path:\n",
    "        sys.path.append(module_path)\n",
    "    importlib.reload(module)\n",
    "    fetch_data.test_refresh()"
   ]
  },
  {
   "cell_type": "markdown",
   "metadata": {},
   "source": [
    "### Testing Data"
   ]
  },
  {
   "cell_type": "markdown",
   "metadata": {},
   "source": [
    "Testing data from [Our World in Data](https://ourworldindata.org/coronavirus-testing)"
   ]
  },
  {
   "cell_type": "code",
   "execution_count": 14,
   "metadata": {
    "ExecuteTime": {
     "end_time": "2020-06-08T13:39:37.967761Z",
     "start_time": "2020-06-08T13:39:37.964050Z"
    }
   },
   "outputs": [],
   "source": [
    "# def fetch_owid(save_file=True,\n",
    "#                filename = 'owid_covid.csv',\n",
    "#                threshold=1,\n",
    "#                data_path='assets/'):\n",
    "#     if fetch_data.check_file_age(filename, threshold):\n",
    "#         return pd.read_csv(f'{data_path}{filename}')\n",
    "#     owid_covid_df = pd.read_csv('https://covid.ourworldindata.org/data/owid-covid-data.csv')\n",
    "    \n",
    "#     owid_columns_sel = ['iso_code', 'date', 'tests_units', 'population',\n",
    "#                   'population_density', 'median_age',\n",
    "#                   'aged_65_older', 'aged_70_older',\n",
    "#                   'gdp_per_capita', 'extreme_poverty',\n",
    "#                   'cvd_death_rate', 'diabetes_prevalence',\n",
    "#                   'female_smokers', 'male_smokers',\n",
    "#                   'handwashing_facilities', 'hospital_beds_per_thousand']\n",
    "#     owid_covid_df.columns = [ f\"owid_{x}\" for x in owid_covid_df.columns ]\n",
    "#     owid_columns_sel = [ f\"owid_{x}\" for x in owid_columns_sel ]\n",
    "\n",
    "#     owid_covid_df = owid_covid_df[owid_columns_sel]\n",
    "#     owid_covid_df['owid_date'] = pd.to_datetime(owid_covid_df['owid_date'])\n",
    "#     if save_file:\n",
    "#         owid_covid_df.to_csv(f\"{data_path}{filename}\", index=False)\n",
    "    "
   ]
  },
  {
   "cell_type": "code",
   "execution_count": 15,
   "metadata": {
    "ExecuteTime": {
     "end_time": "2020-06-08T13:39:40.885715Z",
     "start_time": "2020-06-08T13:39:40.880576Z"
    }
   },
   "outputs": [],
   "source": [
    "# def merge_owid(full_df):\n",
    "#     owid_covid_df = fetch_owid()\n",
    "    \n",
    "#     non_covid_cols = ['Country/Region', 'Province/State', 'ISO3166:2', 'ISO3166:3',\n",
    "#            'ISO3166:#', 'Name', 'Population', 'GDP (Total)',\n",
    "#            'Life Expectancy (Male)', 'Life Expectancy (Female)', 'Date']\n",
    "\n",
    "#     last_date = full_df['Date'].unique()[-1]\n",
    "\n",
    "#     noncovid_sdf = full_df.loc[full_df['Date'] == last_date][non_covid_cols]\n",
    "\n",
    "#     owid_dates = set(owid_covid_df['owid_date'].unique())\n",
    "#     jh_dates = set(full_df['Date'].unique())\n",
    "\n",
    "#     owid_only = sorted(list(owid_dates - jh_dates))\n",
    "#     common_dates = sorted(list(owid_dates.intersection(jh_dates)))\n",
    "\n",
    "#     mz_df_columns = list(full_df.columns) + list(owid_covid_df.columns)\n",
    "\n",
    "#     owid_covid_df.loc[owid_covid_df['owid_iso_code'] == 'OWID_WRL', 'owid_iso_code'] = 'WLD'\n",
    "\n",
    "#     megazord_df = pd.DataFrame(columns=mz_df_columns)\n",
    "\n",
    "#     for date in owid_only:\n",
    "#         owid_sdf = owid_covid_df.loc[owid_covid_df['owid_date'] == date]\n",
    "#         temp_sdf = noncovid_sdf.merge(owid_sdf, how='left', left_on='ISO3166:3',\n",
    "#                                  right_on='owid_iso_code')\n",
    "#         temp_sdf['Date'] = temp_sdf['owid_date'] \n",
    "#         megazord_df = pd.concat([megazord_df, temp_sdf])\n",
    "\n",
    "#     for date in common_dates:\n",
    "#         owid_sdf = owid_covid_df.loc[owid_covid_df['owid_date'] == date]\n",
    "#         full_sdf = full_df.loc[full_df['Date'] == date]\n",
    "#         full_sdf = full_sdf.merge(owid_sdf, how='left', left_on='ISO3166:3',\n",
    "#                                  right_on='owid_iso_code')\n",
    "#         megazord_df = pd.concat([megazord_df, full_sdf])\n",
    "        \n",
    "#     return megazord_df"
   ]
  },
  {
   "cell_type": "markdown",
   "metadata": {},
   "source": [
    "### OWID data"
   ]
  },
  {
   "cell_type": "code",
   "execution_count": 24,
   "metadata": {
    "ExecuteTime": {
     "end_time": "2020-06-08T13:44:32.284440Z",
     "start_time": "2020-06-08T13:44:29.610634Z"
    }
   },
   "outputs": [],
   "source": [
    "owid_covid_df = owid_df = pd.read_csv('https://covid.ourworldindata.org/data/owid-covid-data.csv')"
   ]
  },
  {
   "cell_type": "code",
   "execution_count": 25,
   "metadata": {
    "ExecuteTime": {
     "end_time": "2020-06-08T13:44:33.529144Z",
     "start_time": "2020-06-08T13:44:33.518026Z"
    }
   },
   "outputs": [
    {
     "data": {
      "text/plain": [
       "Index(['iso_code', 'continent', 'location', 'date', 'total_cases', 'new_cases',\n",
       "       'total_deaths', 'new_deaths', 'total_cases_per_million',\n",
       "       'new_cases_per_million', 'total_deaths_per_million',\n",
       "       'new_deaths_per_million', 'total_tests', 'new_tests',\n",
       "       'total_tests_per_thousand', 'new_tests_per_thousand',\n",
       "       'new_tests_smoothed', 'new_tests_smoothed_per_thousand', 'tests_units',\n",
       "       'stringency_index', 'population', 'population_density', 'median_age',\n",
       "       'aged_65_older', 'aged_70_older', 'gdp_per_capita', 'extreme_poverty',\n",
       "       'cvd_death_rate', 'diabetes_prevalence', 'female_smokers',\n",
       "       'male_smokers', 'handwashing_facilities', 'hospital_beds_per_thousand'],\n",
       "      dtype='object')"
      ]
     },
     "execution_count": 25,
     "metadata": {},
     "output_type": "execute_result"
    }
   ],
   "source": [
    "owid_df.columns"
   ]
  },
  {
   "cell_type": "markdown",
   "metadata": {},
   "source": [
    "### Load Other Data"
   ]
  },
  {
   "cell_type": "code",
   "execution_count": 48,
   "metadata": {
    "ExecuteTime": {
     "end_time": "2020-06-08T14:04:49.774111Z",
     "start_time": "2020-06-08T14:04:49.752947Z"
    }
   },
   "outputs": [
    {
     "name": "stdout",
     "output_type": "stream",
     "text": [
      "Refreshed at 2020-06-08 16:04:49.770892\n"
     ]
    }
   ],
   "source": [
    "reload_module(fetch_data)"
   ]
  },
  {
   "cell_type": "code",
   "execution_count": 44,
   "metadata": {
    "ExecuteTime": {
     "end_time": "2020-06-08T14:03:27.124735Z",
     "start_time": "2020-06-08T14:03:07.910942Z"
    },
    "scrolled": false
   },
   "outputs": [
    {
     "name": "stdout",
     "output_type": "stream",
     "text": [
      "Refreshed at 2020-06-08 16:03:07.936806\n",
      ">> File  [ merged_df_global.csv ] found. Checking age... \n",
      "\t+ File  [ merged_df_global.csv ] not expired. Load from disk...\n",
      ">> File  [ ISO_codes.csv ] found. Checking age... \n",
      "\t+ File  [ ISO_codes.csv ] not expired. Load from disk...\n",
      ">> File  [ wb_indicators.csv ] found. Checking age... \n",
      "\t+ File  [ wb_indicators.csv ] not expired. Load from disk...\n",
      ">> File  [ ISO_codes.csv ] found. Checking age... \n",
      "\t+ File  [ ISO_codes.csv ] not expired. Load from disk...\n",
      ">> File  [ owid_covid_raw.csv ] found. Checking age... \n",
      "\t+ File  [ owid_covid_raw.csv ] not expired. Load from disk...\n",
      ">> Merging OWID data...\n"
     ]
    }
   ],
   "source": [
    "indicator_names = {\"SP.POP.TOTL\" : \"population\",\n",
    "\t\t\t\t\t\"NY.GDP.MKTP.CD\" : \"gdp_total\",\n",
    "\t\t\t\t\t\"SP.DYN.LE00.MA.IN\" : \"lifeExp_male\",\n",
    "\t\t\t\t\t\"SP.DYN.LE00.FE.IN\" : \"lifeExp_female\" }\n",
    "\n",
    "cv_merged_df, iso_codes_df, indicator_df = fetch_data.fetch_components(indicator_names)\n",
    "\n",
    "full_df = fetch_data.build_full_df(cv_merged_df)\n",
    "full_owid_df = fetch_data.merge_owid(full_df)"
   ]
  },
  {
   "cell_type": "code",
   "execution_count": 45,
   "metadata": {
    "ExecuteTime": {
     "end_time": "2020-06-08T14:03:29.627330Z",
     "start_time": "2020-06-08T14:03:29.362040Z"
    }
   },
   "outputs": [],
   "source": [
    "full_owid_df = full_owid_df.drop_duplicates()"
   ]
  },
  {
   "cell_type": "code",
   "execution_count": 46,
   "metadata": {
    "ExecuteTime": {
     "end_time": "2020-06-08T14:03:30.480620Z",
     "start_time": "2020-06-08T14:03:30.391181Z"
    }
   },
   "outputs": [],
   "source": [
    "full_owid_df = fetch_data.generate_features(full_owid_df)"
   ]
  },
  {
   "cell_type": "code",
   "execution_count": 49,
   "metadata": {
    "ExecuteTime": {
     "end_time": "2020-06-08T14:04:54.813329Z",
     "start_time": "2020-06-08T14:04:54.693852Z"
    }
   },
   "outputs": [
    {
     "name": "stdout",
     "output_type": "stream",
     "text": [
      "{'Country/Region': 'Country/Region', 'Province/State': 'Province/State', 'ISO3166_alpha2': 'ISO3166:2', 'ISO3166_alpha3': 'ISO3166:3', 'ISO3166_numeric': 'ISO3166:#', 'DisplayName': 'Name', 'population': 'Population', 'gdp_total': 'GDP (Total)', 'lifeExp_male': 'Life Expectancy (Male)', 'lifeExp_female': 'Life Expectancy (Female)', 'Date': 'Date', 'confirmed_total': 'Confirmed (Total)', 'deaths_total': 'Deaths (Total)', 'recovered_total': 'Recovered (Total)', 'active_total': 'Active (Total)', 'confirmed_total_norm': 'Confirmed (Total, normalised)', 'deaths_total_norm': 'Deaths (Total, normalised)', 'recovered_total_norm': 'Recovered (Total, normalised)', 'active_total_norm': 'Active (Total, normalised)', 'confirmed_total_pct': 'Confirmed (Total, percent)', 'deaths_total_pct': 'Deaths (Total, percent)', 'recovered_total_pct': 'Recovered (Total, percent)', 'active_total_pct': 'Active (Total, percent)', 'confirmed_daily': 'Confirmed (Daily)', 'deaths_daily': 'Deaths (Daily)', 'recovered_daily': 'Recovered (Daily)', 'active_daily': 'Active (Daily)', 'confirmed_daily_norm': 'Confirmed (Daily, normalised)', 'deaths_daily_norm': 'Deaths (Daily, normalised)', 'recovered_daily_norm': 'Recovered (Daily, normalised)', 'active_daily_norm': 'Active (Daily, normalised)', 'confirmed_daily_pct': 'Confirmed (Daily, percent)', 'deaths_daily_pct': 'Deaths (Daily, percent)', 'recovered_daily_pct': 'Recovered (Daily, percent)', 'active_daily_pct': 'Active (Daily, percent)'}\n"
     ]
    },
    {
     "ename": "KeyError",
     "evalue": "\"['Recovered (Daily, percent)', 'Confirmed (Daily, percent)', 'Deaths (Daily, percent)', 'Active (Total, percent)', 'Confirmed (Total, percent)', 'Active (Daily, percent)', 'Deaths (Total, percent)', 'Recovered (Total, percent)'] not in index\"",
     "output_type": "error",
     "traceback": [
      "\u001b[0;31m---------------------------------------------------------------------------\u001b[0m",
      "\u001b[0;31mKeyError\u001b[0m                                  Traceback (most recent call last)",
      "\u001b[0;32m<ipython-input-49-1a7ce0cd9018>\u001b[0m in \u001b[0;36m<module>\u001b[0;34m\u001b[0m\n\u001b[0;32m----> 1\u001b[0;31m \u001b[0mfetch_data\u001b[0m\u001b[0;34m.\u001b[0m\u001b[0mrename_select_columns\u001b[0m\u001b[0;34m(\u001b[0m\u001b[0mfull_owid_df\u001b[0m\u001b[0;34m)\u001b[0m\u001b[0;34m\u001b[0m\u001b[0;34m\u001b[0m\u001b[0m\n\u001b[0m",
      "\u001b[0;32m~/Dropbox/Records/Education/2019-20_BGSE_MScDataScience/Modules/DS_Trimester03/DS_MastersProject/dashboard/cv_dashboard/fetch_data.py\u001b[0m in \u001b[0;36mrename_select_columns\u001b[0;34m(df, data_path, filename)\u001b[0m\n\u001b[1;32m    702\u001b[0m         \u001b[0mprint\u001b[0m\u001b[0;34m(\u001b[0m\u001b[0mnew_names\u001b[0m\u001b[0;34m)\u001b[0m\u001b[0;34m\u001b[0m\u001b[0;34m\u001b[0m\u001b[0m\n\u001b[1;32m    703\u001b[0m         \u001b[0mdf\u001b[0m \u001b[0;34m=\u001b[0m \u001b[0mdf\u001b[0m\u001b[0;34m.\u001b[0m\u001b[0mrename\u001b[0m\u001b[0;34m(\u001b[0m\u001b[0mcolumns\u001b[0m\u001b[0;34m=\u001b[0m\u001b[0mnew_names\u001b[0m\u001b[0;34m)\u001b[0m\u001b[0;34m\u001b[0m\u001b[0;34m\u001b[0m\u001b[0m\n\u001b[0;32m--> 704\u001b[0;31m         \u001b[0mdf\u001b[0m \u001b[0;34m=\u001b[0m \u001b[0mdf\u001b[0m\u001b[0;34m[\u001b[0m\u001b[0mnew_names\u001b[0m\u001b[0;34m.\u001b[0m\u001b[0mvalues\u001b[0m\u001b[0;34m(\u001b[0m\u001b[0;34m)\u001b[0m\u001b[0;34m]\u001b[0m\u001b[0;34m\u001b[0m\u001b[0;34m\u001b[0m\u001b[0m\n\u001b[0m\u001b[1;32m    705\u001b[0m         \u001b[0;32mreturn\u001b[0m \u001b[0mdf\u001b[0m\u001b[0;34m\u001b[0m\u001b[0;34m\u001b[0m\u001b[0m\n\u001b[1;32m    706\u001b[0m \u001b[0;34m\u001b[0m\u001b[0m\n",
      "\u001b[0;32m/anaconda3/envs/r_env/lib/python3.7/site-packages/pandas/core/frame.py\u001b[0m in \u001b[0;36m__getitem__\u001b[0;34m(self, key)\u001b[0m\n\u001b[1;32m   2804\u001b[0m             \u001b[0;32mif\u001b[0m \u001b[0mis_iterator\u001b[0m\u001b[0;34m(\u001b[0m\u001b[0mkey\u001b[0m\u001b[0;34m)\u001b[0m\u001b[0;34m:\u001b[0m\u001b[0;34m\u001b[0m\u001b[0;34m\u001b[0m\u001b[0m\n\u001b[1;32m   2805\u001b[0m                 \u001b[0mkey\u001b[0m \u001b[0;34m=\u001b[0m \u001b[0mlist\u001b[0m\u001b[0;34m(\u001b[0m\u001b[0mkey\u001b[0m\u001b[0;34m)\u001b[0m\u001b[0;34m\u001b[0m\u001b[0;34m\u001b[0m\u001b[0m\n\u001b[0;32m-> 2806\u001b[0;31m             \u001b[0mindexer\u001b[0m \u001b[0;34m=\u001b[0m \u001b[0mself\u001b[0m\u001b[0;34m.\u001b[0m\u001b[0mloc\u001b[0m\u001b[0;34m.\u001b[0m\u001b[0m_get_listlike_indexer\u001b[0m\u001b[0;34m(\u001b[0m\u001b[0mkey\u001b[0m\u001b[0;34m,\u001b[0m \u001b[0maxis\u001b[0m\u001b[0;34m=\u001b[0m\u001b[0;36m1\u001b[0m\u001b[0;34m,\u001b[0m \u001b[0mraise_missing\u001b[0m\u001b[0;34m=\u001b[0m\u001b[0;32mTrue\u001b[0m\u001b[0;34m)\u001b[0m\u001b[0;34m[\u001b[0m\u001b[0;36m1\u001b[0m\u001b[0;34m]\u001b[0m\u001b[0;34m\u001b[0m\u001b[0;34m\u001b[0m\u001b[0m\n\u001b[0m\u001b[1;32m   2807\u001b[0m \u001b[0;34m\u001b[0m\u001b[0m\n\u001b[1;32m   2808\u001b[0m         \u001b[0;31m# take() does not accept boolean indexers\u001b[0m\u001b[0;34m\u001b[0m\u001b[0;34m\u001b[0m\u001b[0;34m\u001b[0m\u001b[0m\n",
      "\u001b[0;32m/anaconda3/envs/r_env/lib/python3.7/site-packages/pandas/core/indexing.py\u001b[0m in \u001b[0;36m_get_listlike_indexer\u001b[0;34m(self, key, axis, raise_missing)\u001b[0m\n\u001b[1;32m   1550\u001b[0m \u001b[0;34m\u001b[0m\u001b[0m\n\u001b[1;32m   1551\u001b[0m         self._validate_read_indexer(\n\u001b[0;32m-> 1552\u001b[0;31m             \u001b[0mkeyarr\u001b[0m\u001b[0;34m,\u001b[0m \u001b[0mindexer\u001b[0m\u001b[0;34m,\u001b[0m \u001b[0mo\u001b[0m\u001b[0;34m.\u001b[0m\u001b[0m_get_axis_number\u001b[0m\u001b[0;34m(\u001b[0m\u001b[0maxis\u001b[0m\u001b[0;34m)\u001b[0m\u001b[0;34m,\u001b[0m \u001b[0mraise_missing\u001b[0m\u001b[0;34m=\u001b[0m\u001b[0mraise_missing\u001b[0m\u001b[0;34m\u001b[0m\u001b[0;34m\u001b[0m\u001b[0m\n\u001b[0m\u001b[1;32m   1553\u001b[0m         )\n\u001b[1;32m   1554\u001b[0m         \u001b[0;32mreturn\u001b[0m \u001b[0mkeyarr\u001b[0m\u001b[0;34m,\u001b[0m \u001b[0mindexer\u001b[0m\u001b[0;34m\u001b[0m\u001b[0;34m\u001b[0m\u001b[0m\n",
      "\u001b[0;32m/anaconda3/envs/r_env/lib/python3.7/site-packages/pandas/core/indexing.py\u001b[0m in \u001b[0;36m_validate_read_indexer\u001b[0;34m(self, key, indexer, axis, raise_missing)\u001b[0m\n\u001b[1;32m   1643\u001b[0m             \u001b[0;32mif\u001b[0m \u001b[0;32mnot\u001b[0m \u001b[0;34m(\u001b[0m\u001b[0mself\u001b[0m\u001b[0;34m.\u001b[0m\u001b[0mname\u001b[0m \u001b[0;34m==\u001b[0m \u001b[0;34m\"loc\"\u001b[0m \u001b[0;32mand\u001b[0m \u001b[0;32mnot\u001b[0m \u001b[0mraise_missing\u001b[0m\u001b[0;34m)\u001b[0m\u001b[0;34m:\u001b[0m\u001b[0;34m\u001b[0m\u001b[0;34m\u001b[0m\u001b[0m\n\u001b[1;32m   1644\u001b[0m                 \u001b[0mnot_found\u001b[0m \u001b[0;34m=\u001b[0m \u001b[0mlist\u001b[0m\u001b[0;34m(\u001b[0m\u001b[0mset\u001b[0m\u001b[0;34m(\u001b[0m\u001b[0mkey\u001b[0m\u001b[0;34m)\u001b[0m \u001b[0;34m-\u001b[0m \u001b[0mset\u001b[0m\u001b[0;34m(\u001b[0m\u001b[0max\u001b[0m\u001b[0;34m)\u001b[0m\u001b[0;34m)\u001b[0m\u001b[0;34m\u001b[0m\u001b[0;34m\u001b[0m\u001b[0m\n\u001b[0;32m-> 1645\u001b[0;31m                 \u001b[0;32mraise\u001b[0m \u001b[0mKeyError\u001b[0m\u001b[0;34m(\u001b[0m\u001b[0;34mf\"{not_found} not in index\"\u001b[0m\u001b[0;34m)\u001b[0m\u001b[0;34m\u001b[0m\u001b[0;34m\u001b[0m\u001b[0m\n\u001b[0m\u001b[1;32m   1646\u001b[0m \u001b[0;34m\u001b[0m\u001b[0m\n\u001b[1;32m   1647\u001b[0m             \u001b[0;31m# we skip the warning on Categorical/Interval\u001b[0m\u001b[0;34m\u001b[0m\u001b[0;34m\u001b[0m\u001b[0;34m\u001b[0m\u001b[0m\n",
      "\u001b[0;31mKeyError\u001b[0m: \"['Recovered (Daily, percent)', 'Confirmed (Daily, percent)', 'Deaths (Daily, percent)', 'Active (Total, percent)', 'Confirmed (Total, percent)', 'Active (Daily, percent)', 'Deaths (Total, percent)', 'Recovered (Total, percent)'] not in index\""
     ]
    }
   ],
   "source": [
    "fetch_data.rename_select_columns(full_owid_df)"
   ]
  },
  {
   "cell_type": "code",
   "execution_count": 20,
   "metadata": {
    "ExecuteTime": {
     "end_time": "2020-06-08T13:42:14.481373Z",
     "start_time": "2020-06-08T13:42:14.476211Z"
    }
   },
   "outputs": [],
   "source": [
    "# full_df.reset_index(inplace=True, drop=True)"
   ]
  },
  {
   "cell_type": "markdown",
   "metadata": {},
   "source": [
    "### Country Converter exploration"
   ]
  },
  {
   "cell_type": "code",
   "execution_count": 164,
   "metadata": {
    "ExecuteTime": {
     "end_time": "2020-06-05T13:50:13.915107Z",
     "start_time": "2020-06-05T13:50:13.896126Z"
    }
   },
   "outputs": [],
   "source": [
    "def map_iso3_to_name(country_list):\n",
    "    subset_df = full_df.loc[full_df['ISO3166:3'].isin(country_list)][['Name','ISO3166:3']]\n",
    "    subset_df = subset_df.drop_duplicates()\n",
    "    subset_dict = dict(zip(subset_df['ISO3166:3'], subset_df['Name']))\n",
    "    return [subset_dict[x] for x in country_list]"
   ]
  },
  {
   "cell_type": "code",
   "execution_count": 165,
   "metadata": {
    "ExecuteTime": {
     "end_time": "2020-06-05T13:50:26.790314Z",
     "start_time": "2020-06-05T13:50:26.769649Z"
    }
   },
   "outputs": [
    {
     "data": {
      "text/plain": [
       "['Austria',\n",
       " 'Belgium',\n",
       " 'Bulgaria',\n",
       " 'Croatia',\n",
       " 'Cyprus',\n",
       " 'Czech Republic',\n",
       " 'Denmark',\n",
       " 'Estonia',\n",
       " 'Finland',\n",
       " 'France',\n",
       " 'Germany',\n",
       " 'Greece',\n",
       " 'Hungary',\n",
       " 'Ireland',\n",
       " 'Italy',\n",
       " 'Latvia',\n",
       " 'Lithuania',\n",
       " 'Luxembourg',\n",
       " 'Malta',\n",
       " 'Netherlands',\n",
       " 'Poland',\n",
       " 'Portugal',\n",
       " 'Romania',\n",
       " 'Slovak Republic',\n",
       " 'Slovenia',\n",
       " 'Spain',\n",
       " 'Sweden',\n",
       " 'United Kingdom']"
      ]
     },
     "execution_count": 165,
     "metadata": {},
     "output_type": "execute_result"
    }
   ],
   "source": [
    "map_iso3_to_name(EU_states)"
   ]
  },
  {
   "cell_type": "markdown",
   "metadata": {},
   "source": [
    "### Preliminaries"
   ]
  },
  {
   "cell_type": "code",
   "execution_count": 229,
   "metadata": {
    "ExecuteTime": {
     "end_time": "2020-06-05T18:22:22.911318Z",
     "start_time": "2020-06-05T18:22:22.904682Z"
    }
   },
   "outputs": [],
   "source": [
    "eu_df = owid_covid_df.loc[(owid_covid_df['owid_iso_code'].isin(EU_states))]"
   ]
  },
  {
   "cell_type": "code",
   "execution_count": 230,
   "metadata": {
    "ExecuteTime": {
     "end_time": "2020-06-05T18:22:23.374431Z",
     "start_time": "2020-06-05T18:22:23.367477Z"
    }
   },
   "outputs": [],
   "source": [
    "recent_eu_df = eu_df.loc[eu_df.owid_date > '2020-04-01']"
   ]
  },
  {
   "cell_type": "code",
   "execution_count": 231,
   "metadata": {
    "ExecuteTime": {
     "end_time": "2020-06-05T18:22:23.766913Z",
     "start_time": "2020-06-05T18:22:23.762933Z"
    }
   },
   "outputs": [],
   "source": [
    "def prop_test(df):\n",
    "    print(f\"{df['owid_new_tests'].count() / df.shape[0]:0.3f}\")"
   ]
  },
  {
   "cell_type": "code",
   "execution_count": 232,
   "metadata": {
    "ExecuteTime": {
     "end_time": "2020-06-05T18:22:24.183855Z",
     "start_time": "2020-06-05T18:22:24.176616Z"
    }
   },
   "outputs": [
    {
     "name": "stdout",
     "output_type": "stream",
     "text": [
      "0.239\n",
      "0.424\n",
      "0.652\n"
     ]
    }
   ],
   "source": [
    "prop_test(owid_covid_df)\n",
    "prop_test(eu_df)\n",
    "prop_test(recent_eu_df)"
   ]
  },
  {
   "cell_type": "code",
   "execution_count": 233,
   "metadata": {
    "ExecuteTime": {
     "end_time": "2020-06-05T18:22:24.744882Z",
     "start_time": "2020-06-05T18:22:24.684429Z"
    }
   },
   "outputs": [
    {
     "data": {
      "text/html": [
       "<div>\n",
       "<style scoped>\n",
       "    .dataframe tbody tr th:only-of-type {\n",
       "        vertical-align: middle;\n",
       "    }\n",
       "\n",
       "    .dataframe tbody tr th {\n",
       "        vertical-align: top;\n",
       "    }\n",
       "\n",
       "    .dataframe thead th {\n",
       "        text-align: right;\n",
       "    }\n",
       "</style>\n",
       "<table border=\"1\" class=\"dataframe\">\n",
       "  <thead>\n",
       "    <tr style=\"text-align: right;\">\n",
       "      <th></th>\n",
       "      <th>owid_iso_code</th>\n",
       "      <th>owid_continent</th>\n",
       "      <th>owid_location</th>\n",
       "      <th>owid_date</th>\n",
       "      <th>owid_total_cases</th>\n",
       "      <th>owid_new_cases</th>\n",
       "      <th>owid_total_deaths</th>\n",
       "      <th>owid_new_deaths</th>\n",
       "      <th>owid_total_cases_per_million</th>\n",
       "      <th>owid_new_cases_per_million</th>\n",
       "      <th>...</th>\n",
       "      <th>owid_aged_65_older</th>\n",
       "      <th>owid_aged_70_older</th>\n",
       "      <th>owid_gdp_per_capita</th>\n",
       "      <th>owid_extreme_poverty</th>\n",
       "      <th>owid_cvd_death_rate</th>\n",
       "      <th>owid_diabetes_prevalence</th>\n",
       "      <th>owid_female_smokers</th>\n",
       "      <th>owid_male_smokers</th>\n",
       "      <th>owid_handwashing_facilities</th>\n",
       "      <th>owid_hospital_beds_per_thousand</th>\n",
       "    </tr>\n",
       "  </thead>\n",
       "  <tbody>\n",
       "    <tr>\n",
       "      <th>10301</th>\n",
       "      <td>ITA</td>\n",
       "      <td>Europe</td>\n",
       "      <td>Italy</td>\n",
       "      <td>2020-04-02</td>\n",
       "      <td>110574</td>\n",
       "      <td>4782</td>\n",
       "      <td>13157</td>\n",
       "      <td>727</td>\n",
       "      <td>1828.823</td>\n",
       "      <td>79.091</td>\n",
       "      <td>...</td>\n",
       "      <td>23.021</td>\n",
       "      <td>16.24</td>\n",
       "      <td>35220.084</td>\n",
       "      <td>2.0</td>\n",
       "      <td>113.151</td>\n",
       "      <td>4.78</td>\n",
       "      <td>19.8</td>\n",
       "      <td>27.8</td>\n",
       "      <td>NaN</td>\n",
       "      <td>3.18</td>\n",
       "    </tr>\n",
       "    <tr>\n",
       "      <th>10302</th>\n",
       "      <td>ITA</td>\n",
       "      <td>Europe</td>\n",
       "      <td>Italy</td>\n",
       "      <td>2020-04-03</td>\n",
       "      <td>115242</td>\n",
       "      <td>4668</td>\n",
       "      <td>13917</td>\n",
       "      <td>760</td>\n",
       "      <td>1906.029</td>\n",
       "      <td>77.206</td>\n",
       "      <td>...</td>\n",
       "      <td>23.021</td>\n",
       "      <td>16.24</td>\n",
       "      <td>35220.084</td>\n",
       "      <td>2.0</td>\n",
       "      <td>113.151</td>\n",
       "      <td>4.78</td>\n",
       "      <td>19.8</td>\n",
       "      <td>27.8</td>\n",
       "      <td>NaN</td>\n",
       "      <td>3.18</td>\n",
       "    </tr>\n",
       "    <tr>\n",
       "      <th>10303</th>\n",
       "      <td>ITA</td>\n",
       "      <td>Europe</td>\n",
       "      <td>Italy</td>\n",
       "      <td>2020-04-04</td>\n",
       "      <td>119827</td>\n",
       "      <td>4585</td>\n",
       "      <td>14681</td>\n",
       "      <td>764</td>\n",
       "      <td>1981.862</td>\n",
       "      <td>75.833</td>\n",
       "      <td>...</td>\n",
       "      <td>23.021</td>\n",
       "      <td>16.24</td>\n",
       "      <td>35220.084</td>\n",
       "      <td>2.0</td>\n",
       "      <td>113.151</td>\n",
       "      <td>4.78</td>\n",
       "      <td>19.8</td>\n",
       "      <td>27.8</td>\n",
       "      <td>NaN</td>\n",
       "      <td>3.18</td>\n",
       "    </tr>\n",
       "    <tr>\n",
       "      <th>10304</th>\n",
       "      <td>ITA</td>\n",
       "      <td>Europe</td>\n",
       "      <td>Italy</td>\n",
       "      <td>2020-04-05</td>\n",
       "      <td>124632</td>\n",
       "      <td>4805</td>\n",
       "      <td>15362</td>\n",
       "      <td>681</td>\n",
       "      <td>2061.334</td>\n",
       "      <td>79.472</td>\n",
       "      <td>...</td>\n",
       "      <td>23.021</td>\n",
       "      <td>16.24</td>\n",
       "      <td>35220.084</td>\n",
       "      <td>2.0</td>\n",
       "      <td>113.151</td>\n",
       "      <td>4.78</td>\n",
       "      <td>19.8</td>\n",
       "      <td>27.8</td>\n",
       "      <td>NaN</td>\n",
       "      <td>3.18</td>\n",
       "    </tr>\n",
       "    <tr>\n",
       "      <th>10305</th>\n",
       "      <td>ITA</td>\n",
       "      <td>Europe</td>\n",
       "      <td>Italy</td>\n",
       "      <td>2020-04-06</td>\n",
       "      <td>128948</td>\n",
       "      <td>4316</td>\n",
       "      <td>15889</td>\n",
       "      <td>527</td>\n",
       "      <td>2132.718</td>\n",
       "      <td>71.384</td>\n",
       "      <td>...</td>\n",
       "      <td>23.021</td>\n",
       "      <td>16.24</td>\n",
       "      <td>35220.084</td>\n",
       "      <td>2.0</td>\n",
       "      <td>113.151</td>\n",
       "      <td>4.78</td>\n",
       "      <td>19.8</td>\n",
       "      <td>27.8</td>\n",
       "      <td>NaN</td>\n",
       "      <td>3.18</td>\n",
       "    </tr>\n",
       "    <tr>\n",
       "      <th>...</th>\n",
       "      <td>...</td>\n",
       "      <td>...</td>\n",
       "      <td>...</td>\n",
       "      <td>...</td>\n",
       "      <td>...</td>\n",
       "      <td>...</td>\n",
       "      <td>...</td>\n",
       "      <td>...</td>\n",
       "      <td>...</td>\n",
       "      <td>...</td>\n",
       "      <td>...</td>\n",
       "      <td>...</td>\n",
       "      <td>...</td>\n",
       "      <td>...</td>\n",
       "      <td>...</td>\n",
       "      <td>...</td>\n",
       "      <td>...</td>\n",
       "      <td>...</td>\n",
       "      <td>...</td>\n",
       "      <td>...</td>\n",
       "      <td>...</td>\n",
       "    </tr>\n",
       "    <tr>\n",
       "      <th>10361</th>\n",
       "      <td>ITA</td>\n",
       "      <td>Europe</td>\n",
       "      <td>Italy</td>\n",
       "      <td>2020-06-01</td>\n",
       "      <td>233019</td>\n",
       "      <td>355</td>\n",
       "      <td>33415</td>\n",
       "      <td>75</td>\n",
       "      <td>3853.985</td>\n",
       "      <td>5.871</td>\n",
       "      <td>...</td>\n",
       "      <td>23.021</td>\n",
       "      <td>16.24</td>\n",
       "      <td>35220.084</td>\n",
       "      <td>2.0</td>\n",
       "      <td>113.151</td>\n",
       "      <td>4.78</td>\n",
       "      <td>19.8</td>\n",
       "      <td>27.8</td>\n",
       "      <td>NaN</td>\n",
       "      <td>3.18</td>\n",
       "    </tr>\n",
       "    <tr>\n",
       "      <th>10362</th>\n",
       "      <td>ITA</td>\n",
       "      <td>Europe</td>\n",
       "      <td>Italy</td>\n",
       "      <td>2020-06-02</td>\n",
       "      <td>233197</td>\n",
       "      <td>178</td>\n",
       "      <td>33475</td>\n",
       "      <td>60</td>\n",
       "      <td>3856.929</td>\n",
       "      <td>2.944</td>\n",
       "      <td>...</td>\n",
       "      <td>23.021</td>\n",
       "      <td>16.24</td>\n",
       "      <td>35220.084</td>\n",
       "      <td>2.0</td>\n",
       "      <td>113.151</td>\n",
       "      <td>4.78</td>\n",
       "      <td>19.8</td>\n",
       "      <td>27.8</td>\n",
       "      <td>NaN</td>\n",
       "      <td>3.18</td>\n",
       "    </tr>\n",
       "    <tr>\n",
       "      <th>10363</th>\n",
       "      <td>ITA</td>\n",
       "      <td>Europe</td>\n",
       "      <td>Italy</td>\n",
       "      <td>2020-06-03</td>\n",
       "      <td>233515</td>\n",
       "      <td>318</td>\n",
       "      <td>33530</td>\n",
       "      <td>55</td>\n",
       "      <td>3862.189</td>\n",
       "      <td>5.260</td>\n",
       "      <td>...</td>\n",
       "      <td>23.021</td>\n",
       "      <td>16.24</td>\n",
       "      <td>35220.084</td>\n",
       "      <td>2.0</td>\n",
       "      <td>113.151</td>\n",
       "      <td>4.78</td>\n",
       "      <td>19.8</td>\n",
       "      <td>27.8</td>\n",
       "      <td>NaN</td>\n",
       "      <td>3.18</td>\n",
       "    </tr>\n",
       "    <tr>\n",
       "      <th>10364</th>\n",
       "      <td>ITA</td>\n",
       "      <td>Europe</td>\n",
       "      <td>Italy</td>\n",
       "      <td>2020-06-04</td>\n",
       "      <td>233836</td>\n",
       "      <td>321</td>\n",
       "      <td>33601</td>\n",
       "      <td>71</td>\n",
       "      <td>3867.498</td>\n",
       "      <td>5.309</td>\n",
       "      <td>...</td>\n",
       "      <td>23.021</td>\n",
       "      <td>16.24</td>\n",
       "      <td>35220.084</td>\n",
       "      <td>2.0</td>\n",
       "      <td>113.151</td>\n",
       "      <td>4.78</td>\n",
       "      <td>19.8</td>\n",
       "      <td>27.8</td>\n",
       "      <td>NaN</td>\n",
       "      <td>3.18</td>\n",
       "    </tr>\n",
       "    <tr>\n",
       "      <th>10365</th>\n",
       "      <td>ITA</td>\n",
       "      <td>Europe</td>\n",
       "      <td>Italy</td>\n",
       "      <td>2020-06-05</td>\n",
       "      <td>234013</td>\n",
       "      <td>177</td>\n",
       "      <td>33689</td>\n",
       "      <td>88</td>\n",
       "      <td>3870.425</td>\n",
       "      <td>2.927</td>\n",
       "      <td>...</td>\n",
       "      <td>23.021</td>\n",
       "      <td>16.24</td>\n",
       "      <td>35220.084</td>\n",
       "      <td>2.0</td>\n",
       "      <td>113.151</td>\n",
       "      <td>4.78</td>\n",
       "      <td>19.8</td>\n",
       "      <td>27.8</td>\n",
       "      <td>NaN</td>\n",
       "      <td>3.18</td>\n",
       "    </tr>\n",
       "  </tbody>\n",
       "</table>\n",
       "<p>65 rows × 33 columns</p>\n",
       "</div>"
      ],
      "text/plain": [
       "      owid_iso_code owid_continent owid_location   owid_date  \\\n",
       "10301           ITA         Europe         Italy  2020-04-02   \n",
       "10302           ITA         Europe         Italy  2020-04-03   \n",
       "10303           ITA         Europe         Italy  2020-04-04   \n",
       "10304           ITA         Europe         Italy  2020-04-05   \n",
       "10305           ITA         Europe         Italy  2020-04-06   \n",
       "...             ...            ...           ...         ...   \n",
       "10361           ITA         Europe         Italy  2020-06-01   \n",
       "10362           ITA         Europe         Italy  2020-06-02   \n",
       "10363           ITA         Europe         Italy  2020-06-03   \n",
       "10364           ITA         Europe         Italy  2020-06-04   \n",
       "10365           ITA         Europe         Italy  2020-06-05   \n",
       "\n",
       "       owid_total_cases  owid_new_cases  owid_total_deaths  owid_new_deaths  \\\n",
       "10301            110574            4782              13157              727   \n",
       "10302            115242            4668              13917              760   \n",
       "10303            119827            4585              14681              764   \n",
       "10304            124632            4805              15362              681   \n",
       "10305            128948            4316              15889              527   \n",
       "...                 ...             ...                ...              ...   \n",
       "10361            233019             355              33415               75   \n",
       "10362            233197             178              33475               60   \n",
       "10363            233515             318              33530               55   \n",
       "10364            233836             321              33601               71   \n",
       "10365            234013             177              33689               88   \n",
       "\n",
       "       owid_total_cases_per_million  owid_new_cases_per_million  ...  \\\n",
       "10301                      1828.823                      79.091  ...   \n",
       "10302                      1906.029                      77.206  ...   \n",
       "10303                      1981.862                      75.833  ...   \n",
       "10304                      2061.334                      79.472  ...   \n",
       "10305                      2132.718                      71.384  ...   \n",
       "...                             ...                         ...  ...   \n",
       "10361                      3853.985                       5.871  ...   \n",
       "10362                      3856.929                       2.944  ...   \n",
       "10363                      3862.189                       5.260  ...   \n",
       "10364                      3867.498                       5.309  ...   \n",
       "10365                      3870.425                       2.927  ...   \n",
       "\n",
       "       owid_aged_65_older  owid_aged_70_older  owid_gdp_per_capita  \\\n",
       "10301              23.021               16.24            35220.084   \n",
       "10302              23.021               16.24            35220.084   \n",
       "10303              23.021               16.24            35220.084   \n",
       "10304              23.021               16.24            35220.084   \n",
       "10305              23.021               16.24            35220.084   \n",
       "...                   ...                 ...                  ...   \n",
       "10361              23.021               16.24            35220.084   \n",
       "10362              23.021               16.24            35220.084   \n",
       "10363              23.021               16.24            35220.084   \n",
       "10364              23.021               16.24            35220.084   \n",
       "10365              23.021               16.24            35220.084   \n",
       "\n",
       "       owid_extreme_poverty  owid_cvd_death_rate  owid_diabetes_prevalence  \\\n",
       "10301                   2.0              113.151                      4.78   \n",
       "10302                   2.0              113.151                      4.78   \n",
       "10303                   2.0              113.151                      4.78   \n",
       "10304                   2.0              113.151                      4.78   \n",
       "10305                   2.0              113.151                      4.78   \n",
       "...                     ...                  ...                       ...   \n",
       "10361                   2.0              113.151                      4.78   \n",
       "10362                   2.0              113.151                      4.78   \n",
       "10363                   2.0              113.151                      4.78   \n",
       "10364                   2.0              113.151                      4.78   \n",
       "10365                   2.0              113.151                      4.78   \n",
       "\n",
       "       owid_female_smokers  owid_male_smokers owid_handwashing_facilities  \\\n",
       "10301                 19.8               27.8                         NaN   \n",
       "10302                 19.8               27.8                         NaN   \n",
       "10303                 19.8               27.8                         NaN   \n",
       "10304                 19.8               27.8                         NaN   \n",
       "10305                 19.8               27.8                         NaN   \n",
       "...                    ...                ...                         ...   \n",
       "10361                 19.8               27.8                         NaN   \n",
       "10362                 19.8               27.8                         NaN   \n",
       "10363                 19.8               27.8                         NaN   \n",
       "10364                 19.8               27.8                         NaN   \n",
       "10365                 19.8               27.8                         NaN   \n",
       "\n",
       "       owid_hospital_beds_per_thousand  \n",
       "10301                             3.18  \n",
       "10302                             3.18  \n",
       "10303                             3.18  \n",
       "10304                             3.18  \n",
       "10305                             3.18  \n",
       "...                                ...  \n",
       "10361                             3.18  \n",
       "10362                             3.18  \n",
       "10363                             3.18  \n",
       "10364                             3.18  \n",
       "10365                             3.18  \n",
       "\n",
       "[65 rows x 33 columns]"
      ]
     },
     "execution_count": 233,
     "metadata": {},
     "output_type": "execute_result"
    }
   ],
   "source": [
    "state_iso3 = \"ITA\"\n",
    "recent_eu_df.loc[recent_eu_df['owid_iso_code'] == state_iso3]"
   ]
  },
  {
   "cell_type": "code",
   "execution_count": 234,
   "metadata": {
    "ExecuteTime": {
     "end_time": "2020-06-05T18:22:25.695862Z",
     "start_time": "2020-06-05T18:22:25.246309Z"
    },
    "scrolled": true
   },
   "outputs": [
    {
     "name": "stdout",
     "output_type": "stream",
     "text": [
      "ESP failed. No testing data found...\n"
     ]
    },
    {
     "data": {
      "text/plain": [
       "<matplotlib.legend.Legend at 0x120526050>"
      ]
     },
     "execution_count": 234,
     "metadata": {},
     "output_type": "execute_result"
    },
    {
     "data": {
      "image/png": "[encoded data removed]",
      "text/plain": [
       "<Figure size 432x288 with 1 Axes>"
      ]
     },
     "metadata": {
      "needs_background": "light"
     },
     "output_type": "display_data"
    }
   ],
   "source": [
    "x_val = range(recent_eu_df.loc[recent_eu_df['owid_iso_code'] == 'ITA'].shape[0])\n",
    "for state_iso3 in EU_states:\n",
    "    try:\n",
    "        subset = recent_eu_df.loc[recent_eu_df['owid_iso_code'] == state_iso3]['owid_new_tests']\n",
    "        plt.plot(x_val, subset, label=state_iso3)\n",
    "    except:\n",
    "        print(f\"{state_iso3} failed. No testing data found...\")\n",
    "plt.legend()"
   ]
  },
  {
   "cell_type": "code",
   "execution_count": 434,
   "metadata": {
    "ExecuteTime": {
     "end_time": "2020-06-05T22:43:11.977546Z",
     "start_time": "2020-06-05T22:43:11.955524Z"
    }
   },
   "outputs": [],
   "source": []
  },
  {
   "cell_type": "markdown",
   "metadata": {
    "ExecuteTime": {
     "end_time": "2020-06-05T22:44:17.058866Z",
     "start_time": "2020-06-05T22:44:17.051384Z"
    }
   },
   "source": [
    "### Cultural dimensions"
   ]
  },
  {
   "cell_type": "markdown",
   "metadata": {},
   "source": [
    "From [ https://www.researchgate.net/post/Are_there_any_alternatives_for_the_dimensions_of_national_culture ]\n",
    "\n",
    "_See Myers, M. D. and F. B. Tan (2002). \"Beyond Models of National Culture in Information Systems Research.\" Journal of Global Information Management 10(2).\n",
    "There is an interesting debate on this: Baskerville, R. F. (2003). \"Hofstede never studied culture.\" Accounting, Organizations and Society 28(1): 1-14. Hofstede replied with Hofstede, G. (2003). \"What is culture? A reply to Baskerville.\" Accounting, Organizations and Society 28: 811-813._"
   ]
  },
  {
   "cell_type": "code",
   "execution_count": 505,
   "metadata": {
    "ExecuteTime": {
     "end_time": "2020-06-05T23:10:23.307138Z",
     "start_time": "2020-06-05T23:10:23.202288Z"
    }
   },
   "outputs": [],
   "source": [
    "# Pull this into a function and then merge it with the other stuff...\n",
    "\n",
    "# hofstede_url = \"https://geerthofstede.com/wp-content/uploads/2016/08/6-dimensions-for-website-2015-08-16.csv\"\n",
    "hofstede_df = pd.read_csv('assets/6-dimensions-for-website-2015-08-16.csv',sep=\";\",na_values=\"#NULL!\")\n",
    "\n",
    "eu_states_iso = list(cc.data.loc[cc.data.EU <= 2017]['ISO3'].values)\n",
    "\n",
    "# This gets all of the ones that are correct\n",
    "first_pass = list(hofstede_df.loc[hofstede_df['ctr'].isin(eu_states_iso)]['ctr'])\n",
    "missing_iso = sorted(list(set(eu_states_iso) - set(first_pass)))\n",
    "missing_countries = eu_df.loc[eu_df['owid_iso_code'].isin(missing_iso), ['owid_iso_code', 'owid_location']].drop_duplicates()\n",
    "# Slovakia is still wrong, so fix manually...\n",
    "missing_countries.loc[missing_countries['owid_location'] == 'Slovakia', 'owid_location'] = 'Slovak Rep'\n",
    "hofstede_codes = [hofstede_df.loc[hofstede_df['country'] == x, 'ctr'].values[0] for x in list(missing_countries['owid_location'])]\n",
    "hofstede_codes += first_pass\n",
    "\n",
    "eu_indicators = hofstede_df.loc[hofstede_df['ctr'].isin(hofstede_codes)]\n",
    "# Then fix the codes back to ISO so it can be merged back to everything else..."
   ]
  },
  {
   "cell_type": "code",
   "execution_count": 516,
   "metadata": {
    "ExecuteTime": {
     "end_time": "2020-06-05T23:14:22.453874Z",
     "start_time": "2020-06-05T23:14:22.446719Z"
    }
   },
   "outputs": [],
   "source": [
    "import matplotlib.pyplot as plt"
   ]
  },
  {
   "cell_type": "code",
   "execution_count": 530,
   "metadata": {
    "ExecuteTime": {
     "end_time": "2020-06-05T23:20:01.668572Z",
     "start_time": "2020-06-05T23:20:01.650050Z"
    }
   },
   "outputs": [
    {
     "data": {
      "text/plain": [
       "array([[51., 42., 86., 48., 44.]])"
      ]
     },
     "execution_count": 530,
     "metadata": {},
     "output_type": "execute_result"
    }
   ],
   "source": []
  },
  {
   "cell_type": "code",
   "execution_count": 549,
   "metadata": {
    "ExecuteTime": {
     "end_time": "2020-06-06T12:17:33.062410Z",
     "start_time": "2020-06-06T12:17:32.116627Z"
    }
   },
   "outputs": [
    {
     "data": {
      "image/png": "[encoded data removed]",
      "text/plain": [
       "<Figure size 432x288 with 1 Axes>"
      ]
     },
     "metadata": {
      "needs_background": "light"
     },
     "output_type": "display_data"
    },
    {
     "data": {
      "image/png": "[encoded data removed]",
      "text/plain": [
       "<Figure size 432x288 with 1 Axes>"
      ]
     },
     "metadata": {
      "needs_background": "light"
     },
     "output_type": "display_data"
    },
    {
     "data": {
      "image/png": "[encoded data removed]",
      "text/plain": [
       "<Figure size 432x288 with 1 Axes>"
      ]
     },
     "metadata": {
      "needs_background": "light"
     },
     "output_type": "display_data"
    },
    {
     "data": {
      "image/png": "[encoded data removed]",
      "text/plain": [
       "<Figure size 432x288 with 1 Axes>"
      ]
     },
     "metadata": {
      "needs_background": "light"
     },
     "output_type": "display_data"
    },
    {
     "data": {
      "image/png": "[encoded data removed]",
      "text/plain": [
       "<Figure size 432x288 with 1 Axes>"
      ]
     },
     "metadata": {
      "needs_background": "light"
     },
     "output_type": "display_data"
    }
   ],
   "source": [
    "for country in eu_indicators['country'][:5]:\n",
    "    heights = eu_indicators.loc[eu_indicators['country'] == country].iloc[:,3:].values[0]\n",
    "    heights = list(heights)\n",
    "\n",
    "    plt.bar(eu_indicators.columns[3:],height = heights)\n",
    "    plt.title(country)\n",
    "    plt.show()\n",
    "    "
   ]
  },
  {
   "cell_type": "code",
   "execution_count": 510,
   "metadata": {
    "ExecuteTime": {
     "end_time": "2020-06-05T23:12:25.937753Z",
     "start_time": "2020-06-05T23:12:24.905814Z"
    }
   },
   "outputs": [
    {
     "data": {
      "text/plain": [
       "<matplotlib.axes._subplots.AxesSubplot at 0x12af95ed0>"
      ]
     },
     "execution_count": 510,
     "metadata": {},
     "output_type": "execute_result"
    },
    {
     "data": {
      "image/png": "[encoded data removed]",
      "text/plain": [
       "<Figure size 432x288 with 1 Axes>"
      ]
     },
     "metadata": {
      "needs_background": "light"
     },
     "output_type": "display_data"
    }
   ],
   "source": [
    "eu_indicators[''.plot(kind='bar')"
   ]
  },
  {
   "cell_type": "code",
   "execution_count": 545,
   "metadata": {
    "ExecuteTime": {
     "end_time": "2020-06-05T23:25:34.808651Z",
     "start_time": "2020-06-05T23:25:34.799145Z"
    }
   },
   "outputs": [],
   "source": [
    "eu_states_iso = list(cc.data.loc[cc.data.EU <= 2017]['ISO3'].values)"
   ]
  },
  {
   "cell_type": "code",
   "execution_count": 546,
   "metadata": {
    "ExecuteTime": {
     "end_time": "2020-06-05T23:25:35.301686Z",
     "start_time": "2020-06-05T23:25:35.293925Z"
    }
   },
   "outputs": [],
   "source": [
    "oecd_states_iso = list(cc.data.loc[cc.data.OECD <= 2017]['ISO3'].values)"
   ]
  },
  {
   "cell_type": "code",
   "execution_count": 547,
   "metadata": {
    "ExecuteTime": {
     "end_time": "2020-06-05T23:25:49.564597Z",
     "start_time": "2020-06-05T23:25:49.555001Z"
    }
   },
   "outputs": [
    {
     "data": {
      "text/plain": [
       "{'BGR', 'CYP', 'HRV', 'LTU', 'MLT', 'ROU'}"
      ]
     },
     "execution_count": 547,
     "metadata": {},
     "output_type": "execute_result"
    }
   ],
   "source": [
    "set(eu_states_iso) - set(oecd_states_iso)"
   ]
  },
  {
   "cell_type": "code",
   "execution_count": 548,
   "metadata": {
    "ExecuteTime": {
     "end_time": "2020-06-05T23:26:03.726635Z",
     "start_time": "2020-06-05T23:26:03.716438Z"
    }
   },
   "outputs": [
    {
     "data": {
      "text/plain": [
       "{'AUS',\n",
       " 'CAN',\n",
       " 'CHE',\n",
       " 'CHL',\n",
       " 'ISL',\n",
       " 'ISR',\n",
       " 'JPN',\n",
       " 'KOR',\n",
       " 'MEX',\n",
       " 'NOR',\n",
       " 'NZL',\n",
       " 'TUR',\n",
       " 'USA'}"
      ]
     },
     "execution_count": 548,
     "metadata": {},
     "output_type": "execute_result"
    }
   ],
   "source": [
    "set(oecd_states_iso) - set(eu_states_iso)"
   ]
  },
  {
   "cell_type": "markdown",
   "metadata": {},
   "source": [
    "---"
   ]
  },
  {
   "cell_type": "markdown",
   "metadata": {},
   "source": [
    "### OECD API\n"
   ]
  },
  {
   "cell_type": "markdown",
   "metadata": {},
   "source": [
    "### Eurostat API"
   ]
  },
  {
   "cell_type": "code",
   "execution_count": 5,
   "metadata": {
    "ExecuteTime": {
     "end_time": "2020-06-08T13:10:54.561988Z",
     "start_time": "2020-06-08T13:10:53.280780Z"
    }
   },
   "outputs": [
    {
     "name": "stderr",
     "output_type": "stream",
     "text": [
      "/anaconda3/envs/r_env/lib/python3.7/site-packages/pandasdmx/remote.py:11: RuntimeWarning: optional dependency requests_cache is not installed; cache options to Session() have no effect\n",
      "  'to Session() have no effect', RuntimeWarning)\n"
     ]
    }
   ],
   "source": [
    "import eurostat\n"
   ]
  },
  {
   "cell_type": "code",
   "execution_count": 6,
   "metadata": {
    "ExecuteTime": {
     "end_time": "2020-06-08T13:10:54.568039Z",
     "start_time": "2020-06-08T13:10:54.564100Z"
    }
   },
   "outputs": [],
   "source": [
    "# import sys\n",
    "# !{sys.executable} -m pip install eurostat"
   ]
  },
  {
   "cell_type": "code",
   "execution_count": 8,
   "metadata": {
    "ExecuteTime": {
     "end_time": "2020-06-08T13:11:27.995109Z",
     "start_time": "2020-06-08T13:11:25.995079Z"
    }
   },
   "outputs": [
    {
     "data": {
      "text/html": [
       "<div>\n",
       "<style scoped>\n",
       "    .dataframe tbody tr th:only-of-type {\n",
       "        vertical-align: middle;\n",
       "    }\n",
       "\n",
       "    .dataframe tbody tr th {\n",
       "        vertical-align: top;\n",
       "    }\n",
       "\n",
       "    .dataframe thead th {\n",
       "        text-align: right;\n",
       "    }\n",
       "</style>\n",
       "<table border=\"1\" class=\"dataframe\">\n",
       "  <thead>\n",
       "    <tr style=\"text-align: right;\">\n",
       "      <th></th>\n",
       "      <th>title</th>\n",
       "      <th>code</th>\n",
       "      <th>type</th>\n",
       "      <th>last update of data</th>\n",
       "      <th>last table structure change</th>\n",
       "      <th>data start</th>\n",
       "      <th>data end</th>\n",
       "    </tr>\n",
       "  </thead>\n",
       "  <tbody>\n",
       "    <tr>\n",
       "      <th>0</th>\n",
       "      <td>Database by themes</td>\n",
       "      <td>data</td>\n",
       "      <td>folder</td>\n",
       "      <td></td>\n",
       "      <td></td>\n",
       "      <td></td>\n",
       "      <td></td>\n",
       "    </tr>\n",
       "    <tr>\n",
       "      <th>1</th>\n",
       "      <td>General and regional statistics</td>\n",
       "      <td>general</td>\n",
       "      <td>folder</td>\n",
       "      <td></td>\n",
       "      <td></td>\n",
       "      <td></td>\n",
       "      <td></td>\n",
       "    </tr>\n",
       "    <tr>\n",
       "      <th>2</th>\n",
       "      <td>European and national indicators for short-ter...</td>\n",
       "      <td>euroind</td>\n",
       "      <td>folder</td>\n",
       "      <td></td>\n",
       "      <td></td>\n",
       "      <td></td>\n",
       "      <td></td>\n",
       "    </tr>\n",
       "    <tr>\n",
       "      <th>3</th>\n",
       "      <td>Business and consumer surveys (source: DG ECFIN)</td>\n",
       "      <td>ei_bcs</td>\n",
       "      <td>folder</td>\n",
       "      <td></td>\n",
       "      <td></td>\n",
       "      <td></td>\n",
       "      <td></td>\n",
       "    </tr>\n",
       "    <tr>\n",
       "      <th>4</th>\n",
       "      <td>Consumer surveys (source: DG ECFIN)</td>\n",
       "      <td>ei_bcs_cs</td>\n",
       "      <td>folder</td>\n",
       "      <td></td>\n",
       "      <td></td>\n",
       "      <td></td>\n",
       "      <td></td>\n",
       "    </tr>\n",
       "    <tr>\n",
       "      <th>...</th>\n",
       "      <td>...</td>\n",
       "      <td>...</td>\n",
       "      <td>...</td>\n",
       "      <td>...</td>\n",
       "      <td>...</td>\n",
       "      <td>...</td>\n",
       "      <td>...</td>\n",
       "    </tr>\n",
       "    <tr>\n",
       "      <th>9923</th>\n",
       "      <td>Enterprises that provided training to develop/...</td>\n",
       "      <td>isoc_ske_ittn2</td>\n",
       "      <td>dataset</td>\n",
       "      <td>13.01.2020</td>\n",
       "      <td>27.02.2020</td>\n",
       "      <td>2012</td>\n",
       "      <td>2019</td>\n",
       "    </tr>\n",
       "    <tr>\n",
       "      <th>9924</th>\n",
       "      <td>Participation in education and training - cont...</td>\n",
       "      <td>sks_devcvt</td>\n",
       "      <td>folder</td>\n",
       "      <td></td>\n",
       "      <td></td>\n",
       "      <td></td>\n",
       "      <td></td>\n",
       "    </tr>\n",
       "    <tr>\n",
       "      <th>9925</th>\n",
       "      <td>Enterprises providing training by type of trai...</td>\n",
       "      <td>trng_cvt_01s</td>\n",
       "      <td>dataset</td>\n",
       "      <td>26.02.2019</td>\n",
       "      <td>27.02.2020</td>\n",
       "      <td>2005</td>\n",
       "      <td>2015</td>\n",
       "    </tr>\n",
       "    <tr>\n",
       "      <th>9926</th>\n",
       "      <td>Participants in CVT courses by sex and size cl...</td>\n",
       "      <td>trng_cvt_12s</td>\n",
       "      <td>dataset</td>\n",
       "      <td>26.02.2019</td>\n",
       "      <td>27.02.2020</td>\n",
       "      <td>2005</td>\n",
       "      <td>2015</td>\n",
       "    </tr>\n",
       "    <tr>\n",
       "      <th>9927</th>\n",
       "      <td>Main skills targeted by CVT courses by type of...</td>\n",
       "      <td>trng_cvt_29n2</td>\n",
       "      <td>dataset</td>\n",
       "      <td>26.02.2019</td>\n",
       "      <td>27.02.2020</td>\n",
       "      <td>2010</td>\n",
       "      <td>2015</td>\n",
       "    </tr>\n",
       "  </tbody>\n",
       "</table>\n",
       "<p>9928 rows × 7 columns</p>\n",
       "</div>"
      ],
      "text/plain": [
       "                                                  title            code  \\\n",
       "0                                    Database by themes            data   \n",
       "1                       General and regional statistics         general   \n",
       "2     European and national indicators for short-ter...         euroind   \n",
       "3     Business and consumer surveys (source: DG ECFIN)           ei_bcs   \n",
       "4                   Consumer surveys (source: DG ECFIN)       ei_bcs_cs   \n",
       "...                                                 ...             ...   \n",
       "9923  Enterprises that provided training to develop/...  isoc_ske_ittn2   \n",
       "9924  Participation in education and training - cont...      sks_devcvt   \n",
       "9925  Enterprises providing training by type of trai...    trng_cvt_01s   \n",
       "9926  Participants in CVT courses by sex and size cl...    trng_cvt_12s   \n",
       "9927  Main skills targeted by CVT courses by type of...   trng_cvt_29n2   \n",
       "\n",
       "         type last update of data last table structure change data start  \\\n",
       "0      folder                                                              \n",
       "1      folder                                                              \n",
       "2      folder                                                              \n",
       "3      folder                                                              \n",
       "4      folder                                                              \n",
       "...       ...                 ...                         ...        ...   \n",
       "9923  dataset          13.01.2020                  27.02.2020       2012   \n",
       "9924   folder                                                              \n",
       "9925  dataset          26.02.2019                  27.02.2020       2005   \n",
       "9926  dataset          26.02.2019                  27.02.2020       2005   \n",
       "9927  dataset          26.02.2019                  27.02.2020       2010   \n",
       "\n",
       "     data end  \n",
       "0              \n",
       "1              \n",
       "2              \n",
       "3              \n",
       "4              \n",
       "...       ...  \n",
       "9923     2019  \n",
       "9924           \n",
       "9925     2015  \n",
       "9926     2015  \n",
       "9927     2015  \n",
       "\n",
       "[9928 rows x 7 columns]"
      ]
     },
     "execution_count": 8,
     "metadata": {},
     "output_type": "execute_result"
    }
   ],
   "source": [
    "eurostat.get_toc_df()"
   ]
  },
  {
   "cell_type": "code",
   "execution_count": null,
   "metadata": {},
   "outputs": [],
   "source": []
  }
 ],
 "metadata": {
  "kernelspec": {
   "display_name": "Python 3",
   "language": "python",
   "name": "python3"
  },
  "language_info": {
   "codemirror_mode": {
    "name": "ipython",
    "version": 3
   },
   "file_extension": ".py",
   "mimetype": "text/x-python",
   "name": "python",
   "nbconvert_exporter": "python",
   "pygments_lexer": "ipython3",
   "version": "3.7.6"
  },
  "toc": {
   "base_numbering": 1,
   "nav_menu": {},
   "number_sections": true,
   "sideBar": true,
   "skip_h1_title": false,
   "title_cell": "Table of Contents",
   "title_sidebar": "Contents",
   "toc_cell": false,
   "toc_position": {},
   "toc_section_display": true,
   "toc_window_display": false
  }
 },
 "nbformat": 4,
 "nbformat_minor": 4
}
