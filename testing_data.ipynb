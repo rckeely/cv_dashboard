{
 "cells": [
  {
   "cell_type": "code",
   "execution_count": 10,
   "metadata": {
    "ExecuteTime": {
     "end_time": "2020-06-08T13:39:31.944960Z",
     "start_time": "2020-06-08T13:39:31.169279Z"
    }
   },
   "outputs": [],
   "source": [
    "import pandas as pd\n",
    "import os\n",
    "import sys\n",
    "import importlib\n",
    "\n",
    "import matplotlib.pyplot as plt\n",
    "import country_converter as coco"
   ]
  },
  {
   "cell_type": "code",
   "execution_count": 11,
   "metadata": {
    "ExecuteTime": {
     "end_time": "2020-06-08T13:39:31.950130Z",
     "start_time": "2020-06-08T13:39:31.946883Z"
    }
   },
   "outputs": [],
   "source": [
    "# !{sys.executable} -m pip install country_converter"
   ]
  },
  {
   "cell_type": "code",
   "execution_count": 12,
   "metadata": {
    "ExecuteTime": {
     "end_time": "2020-06-08T13:39:32.093189Z",
     "start_time": "2020-06-08T13:39:31.952863Z"
    }
   },
   "outputs": [],
   "source": [
    "user_module_path = './'\n",
    "module_path = os.path.abspath(os.path.join(user_module_path))\n",
    "\n",
    "import fetch_data"
   ]
  },
  {
   "cell_type": "code",
   "execution_count": 13,
   "metadata": {
    "ExecuteTime": {
     "end_time": "2020-06-08T13:39:32.241878Z",
     "start_time": "2020-06-08T13:39:32.237068Z"
    }
   },
   "outputs": [],
   "source": [
    "def reload_module(module,\n",
    "                 user_module_path = './'):\n",
    "    # Block to handle reloading user modules\n",
    "    module_path = os.path.abspath(os.path.join(user_module_path))\n",
    "    if module_path not in sys.path:\n",
    "        sys.path.append(module_path)\n",
    "    importlib.reload(module)\n",
    "    fetch_data.test_refresh()"
   ]
  },
  {
   "cell_type": "markdown",
   "metadata": {},
   "source": [
    "### Testing Data"
   ]
  },
  {
   "cell_type": "markdown",
   "metadata": {},
   "source": [
    "Testing data from [Our World in Data](https://ourworldindata.org/coronavirus-testing)"
   ]
  },
  {
   "cell_type": "code",
   "execution_count": 14,
   "metadata": {
    "ExecuteTime": {
     "end_time": "2020-06-08T13:39:37.967761Z",
     "start_time": "2020-06-08T13:39:37.964050Z"
    }
   },
   "outputs": [],
   "source": [
    "# def fetch_owid(save_file=True,\n",
    "#                filename = 'owid_covid.csv',\n",
    "#                threshold=1,\n",
    "#                data_path='assets/'):\n",
    "#     if fetch_data.check_file_age(filename, threshold):\n",
    "#         return pd.read_csv(f'{data_path}{filename}')\n",
    "#     owid_covid_df = pd.read_csv('https://covid.ourworldindata.org/data/owid-covid-data.csv')\n",
    "    \n",
    "#     owid_columns_sel = ['iso_code', 'date', 'tests_units', 'population',\n",
    "#                   'population_density', 'median_age',\n",
    "#                   'aged_65_older', 'aged_70_older',\n",
    "#                   'gdp_per_capita', 'extreme_poverty',\n",
    "#                   'cvd_death_rate', 'diabetes_prevalence',\n",
    "#                   'female_smokers', 'male_smokers',\n",
    "#                   'handwashing_facilities', 'hospital_beds_per_thousand']\n",
    "#     owid_covid_df.columns = [ f\"owid_{x}\" for x in owid_covid_df.columns ]\n",
    "#     owid_columns_sel = [ f\"owid_{x}\" for x in owid_columns_sel ]\n",
    "\n",
    "#     owid_covid_df = owid_covid_df[owid_columns_sel]\n",
    "#     owid_covid_df['owid_date'] = pd.to_datetime(owid_covid_df['owid_date'])\n",
    "#     if save_file:\n",
    "#         owid_covid_df.to_csv(f\"{data_path}{filename}\", index=False)\n",
    "    "
   ]
  },
  {
   "cell_type": "code",
   "execution_count": 15,
   "metadata": {
    "ExecuteTime": {
     "end_time": "2020-06-08T13:39:40.885715Z",
     "start_time": "2020-06-08T13:39:40.880576Z"
    }
   },
   "outputs": [],
   "source": [
    "# def merge_owid(full_df):\n",
    "#     owid_covid_df = fetch_owid()\n",
    "    \n",
    "#     non_covid_cols = ['Country/Region', 'Province/State', 'ISO3166:2', 'ISO3166:3',\n",
    "#            'ISO3166:#', 'Name', 'Population', 'GDP (Total)',\n",
    "#            'Life Expectancy (Male)', 'Life Expectancy (Female)', 'Date']\n",
    "\n",
    "#     last_date = full_df['Date'].unique()[-1]\n",
    "\n",
    "#     noncovid_sdf = full_df.loc[full_df['Date'] == last_date][non_covid_cols]\n",
    "\n",
    "#     owid_dates = set(owid_covid_df['owid_date'].unique())\n",
    "#     jh_dates = set(full_df['Date'].unique())\n",
    "\n",
    "#     owid_only = sorted(list(owid_dates - jh_dates))\n",
    "#     common_dates = sorted(list(owid_dates.intersection(jh_dates)))\n",
    "\n",
    "#     mz_df_columns = list(full_df.columns) + list(owid_covid_df.columns)\n",
    "\n",
    "#     owid_covid_df.loc[owid_covid_df['owid_iso_code'] == 'OWID_WRL', 'owid_iso_code'] = 'WLD'\n",
    "\n",
    "#     megazord_df = pd.DataFrame(columns=mz_df_columns)\n",
    "\n",
    "#     for date in owid_only:\n",
    "#         owid_sdf = owid_covid_df.loc[owid_covid_df['owid_date'] == date]\n",
    "#         temp_sdf = noncovid_sdf.merge(owid_sdf, how='left', left_on='ISO3166:3',\n",
    "#                                  right_on='owid_iso_code')\n",
    "#         temp_sdf['Date'] = temp_sdf['owid_date'] \n",
    "#         megazord_df = pd.concat([megazord_df, temp_sdf])\n",
    "\n",
    "#     for date in common_dates:\n",
    "#         owid_sdf = owid_covid_df.loc[owid_covid_df['owid_date'] == date]\n",
    "#         full_sdf = full_df.loc[full_df['Date'] == date]\n",
    "#         full_sdf = full_sdf.merge(owid_sdf, how='left', left_on='ISO3166:3',\n",
    "#                                  right_on='owid_iso_code')\n",
    "#         megazord_df = pd.concat([megazord_df, full_sdf])\n",
    "        \n",
    "#     return megazord_df"
   ]
  },
  {
   "cell_type": "markdown",
   "metadata": {},
   "source": [
    "### OWID data"
   ]
  },
  {
   "cell_type": "code",
   "execution_count": 223,
   "metadata": {
    "ExecuteTime": {
     "end_time": "2020-06-08T15:50:10.276435Z",
     "start_time": "2020-06-08T15:50:06.597230Z"
    }
   },
   "outputs": [],
   "source": [
    "owid_df = pd.read_csv('https://covid.ourworldindata.org/data/owid-covid-data.csv')"
   ]
  },
  {
   "cell_type": "code",
   "execution_count": 224,
   "metadata": {
    "ExecuteTime": {
     "end_time": "2020-06-08T15:50:10.286205Z",
     "start_time": "2020-06-08T15:50:10.279175Z"
    }
   },
   "outputs": [
    {
     "data": {
      "text/plain": [
       "Index(['iso_code', 'continent', 'location', 'date', 'total_cases', 'new_cases',\n",
       "       'total_deaths', 'new_deaths', 'total_cases_per_million',\n",
       "       'new_cases_per_million', 'total_deaths_per_million',\n",
       "       'new_deaths_per_million', 'total_tests', 'new_tests',\n",
       "       'total_tests_per_thousand', 'new_tests_per_thousand',\n",
       "       'new_tests_smoothed', 'new_tests_smoothed_per_thousand', 'tests_units',\n",
       "       'stringency_index', 'population', 'population_density', 'median_age',\n",
       "       'aged_65_older', 'aged_70_older', 'gdp_per_capita', 'extreme_poverty',\n",
       "       'cvd_death_rate', 'diabetes_prevalence', 'female_smokers',\n",
       "       'male_smokers', 'handwashing_facilities', 'hospital_beds_per_thousand'],\n",
       "      dtype='object')"
      ]
     },
     "execution_count": 224,
     "metadata": {},
     "output_type": "execute_result"
    }
   ],
   "source": [
    "owid_df.columns"
   ]
  },
  {
   "cell_type": "code",
   "execution_count": 285,
   "metadata": {
    "ExecuteTime": {
     "end_time": "2020-06-08T16:11:09.672370Z",
     "start_time": "2020-06-08T16:11:02.911251Z"
    }
   },
   "outputs": [
    {
     "name": "stdout",
     "output_type": "stream",
     "text": [
      ">> File  [ owid_covid_raw.csv ] found. Checking age... \n",
      "\t+ File  [ owid_covid_raw.csv ] not expired. Load from disk...\n",
      ">> File [ owid_constants.csv ] not found. Fetching...\n"
     ]
    },
    {
     "ename": "UnboundLocalError",
     "evalue": "local variable 'owid_covid_df' referenced before assignment",
     "output_type": "error",
     "traceback": [
      "\u001b[0;31m---------------------------------------------------------------------------\u001b[0m",
      "\u001b[0;31mUnboundLocalError\u001b[0m                         Traceback (most recent call last)",
      "\u001b[0;32m<ipython-input-285-6328af26c33e>\u001b[0m in \u001b[0;36m<module>\u001b[0;34m\u001b[0m\n\u001b[0;32m----> 1\u001b[0;31m \u001b[0mowid_covid_df\u001b[0m\u001b[0;34m,\u001b[0m \u001b[0mowid_constant_df\u001b[0m \u001b[0;34m=\u001b[0m \u001b[0mfetch_data\u001b[0m\u001b[0;34m.\u001b[0m\u001b[0mfetch_owid\u001b[0m\u001b[0;34m(\u001b[0m\u001b[0;34m)\u001b[0m\u001b[0;34m\u001b[0m\u001b[0;34m\u001b[0m\u001b[0m\n\u001b[0m",
      "\u001b[0;32m~/Dropbox/Records/Education/2019-20_BGSE_MScDataScience/Modules/DS_Trimester03/DS_MastersProject/dashboard/cv_dashboard/fetch_data.py\u001b[0m in \u001b[0;36mfetch_owid\u001b[0;34m(save_file, covid_filename, constant_filename, threshold, data_path)\u001b[0m\n\u001b[1;32m    540\u001b[0m \t\t\t\t\t\t'owid_tests_units', 'owid_stringency_index']\n\u001b[1;32m    541\u001b[0m \u001b[0;34m\u001b[0m\u001b[0m\n\u001b[0;32m--> 542\u001b[0;31m         \u001b[0mowid_covid_df\u001b[0m \u001b[0;34m=\u001b[0m \u001b[0mowid_covid_df\u001b[0m\u001b[0;34m[\u001b[0m\u001b[0mowid_columns_sel\u001b[0m\u001b[0;34m]\u001b[0m\u001b[0;34m\u001b[0m\u001b[0;34m\u001b[0m\u001b[0m\n\u001b[0m\u001b[1;32m    543\u001b[0m         \u001b[0mowid_covid_df\u001b[0m\u001b[0;34m[\u001b[0m\u001b[0;34m'owid_date'\u001b[0m\u001b[0;34m]\u001b[0m \u001b[0;34m=\u001b[0m \u001b[0mpd\u001b[0m\u001b[0;34m.\u001b[0m\u001b[0mto_datetime\u001b[0m\u001b[0;34m(\u001b[0m\u001b[0mowid_covid_df\u001b[0m\u001b[0;34m[\u001b[0m\u001b[0;34m'owid_date'\u001b[0m\u001b[0;34m]\u001b[0m\u001b[0;34m)\u001b[0m\u001b[0;34m\u001b[0m\u001b[0;34m\u001b[0m\u001b[0m\n\u001b[1;32m    544\u001b[0m \u001b[0;34m\u001b[0m\u001b[0m\n",
      "\u001b[0;31mUnboundLocalError\u001b[0m: local variable 'owid_covid_df' referenced before assignment"
     ]
    }
   ],
   "source": [
    "owid_covid_df, owid_constant_df = fetch_data.fetch_owid()"
   ]
  },
  {
   "cell_type": "code",
   "execution_count": 243,
   "metadata": {
    "ExecuteTime": {
     "end_time": "2020-06-08T15:54:57.332454Z",
     "start_time": "2020-06-08T15:54:57.321145Z"
    }
   },
   "outputs": [],
   "source": [
    "sdf = owid_df.loc[owid_df['location'] == 'United States']"
   ]
  },
  {
   "cell_type": "code",
   "execution_count": 246,
   "metadata": {
    "ExecuteTime": {
     "end_time": "2020-06-08T15:55:36.371381Z",
     "start_time": "2020-06-08T15:55:36.360213Z"
    }
   },
   "outputs": [
    {
     "name": "stdout",
     "output_type": "stream",
     "text": [
      "iso_code\n",
      "continent\n",
      "location\n",
      "date\n",
      "total_cases\n",
      "new_cases\n",
      "total_deaths\n",
      "new_deaths\n",
      "total_cases_per_million\n",
      "new_cases_per_million\n",
      "total_deaths_per_million\n",
      "new_deaths_per_million\n",
      "total_tests\n",
      "new_tests\n",
      "total_tests_per_thousand\n",
      "new_tests_per_thousand\n",
      "new_tests_smoothed\n",
      "new_tests_smoothed_per_thousand\n",
      "tests_units\n",
      "stringency_index\n",
      "population\n",
      "population_density\n",
      "median_age\n",
      "aged_65_older\n",
      "aged_70_older\n",
      "gdp_per_capita\n",
      "extreme_poverty\n",
      "cvd_death_rate\n",
      "diabetes_prevalence\n",
      "female_smokers\n",
      "male_smokers\n",
      "handwashing_facilities\n",
      "hospital_beds_per_thousand\n"
     ]
    }
   ],
   "source": [
    "for column in sdf.columns:\n",
    "    print(column)"
   ]
  },
  {
   "cell_type": "code",
   "execution_count": 252,
   "metadata": {
    "ExecuteTime": {
     "end_time": "2020-06-08T15:57:31.043683Z",
     "start_time": "2020-06-08T15:57:31.039665Z"
    }
   },
   "outputs": [],
   "source": [
    "def list_unique(df, column):\n",
    "    print(df[column].unique())"
   ]
  },
  {
   "cell_type": "code",
   "execution_count": 280,
   "metadata": {
    "ExecuteTime": {
     "end_time": "2020-06-08T16:03:31.247491Z",
     "start_time": "2020-06-08T16:03:31.241076Z"
    }
   },
   "outputs": [
    {
     "name": "stdout",
     "output_type": "stream",
     "text": [
      "[  nan  0.    5.56  8.33 11.11 20.37 21.76 30.09 35.65 41.2  52.31 55.09\n",
      " 67.13 72.69]\n"
     ]
    }
   ],
   "source": [
    "list_unique(sdf, 'stringency_index')"
   ]
  },
  {
   "cell_type": "code",
   "execution_count": 277,
   "metadata": {
    "ExecuteTime": {
     "end_time": "2020-06-08T16:02:21.313962Z",
     "start_time": "2020-06-08T16:02:21.308975Z"
    }
   },
   "outputs": [],
   "source": [
    "unique_columns = list(owid_df.columns[0:2]) + list(owid_df.columns[20:])"
   ]
  },
  {
   "cell_type": "code",
   "execution_count": 278,
   "metadata": {
    "ExecuteTime": {
     "end_time": "2020-06-08T16:02:21.758419Z",
     "start_time": "2020-06-08T16:02:21.727192Z"
    }
   },
   "outputs": [],
   "source": [
    "owid_df_constant = owid_df[unique_columns].drop_duplicates()"
   ]
  },
  {
   "cell_type": "code",
   "execution_count": 279,
   "metadata": {
    "ExecuteTime": {
     "end_time": "2020-06-08T16:02:22.246290Z",
     "start_time": "2020-06-08T16:02:22.215361Z"
    }
   },
   "outputs": [
    {
     "data": {
      "text/html": [
       "<div>\n",
       "<style scoped>\n",
       "    .dataframe tbody tr th:only-of-type {\n",
       "        vertical-align: middle;\n",
       "    }\n",
       "\n",
       "    .dataframe tbody tr th {\n",
       "        vertical-align: top;\n",
       "    }\n",
       "\n",
       "    .dataframe thead th {\n",
       "        text-align: right;\n",
       "    }\n",
       "</style>\n",
       "<table border=\"1\" class=\"dataframe\">\n",
       "  <thead>\n",
       "    <tr style=\"text-align: right;\">\n",
       "      <th></th>\n",
       "      <th>iso_code</th>\n",
       "      <th>continent</th>\n",
       "      <th>population</th>\n",
       "      <th>population_density</th>\n",
       "      <th>median_age</th>\n",
       "      <th>aged_65_older</th>\n",
       "      <th>aged_70_older</th>\n",
       "      <th>gdp_per_capita</th>\n",
       "      <th>extreme_poverty</th>\n",
       "      <th>cvd_death_rate</th>\n",
       "      <th>diabetes_prevalence</th>\n",
       "      <th>female_smokers</th>\n",
       "      <th>male_smokers</th>\n",
       "      <th>handwashing_facilities</th>\n",
       "      <th>hospital_beds_per_thousand</th>\n",
       "    </tr>\n",
       "  </thead>\n",
       "  <tbody>\n",
       "    <tr>\n",
       "      <th>0</th>\n",
       "      <td>AFG</td>\n",
       "      <td>Asia</td>\n",
       "      <td>3.892834e+07</td>\n",
       "      <td>54.422</td>\n",
       "      <td>18.6</td>\n",
       "      <td>2.581</td>\n",
       "      <td>1.337</td>\n",
       "      <td>1803.987</td>\n",
       "      <td>NaN</td>\n",
       "      <td>597.029</td>\n",
       "      <td>9.59</td>\n",
       "      <td>NaN</td>\n",
       "      <td>NaN</td>\n",
       "      <td>37.746</td>\n",
       "      <td>0.500</td>\n",
       "    </tr>\n",
       "    <tr>\n",
       "      <th>151</th>\n",
       "      <td>ALB</td>\n",
       "      <td>Europe</td>\n",
       "      <td>2.877800e+06</td>\n",
       "      <td>104.871</td>\n",
       "      <td>38.0</td>\n",
       "      <td>13.188</td>\n",
       "      <td>8.643</td>\n",
       "      <td>11803.431</td>\n",
       "      <td>1.1</td>\n",
       "      <td>304.195</td>\n",
       "      <td>10.08</td>\n",
       "      <td>7.100</td>\n",
       "      <td>51.200</td>\n",
       "      <td>NaN</td>\n",
       "      <td>2.890</td>\n",
       "    </tr>\n",
       "    <tr>\n",
       "      <th>243</th>\n",
       "      <td>DZA</td>\n",
       "      <td>Africa</td>\n",
       "      <td>4.385104e+07</td>\n",
       "      <td>17.348</td>\n",
       "      <td>29.1</td>\n",
       "      <td>6.211</td>\n",
       "      <td>3.857</td>\n",
       "      <td>13913.839</td>\n",
       "      <td>0.5</td>\n",
       "      <td>278.364</td>\n",
       "      <td>6.73</td>\n",
       "      <td>0.700</td>\n",
       "      <td>30.400</td>\n",
       "      <td>83.741</td>\n",
       "      <td>1.900</td>\n",
       "    </tr>\n",
       "    <tr>\n",
       "      <th>399</th>\n",
       "      <td>AND</td>\n",
       "      <td>Europe</td>\n",
       "      <td>7.726500e+04</td>\n",
       "      <td>163.755</td>\n",
       "      <td>NaN</td>\n",
       "      <td>NaN</td>\n",
       "      <td>NaN</td>\n",
       "      <td>NaN</td>\n",
       "      <td>NaN</td>\n",
       "      <td>109.135</td>\n",
       "      <td>7.97</td>\n",
       "      <td>29.000</td>\n",
       "      <td>37.800</td>\n",
       "      <td>NaN</td>\n",
       "      <td>NaN</td>\n",
       "    </tr>\n",
       "    <tr>\n",
       "      <th>486</th>\n",
       "      <td>AGO</td>\n",
       "      <td>Africa</td>\n",
       "      <td>3.286627e+07</td>\n",
       "      <td>23.890</td>\n",
       "      <td>16.8</td>\n",
       "      <td>2.405</td>\n",
       "      <td>1.362</td>\n",
       "      <td>5819.495</td>\n",
       "      <td>NaN</td>\n",
       "      <td>276.045</td>\n",
       "      <td>3.94</td>\n",
       "      <td>NaN</td>\n",
       "      <td>NaN</td>\n",
       "      <td>26.664</td>\n",
       "      <td>NaN</td>\n",
       "    </tr>\n",
       "    <tr>\n",
       "      <th>...</th>\n",
       "      <td>...</td>\n",
       "      <td>...</td>\n",
       "      <td>...</td>\n",
       "      <td>...</td>\n",
       "      <td>...</td>\n",
       "      <td>...</td>\n",
       "      <td>...</td>\n",
       "      <td>...</td>\n",
       "      <td>...</td>\n",
       "      <td>...</td>\n",
       "      <td>...</td>\n",
       "      <td>...</td>\n",
       "      <td>...</td>\n",
       "      <td>...</td>\n",
       "      <td>...</td>\n",
       "    </tr>\n",
       "    <tr>\n",
       "      <th>22215</th>\n",
       "      <td>YEM</td>\n",
       "      <td>Asia</td>\n",
       "      <td>2.982597e+07</td>\n",
       "      <td>53.508</td>\n",
       "      <td>20.3</td>\n",
       "      <td>2.922</td>\n",
       "      <td>1.583</td>\n",
       "      <td>1479.147</td>\n",
       "      <td>18.8</td>\n",
       "      <td>495.003</td>\n",
       "      <td>5.35</td>\n",
       "      <td>7.600</td>\n",
       "      <td>29.200</td>\n",
       "      <td>49.542</td>\n",
       "      <td>0.700</td>\n",
       "    </tr>\n",
       "    <tr>\n",
       "      <th>22275</th>\n",
       "      <td>ZMB</td>\n",
       "      <td>Africa</td>\n",
       "      <td>1.838396e+07</td>\n",
       "      <td>22.995</td>\n",
       "      <td>17.7</td>\n",
       "      <td>2.480</td>\n",
       "      <td>1.542</td>\n",
       "      <td>3689.251</td>\n",
       "      <td>57.5</td>\n",
       "      <td>234.499</td>\n",
       "      <td>3.94</td>\n",
       "      <td>3.100</td>\n",
       "      <td>24.700</td>\n",
       "      <td>13.938</td>\n",
       "      <td>2.000</td>\n",
       "    </tr>\n",
       "    <tr>\n",
       "      <th>22357</th>\n",
       "      <td>ZWE</td>\n",
       "      <td>Africa</td>\n",
       "      <td>1.486293e+07</td>\n",
       "      <td>42.729</td>\n",
       "      <td>19.6</td>\n",
       "      <td>2.822</td>\n",
       "      <td>1.882</td>\n",
       "      <td>1899.775</td>\n",
       "      <td>21.4</td>\n",
       "      <td>307.846</td>\n",
       "      <td>1.82</td>\n",
       "      <td>1.600</td>\n",
       "      <td>30.700</td>\n",
       "      <td>36.791</td>\n",
       "      <td>1.700</td>\n",
       "    </tr>\n",
       "    <tr>\n",
       "      <th>22437</th>\n",
       "      <td>OWID_WRL</td>\n",
       "      <td>NaN</td>\n",
       "      <td>7.794799e+09</td>\n",
       "      <td>58.045</td>\n",
       "      <td>30.9</td>\n",
       "      <td>8.696</td>\n",
       "      <td>5.355</td>\n",
       "      <td>15469.207</td>\n",
       "      <td>10.0</td>\n",
       "      <td>233.070</td>\n",
       "      <td>8.51</td>\n",
       "      <td>6.434</td>\n",
       "      <td>34.635</td>\n",
       "      <td>60.130</td>\n",
       "      <td>2.705</td>\n",
       "    </tr>\n",
       "    <tr>\n",
       "      <th>22598</th>\n",
       "      <td>NaN</td>\n",
       "      <td>NaN</td>\n",
       "      <td>NaN</td>\n",
       "      <td>NaN</td>\n",
       "      <td>NaN</td>\n",
       "      <td>NaN</td>\n",
       "      <td>NaN</td>\n",
       "      <td>NaN</td>\n",
       "      <td>NaN</td>\n",
       "      <td>NaN</td>\n",
       "      <td>NaN</td>\n",
       "      <td>NaN</td>\n",
       "      <td>NaN</td>\n",
       "      <td>NaN</td>\n",
       "      <td>NaN</td>\n",
       "    </tr>\n",
       "  </tbody>\n",
       "</table>\n",
       "<p>212 rows × 15 columns</p>\n",
       "</div>"
      ],
      "text/plain": [
       "       iso_code continent    population  population_density  median_age  \\\n",
       "0           AFG      Asia  3.892834e+07              54.422        18.6   \n",
       "151         ALB    Europe  2.877800e+06             104.871        38.0   \n",
       "243         DZA    Africa  4.385104e+07              17.348        29.1   \n",
       "399         AND    Europe  7.726500e+04             163.755         NaN   \n",
       "486         AGO    Africa  3.286627e+07              23.890        16.8   \n",
       "...         ...       ...           ...                 ...         ...   \n",
       "22215       YEM      Asia  2.982597e+07              53.508        20.3   \n",
       "22275       ZMB    Africa  1.838396e+07              22.995        17.7   \n",
       "22357       ZWE    Africa  1.486293e+07              42.729        19.6   \n",
       "22437  OWID_WRL       NaN  7.794799e+09              58.045        30.9   \n",
       "22598       NaN       NaN           NaN                 NaN         NaN   \n",
       "\n",
       "       aged_65_older  aged_70_older  gdp_per_capita  extreme_poverty  \\\n",
       "0              2.581          1.337        1803.987              NaN   \n",
       "151           13.188          8.643       11803.431              1.1   \n",
       "243            6.211          3.857       13913.839              0.5   \n",
       "399              NaN            NaN             NaN              NaN   \n",
       "486            2.405          1.362        5819.495              NaN   \n",
       "...              ...            ...             ...              ...   \n",
       "22215          2.922          1.583        1479.147             18.8   \n",
       "22275          2.480          1.542        3689.251             57.5   \n",
       "22357          2.822          1.882        1899.775             21.4   \n",
       "22437          8.696          5.355       15469.207             10.0   \n",
       "22598            NaN            NaN             NaN              NaN   \n",
       "\n",
       "       cvd_death_rate  diabetes_prevalence  female_smokers  male_smokers  \\\n",
       "0             597.029                 9.59             NaN           NaN   \n",
       "151           304.195                10.08           7.100        51.200   \n",
       "243           278.364                 6.73           0.700        30.400   \n",
       "399           109.135                 7.97          29.000        37.800   \n",
       "486           276.045                 3.94             NaN           NaN   \n",
       "...               ...                  ...             ...           ...   \n",
       "22215         495.003                 5.35           7.600        29.200   \n",
       "22275         234.499                 3.94           3.100        24.700   \n",
       "22357         307.846                 1.82           1.600        30.700   \n",
       "22437         233.070                 8.51           6.434        34.635   \n",
       "22598             NaN                  NaN             NaN           NaN   \n",
       "\n",
       "       handwashing_facilities  hospital_beds_per_thousand  \n",
       "0                      37.746                       0.500  \n",
       "151                       NaN                       2.890  \n",
       "243                    83.741                       1.900  \n",
       "399                       NaN                         NaN  \n",
       "486                    26.664                         NaN  \n",
       "...                       ...                         ...  \n",
       "22215                  49.542                       0.700  \n",
       "22275                  13.938                       2.000  \n",
       "22357                  36.791                       1.700  \n",
       "22437                  60.130                       2.705  \n",
       "22598                     NaN                         NaN  \n",
       "\n",
       "[212 rows x 15 columns]"
      ]
     },
     "execution_count": 279,
     "metadata": {},
     "output_type": "execute_result"
    }
   ],
   "source": [
    "owid_df_constant"
   ]
  },
  {
   "cell_type": "code",
   "execution_count": 267,
   "metadata": {
    "ExecuteTime": {
     "end_time": "2020-06-08T15:59:37.223660Z",
     "start_time": "2020-06-08T15:59:37.217064Z"
    }
   },
   "outputs": [
    {
     "name": "stdout",
     "output_type": "stream",
     "text": [
      "[24.6]\n"
     ]
    }
   ],
   "source": [
    "list_unique(sdf, 'male_smokers')"
   ]
  },
  {
   "cell_type": "code",
   "execution_count": 368,
   "metadata": {
    "ExecuteTime": {
     "end_time": "2020-06-08T16:46:28.370138Z",
     "start_time": "2020-06-08T16:46:28.365988Z"
    }
   },
   "outputs": [],
   "source": [
    "import matplotlib.pyplot as plt\n",
    "import numpy as np\n",
    "\n",
    "import country_converter as coco\n"
   ]
  },
  {
   "cell_type": "markdown",
   "metadata": {},
   "source": [
    "### Load Other Data"
   ]
  },
  {
   "cell_type": "code",
   "execution_count": 567,
   "metadata": {
    "ExecuteTime": {
     "end_time": "2020-06-08T18:21:19.439705Z",
     "start_time": "2020-06-08T18:21:19.423021Z"
    }
   },
   "outputs": [
    {
     "name": "stdout",
     "output_type": "stream",
     "text": [
      "Refreshed at 2020-06-08 20:21:19.436552\n"
     ]
    }
   ],
   "source": [
    "reload_module(fetch_data)"
   ]
  },
  {
   "cell_type": "code",
   "execution_count": 568,
   "metadata": {
    "ExecuteTime": {
     "end_time": "2020-06-08T18:21:39.981531Z",
     "start_time": "2020-06-08T18:21:20.108373Z"
    }
   },
   "outputs": [
    {
     "name": "stdout",
     "output_type": "stream",
     "text": [
      ">> File  [ jh_clean.csv ] found. Checking age... \n",
      "\t+ File  [ jh_clean.csv ] not expired. Load from disk...\n",
      ">> File  [ owid_covid_raw.csv ] found. Checking age... \n",
      "\t+ File  [ owid_covid_raw.csv ] not expired. Load from disk...\n",
      ">> File  [ owid_constants.csv ] found. Checking age... \n",
      "\t+ File  [ owid_constants.csv ] not expired. Load from disk...\n",
      ">> File  [ covid_merged.csv ] found. Checking age... \n",
      "\t+ File  [ covid_merged.csv ] not expired. Load from disk...\n",
      ">> Generating Covid features...\n"
     ]
    }
   ],
   "source": [
    "jh_df = fetch_data.fetch_jh_clean()\n",
    "owid_covid_df, owid_constant_df = fetch_data.fetch_owid()\n",
    "full_covid_df = fetch_data.merge_covid_sources(jh_df, owid_covid_df)\n",
    "\n",
    "full_df = fetch_data.generate_covid_features(full_covid_df)\n",
    "# full_df.reset_index(inplace=True, drop=True)\n",
    "# full_df = fetch_data.rename_select_columns(full_df)"
   ]
  },
  {
   "cell_type": "code",
   "execution_count": 569,
   "metadata": {
    "ExecuteTime": {
     "end_time": "2020-06-08T18:21:39.990573Z",
     "start_time": "2020-06-08T18:21:39.984288Z"
    }
   },
   "outputs": [],
   "source": [
    "# df = full_covid_df.copy()\n",
    "\n",
    "# roots = ['confirmed', 'deaths', 'recovered', 'tested']\n",
    "\n",
    "# for root in roots:\n",
    "#     df[f'{root}_daily'] = 0\n",
    "    \n",
    "# for entity in df['ISO3166_alpha3'].unique():\n",
    "#     sdf = df.loc[df['ISO3166_alpha3'] == entity].copy()\n",
    "#     for root in roots:\n",
    "#         sdf[f'{root}_daily'] = sdf[f'{root}_total'].diff()\n",
    "#     df.update(sdf)"
   ]
  },
  {
   "cell_type": "code",
   "execution_count": 571,
   "metadata": {
    "ExecuteTime": {
     "end_time": "2020-06-08T18:21:40.047409Z",
     "start_time": "2020-06-08T18:21:40.035345Z"
    }
   },
   "outputs": [],
   "source": [
    "df = full_df.copy()"
   ]
  },
  {
   "cell_type": "code",
   "execution_count": 572,
   "metadata": {
    "ExecuteTime": {
     "end_time": "2020-06-08T18:21:40.064837Z",
     "start_time": "2020-06-08T18:21:40.051903Z"
    }
   },
   "outputs": [],
   "source": [
    "italy_df = df.loc[df['Country/Region']=='Italy'].copy()"
   ]
  },
  {
   "cell_type": "code",
   "execution_count": 573,
   "metadata": {
    "ExecuteTime": {
     "end_time": "2020-06-08T18:21:40.523715Z",
     "start_time": "2020-06-08T18:21:40.516247Z"
    }
   },
   "outputs": [],
   "source": [
    "italy_df['delta'] = italy_df['confirmed_total'].diff()"
   ]
  },
  {
   "cell_type": "code",
   "execution_count": 574,
   "metadata": {
    "ExecuteTime": {
     "end_time": "2020-06-08T18:21:41.107719Z",
     "start_time": "2020-06-08T18:21:41.101837Z"
    }
   },
   "outputs": [],
   "source": [
    "df[f'{root}_daily'] = df[f'{root}_total'].diff()"
   ]
  },
  {
   "cell_type": "code",
   "execution_count": 575,
   "metadata": {
    "ExecuteTime": {
     "end_time": "2020-06-08T18:21:41.728135Z",
     "start_time": "2020-06-08T18:21:41.713647Z"
    }
   },
   "outputs": [
    {
     "data": {
      "text/html": [
       "<div>\n",
       "<style scoped>\n",
       "    .dataframe tbody tr th:only-of-type {\n",
       "        vertical-align: middle;\n",
       "    }\n",
       "\n",
       "    .dataframe tbody tr th {\n",
       "        vertical-align: top;\n",
       "    }\n",
       "\n",
       "    .dataframe thead th {\n",
       "        text-align: right;\n",
       "    }\n",
       "</style>\n",
       "<table border=\"1\" class=\"dataframe\">\n",
       "  <thead>\n",
       "    <tr style=\"text-align: right;\">\n",
       "      <th></th>\n",
       "      <th>confirmed_total</th>\n",
       "      <th>confirmed_daily</th>\n",
       "      <th>delta</th>\n",
       "    </tr>\n",
       "  </thead>\n",
       "  <tbody>\n",
       "    <tr>\n",
       "      <th>25641</th>\n",
       "      <td>232248.0</td>\n",
       "      <td>516.0</td>\n",
       "      <td>516.0</td>\n",
       "    </tr>\n",
       "    <tr>\n",
       "      <th>25827</th>\n",
       "      <td>232664.0</td>\n",
       "      <td>416.0</td>\n",
       "      <td>416.0</td>\n",
       "    </tr>\n",
       "    <tr>\n",
       "      <th>26013</th>\n",
       "      <td>232997.0</td>\n",
       "      <td>333.0</td>\n",
       "      <td>333.0</td>\n",
       "    </tr>\n",
       "    <tr>\n",
       "      <th>26199</th>\n",
       "      <td>233197.0</td>\n",
       "      <td>200.0</td>\n",
       "      <td>200.0</td>\n",
       "    </tr>\n",
       "    <tr>\n",
       "      <th>26385</th>\n",
       "      <td>233515.0</td>\n",
       "      <td>318.0</td>\n",
       "      <td>318.0</td>\n",
       "    </tr>\n",
       "    <tr>\n",
       "      <th>26571</th>\n",
       "      <td>233836.0</td>\n",
       "      <td>321.0</td>\n",
       "      <td>321.0</td>\n",
       "    </tr>\n",
       "    <tr>\n",
       "      <th>26757</th>\n",
       "      <td>234013.0</td>\n",
       "      <td>177.0</td>\n",
       "      <td>177.0</td>\n",
       "    </tr>\n",
       "    <tr>\n",
       "      <th>26943</th>\n",
       "      <td>234531.0</td>\n",
       "      <td>518.0</td>\n",
       "      <td>518.0</td>\n",
       "    </tr>\n",
       "    <tr>\n",
       "      <th>27129</th>\n",
       "      <td>234801.0</td>\n",
       "      <td>270.0</td>\n",
       "      <td>270.0</td>\n",
       "    </tr>\n",
       "    <tr>\n",
       "      <th>27315</th>\n",
       "      <td>234998.0</td>\n",
       "      <td>197.0</td>\n",
       "      <td>197.0</td>\n",
       "    </tr>\n",
       "  </tbody>\n",
       "</table>\n",
       "</div>"
      ],
      "text/plain": [
       "       confirmed_total  confirmed_daily  delta\n",
       "25641         232248.0            516.0  516.0\n",
       "25827         232664.0            416.0  416.0\n",
       "26013         232997.0            333.0  333.0\n",
       "26199         233197.0            200.0  200.0\n",
       "26385         233515.0            318.0  318.0\n",
       "26571         233836.0            321.0  321.0\n",
       "26757         234013.0            177.0  177.0\n",
       "26943         234531.0            518.0  518.0\n",
       "27129         234801.0            270.0  270.0\n",
       "27315         234998.0            197.0  197.0"
      ]
     },
     "execution_count": 575,
     "metadata": {},
     "output_type": "execute_result"
    }
   ],
   "source": [
    "italy_df.tail(10)[['confirmed_total', 'confirmed_daily', 'delta']]"
   ]
  },
  {
   "cell_type": "code",
   "execution_count": 500,
   "metadata": {
    "ExecuteTime": {
     "end_time": "2020-06-08T17:46:11.227915Z",
     "start_time": "2020-06-08T17:45:59.903083Z"
    }
   },
   "outputs": [
    {
     "name": "stdout",
     "output_type": "stream",
     "text": [
      ">> File  [ jh_clean.csv ] found. Checking age... \n",
      "\t+ File  [ jh_clean.csv ] not expired. Load from disk...\n",
      ">> File  [ owid_covid_raw.csv ] found. Checking age... \n",
      "\t+ File  [ owid_covid_raw.csv ] not expired. Load from disk...\n",
      ">> File  [ owid_constants.csv ] found. Checking age... \n",
      "\t+ File  [ owid_constants.csv ] not expired. Load from disk...\n",
      ">> File  [ covid_merged.csv ] found. Checking age... \n",
      "\t+ File  [ covid_merged.csv ] not expired. Load from disk...\n"
     ]
    }
   ],
   "source": [
    "# full_df = fetch_data.fetch_all()"
   ]
  },
  {
   "cell_type": "code",
   "execution_count": 491,
   "metadata": {
    "ExecuteTime": {
     "end_time": "2020-06-08T17:40:21.322093Z",
     "start_time": "2020-06-08T17:40:21.317470Z"
    }
   },
   "outputs": [],
   "source": [
    "# full_covid_df = fetch_data.generate_summary_rows(full_covid_df)"
   ]
  },
  {
   "cell_type": "code",
   "execution_count": 468,
   "metadata": {
    "ExecuteTime": {
     "end_time": "2020-06-08T17:29:30.748544Z",
     "start_time": "2020-06-08T17:29:30.727492Z"
    }
   },
   "outputs": [],
   "source": [
    "df = full_covid_df.copy()"
   ]
  },
  {
   "cell_type": "code",
   "execution_count": 486,
   "metadata": {
    "ExecuteTime": {
     "end_time": "2020-06-08T17:39:16.499147Z",
     "start_time": "2020-06-08T17:39:16.494515Z"
    }
   },
   "outputs": [],
   "source": [
    "# roots = ['confirmed', 'deaths', 'recovered', 'tested']\n",
    "\n",
    "# for root in roots:\n",
    "#     df[f'{root}_daily'] = df[f'{root}_total'].diff()\n",
    "# df[f'active_daily'] = df['confirmed_daily'] - df['deaths_daily'] - df['recovered_daily']\n",
    "# df[f'active_total'] = df[f'active_daily'].cumsum()\n",
    "\n",
    "# roots += ['active']\n",
    "# suffixes = ['_total', '_daily']\n",
    "# for suffix in suffixes:\n",
    "#     for root in roots:\n",
    "#         df[f'{root}{suffix}_norm'] = (df[f'{root}{suffix}'] / df['owid_population']) * 1e6\n",
    "#         # This needs the world total to be added first I think...\n",
    "#         #df[f'{root}{suffix}_pct'] = df[f'{root}{suffix}']\n",
    "\n",
    "# for date in df['Date'].unique():\n",
    "#     for suffix in suffixes:\n",
    "#         for root in roots:\n",
    "#             try:\n",
    "#                 world_val = df.loc[(df['ISO3166_alpha3']=='WLD') &\n",
    "#                                     (df['Date']==date),\n",
    "#                                     f'{root}{suffix}'].values[0]\n",
    "#                 assigned_value = (df[f'{root}{suffix}'] / world_val) * 100\n",
    "#                 df.loc[df['Date']==date,f'{root}{suffix}_pct'] = assigned_value\n",
    "#             except:\n",
    "#                 df.loc[df['Date']==date,f'{root}{suffix}_pct'] = 0"
   ]
  },
  {
   "cell_type": "code",
   "execution_count": 480,
   "metadata": {
    "ExecuteTime": {
     "end_time": "2020-06-08T17:33:07.781881Z",
     "start_time": "2020-06-08T17:33:07.777264Z"
    }
   },
   "outputs": [],
   "source": [
    "# def generate_summary(df, subset=None, name_dict=None):\n",
    "#     if subset is not None:\n",
    "#         sdf = df.loc[df['ISO3166_alpha3'].isin(subset)].copy()\n",
    "#     else:\n",
    "#         sdf = df.copy()\n",
    "#         name_dict = {'Name': 'World',\n",
    "#              'ISO2': 'WD',\n",
    "#              'ISO3': 'WLD',\n",
    "#              'ISO#': '999'}\n",
    "\n",
    "#     row_list = []    \n",
    "#     for date in df['Date'].unique():\n",
    "#         row_dict = df.loc[df['Date'] == date].sum().to_dict()\n",
    "#         row_dict['Province/State'] = np.nan\n",
    "#         row_dict['owid_stringency_index'] = np.nan\n",
    "\n",
    "#         row_dict['Country/Region'] = name_dict['Name']\n",
    "#         row_dict['owid_location'] = name_dict['Name']\n",
    "#         row_dict['ISO3166_alpha2'] = name_dict['ISO2']\n",
    "#         row_dict['ISO3166_alpha3'] = name_dict['ISO3']\n",
    "#         row_dict['ISO3166_numeric'] = name_dict['ISO#']\n",
    "#         row_dict['owid_iso_code'] = name_dict['ISO3']\n",
    "\n",
    "#         row_list.append(row_dict)\n",
    "#         #sdf = pd.concat([sdf, temp_df], axis=1)\n",
    "\n",
    "#     df = df.append(row_list, ignore_index=True)\n",
    "#     return df"
   ]
  },
  {
   "cell_type": "code",
   "execution_count": 394,
   "metadata": {
    "ExecuteTime": {
     "end_time": "2020-06-08T16:59:09.413341Z",
     "start_time": "2020-06-08T16:59:01.675397Z"
    }
   },
   "outputs": [],
   "source": [
    "\t# for date in df['Date'].unique():\n",
    "\t# \tfor suffix in suffixes:\n",
    "\t# \t\tfor root in roots:\n",
    "\t# \t\t\tworld_val = df.loc[(df['DisplayName']=='World') &\n",
    "\t# \t\t\t\t\t\t\t\t(df['Date']==date),\n",
    "\t# \t\t\t\t\t\t\t\tf'{root}{suffix}'].values[0]\n",
    "\t# \t\t\tdf.loc[df['Date']==date,f'{root}{suffix}_pct'] = (df[f'{root}{suffix}'] / world_val) * 100\n",
    "\n"
   ]
  },
  {
   "cell_type": "code",
   "execution_count": 369,
   "metadata": {
    "ExecuteTime": {
     "end_time": "2020-06-08T16:46:32.038699Z",
     "start_time": "2020-06-08T16:46:31.997787Z"
    }
   },
   "outputs": [],
   "source": []
  },
  {
   "cell_type": "code",
   "execution_count": 377,
   "metadata": {
    "ExecuteTime": {
     "end_time": "2020-06-08T16:49:28.452504Z",
     "start_time": "2020-06-08T16:49:28.446702Z"
    }
   },
   "outputs": [],
   "source": [
    "subset = list(cc.data.loc[cc.data.EU <= 2017]['ISO3'].values)"
   ]
  },
  {
   "cell_type": "code",
   "execution_count": 379,
   "metadata": {
    "ExecuteTime": {
     "end_time": "2020-06-08T16:49:33.754210Z",
     "start_time": "2020-06-08T16:49:33.745989Z"
    }
   },
   "outputs": [
    {
     "data": {
      "text/plain": [
       "28"
      ]
     },
     "execution_count": 379,
     "metadata": {},
     "output_type": "execute_result"
    }
   ],
   "source": [
    "len(subset)"
   ]
  },
  {
   "cell_type": "code",
   "execution_count": 380,
   "metadata": {
    "ExecuteTime": {
     "end_time": "2020-06-08T16:49:34.308156Z",
     "start_time": "2020-06-08T16:49:34.296800Z"
    }
   },
   "outputs": [],
   "source": []
  },
  {
   "cell_type": "code",
   "execution_count": 374,
   "metadata": {
    "ExecuteTime": {
     "end_time": "2020-06-08T16:48:02.483307Z",
     "start_time": "2020-06-08T16:48:02.472433Z"
    }
   },
   "outputs": [
    {
     "data": {
      "text/plain": [
       "28"
      ]
     },
     "execution_count": 374,
     "metadata": {},
     "output_type": "execute_result"
    }
   ],
   "source": [
    "len(sdf['ISO3166_alpha3'].unique())"
   ]
  },
  {
   "cell_type": "code",
   "execution_count": 215,
   "metadata": {
    "ExecuteTime": {
     "end_time": "2020-06-08T15:46:49.286381Z",
     "start_time": "2020-06-08T15:46:49.231311Z"
    }
   },
   "outputs": [
    {
     "ename": "KeyError",
     "evalue": "'owid_location'",
     "output_type": "error",
     "traceback": [
      "\u001b[0;31m---------------------------------------------------------------------------\u001b[0m",
      "\u001b[0;31mKeyError\u001b[0m                                  Traceback (most recent call last)",
      "\u001b[0;32m/anaconda3/envs/r_env/lib/python3.7/site-packages/pandas/core/indexes/base.py\u001b[0m in \u001b[0;36mget_loc\u001b[0;34m(self, key, method, tolerance)\u001b[0m\n\u001b[1;32m   2645\u001b[0m             \u001b[0;32mtry\u001b[0m\u001b[0;34m:\u001b[0m\u001b[0;34m\u001b[0m\u001b[0;34m\u001b[0m\u001b[0m\n\u001b[0;32m-> 2646\u001b[0;31m                 \u001b[0;32mreturn\u001b[0m \u001b[0mself\u001b[0m\u001b[0;34m.\u001b[0m\u001b[0m_engine\u001b[0m\u001b[0;34m.\u001b[0m\u001b[0mget_loc\u001b[0m\u001b[0;34m(\u001b[0m\u001b[0mkey\u001b[0m\u001b[0;34m)\u001b[0m\u001b[0;34m\u001b[0m\u001b[0;34m\u001b[0m\u001b[0m\n\u001b[0m\u001b[1;32m   2647\u001b[0m             \u001b[0;32mexcept\u001b[0m \u001b[0mKeyError\u001b[0m\u001b[0;34m:\u001b[0m\u001b[0;34m\u001b[0m\u001b[0;34m\u001b[0m\u001b[0m\n",
      "\u001b[0;32mpandas/_libs/index.pyx\u001b[0m in \u001b[0;36mpandas._libs.index.IndexEngine.get_loc\u001b[0;34m()\u001b[0m\n",
      "\u001b[0;32mpandas/_libs/index.pyx\u001b[0m in \u001b[0;36mpandas._libs.index.IndexEngine.get_loc\u001b[0;34m()\u001b[0m\n",
      "\u001b[0;32mpandas/_libs/hashtable_class_helper.pxi\u001b[0m in \u001b[0;36mpandas._libs.hashtable.PyObjectHashTable.get_item\u001b[0;34m()\u001b[0m\n",
      "\u001b[0;32mpandas/_libs/hashtable_class_helper.pxi\u001b[0m in \u001b[0;36mpandas._libs.hashtable.PyObjectHashTable.get_item\u001b[0;34m()\u001b[0m\n",
      "\u001b[0;31mKeyError\u001b[0m: 'owid_location'",
      "\nDuring handling of the above exception, another exception occurred:\n",
      "\u001b[0;31mKeyError\u001b[0m                                  Traceback (most recent call last)",
      "\u001b[0;32m<ipython-input-215-0df6454498ee>\u001b[0m in \u001b[0;36m<module>\u001b[0;34m\u001b[0m\n\u001b[0;32m----> 1\u001b[0;31m \u001b[0mowid_covid_df\u001b[0m\u001b[0;34m[\u001b[0m\u001b[0;34m'owid_location'\u001b[0m\u001b[0;34m]\u001b[0m\u001b[0;34m.\u001b[0m\u001b[0munique\u001b[0m\u001b[0;34m(\u001b[0m\u001b[0;34m)\u001b[0m\u001b[0;34m\u001b[0m\u001b[0;34m\u001b[0m\u001b[0m\n\u001b[0m",
      "\u001b[0;32m/anaconda3/envs/r_env/lib/python3.7/site-packages/pandas/core/frame.py\u001b[0m in \u001b[0;36m__getitem__\u001b[0;34m(self, key)\u001b[0m\n\u001b[1;32m   2798\u001b[0m             \u001b[0;32mif\u001b[0m \u001b[0mself\u001b[0m\u001b[0;34m.\u001b[0m\u001b[0mcolumns\u001b[0m\u001b[0;34m.\u001b[0m\u001b[0mnlevels\u001b[0m \u001b[0;34m>\u001b[0m \u001b[0;36m1\u001b[0m\u001b[0;34m:\u001b[0m\u001b[0;34m\u001b[0m\u001b[0;34m\u001b[0m\u001b[0m\n\u001b[1;32m   2799\u001b[0m                 \u001b[0;32mreturn\u001b[0m \u001b[0mself\u001b[0m\u001b[0;34m.\u001b[0m\u001b[0m_getitem_multilevel\u001b[0m\u001b[0;34m(\u001b[0m\u001b[0mkey\u001b[0m\u001b[0;34m)\u001b[0m\u001b[0;34m\u001b[0m\u001b[0;34m\u001b[0m\u001b[0m\n\u001b[0;32m-> 2800\u001b[0;31m             \u001b[0mindexer\u001b[0m \u001b[0;34m=\u001b[0m \u001b[0mself\u001b[0m\u001b[0;34m.\u001b[0m\u001b[0mcolumns\u001b[0m\u001b[0;34m.\u001b[0m\u001b[0mget_loc\u001b[0m\u001b[0;34m(\u001b[0m\u001b[0mkey\u001b[0m\u001b[0;34m)\u001b[0m\u001b[0;34m\u001b[0m\u001b[0;34m\u001b[0m\u001b[0m\n\u001b[0m\u001b[1;32m   2801\u001b[0m             \u001b[0;32mif\u001b[0m \u001b[0mis_integer\u001b[0m\u001b[0;34m(\u001b[0m\u001b[0mindexer\u001b[0m\u001b[0;34m)\u001b[0m\u001b[0;34m:\u001b[0m\u001b[0;34m\u001b[0m\u001b[0;34m\u001b[0m\u001b[0m\n\u001b[1;32m   2802\u001b[0m                 \u001b[0mindexer\u001b[0m \u001b[0;34m=\u001b[0m \u001b[0;34m[\u001b[0m\u001b[0mindexer\u001b[0m\u001b[0;34m]\u001b[0m\u001b[0;34m\u001b[0m\u001b[0;34m\u001b[0m\u001b[0m\n",
      "\u001b[0;32m/anaconda3/envs/r_env/lib/python3.7/site-packages/pandas/core/indexes/base.py\u001b[0m in \u001b[0;36mget_loc\u001b[0;34m(self, key, method, tolerance)\u001b[0m\n\u001b[1;32m   2646\u001b[0m                 \u001b[0;32mreturn\u001b[0m \u001b[0mself\u001b[0m\u001b[0;34m.\u001b[0m\u001b[0m_engine\u001b[0m\u001b[0;34m.\u001b[0m\u001b[0mget_loc\u001b[0m\u001b[0;34m(\u001b[0m\u001b[0mkey\u001b[0m\u001b[0;34m)\u001b[0m\u001b[0;34m\u001b[0m\u001b[0;34m\u001b[0m\u001b[0m\n\u001b[1;32m   2647\u001b[0m             \u001b[0;32mexcept\u001b[0m \u001b[0mKeyError\u001b[0m\u001b[0;34m:\u001b[0m\u001b[0;34m\u001b[0m\u001b[0;34m\u001b[0m\u001b[0m\n\u001b[0;32m-> 2648\u001b[0;31m                 \u001b[0;32mreturn\u001b[0m \u001b[0mself\u001b[0m\u001b[0;34m.\u001b[0m\u001b[0m_engine\u001b[0m\u001b[0;34m.\u001b[0m\u001b[0mget_loc\u001b[0m\u001b[0;34m(\u001b[0m\u001b[0mself\u001b[0m\u001b[0;34m.\u001b[0m\u001b[0m_maybe_cast_indexer\u001b[0m\u001b[0;34m(\u001b[0m\u001b[0mkey\u001b[0m\u001b[0;34m)\u001b[0m\u001b[0;34m)\u001b[0m\u001b[0;34m\u001b[0m\u001b[0;34m\u001b[0m\u001b[0m\n\u001b[0m\u001b[1;32m   2649\u001b[0m         \u001b[0mindexer\u001b[0m \u001b[0;34m=\u001b[0m \u001b[0mself\u001b[0m\u001b[0;34m.\u001b[0m\u001b[0mget_indexer\u001b[0m\u001b[0;34m(\u001b[0m\u001b[0;34m[\u001b[0m\u001b[0mkey\u001b[0m\u001b[0;34m]\u001b[0m\u001b[0;34m,\u001b[0m \u001b[0mmethod\u001b[0m\u001b[0;34m=\u001b[0m\u001b[0mmethod\u001b[0m\u001b[0;34m,\u001b[0m \u001b[0mtolerance\u001b[0m\u001b[0;34m=\u001b[0m\u001b[0mtolerance\u001b[0m\u001b[0;34m)\u001b[0m\u001b[0;34m\u001b[0m\u001b[0;34m\u001b[0m\u001b[0m\n\u001b[1;32m   2650\u001b[0m         \u001b[0;32mif\u001b[0m \u001b[0mindexer\u001b[0m\u001b[0;34m.\u001b[0m\u001b[0mndim\u001b[0m \u001b[0;34m>\u001b[0m \u001b[0;36m1\u001b[0m \u001b[0;32mor\u001b[0m \u001b[0mindexer\u001b[0m\u001b[0;34m.\u001b[0m\u001b[0msize\u001b[0m \u001b[0;34m>\u001b[0m \u001b[0;36m1\u001b[0m\u001b[0;34m:\u001b[0m\u001b[0;34m\u001b[0m\u001b[0;34m\u001b[0m\u001b[0m\n",
      "\u001b[0;32mpandas/_libs/index.pyx\u001b[0m in \u001b[0;36mpandas._libs.index.IndexEngine.get_loc\u001b[0;34m()\u001b[0m\n",
      "\u001b[0;32mpandas/_libs/index.pyx\u001b[0m in \u001b[0;36mpandas._libs.index.IndexEngine.get_loc\u001b[0;34m()\u001b[0m\n",
      "\u001b[0;32mpandas/_libs/hashtable_class_helper.pxi\u001b[0m in \u001b[0;36mpandas._libs.hashtable.PyObjectHashTable.get_item\u001b[0;34m()\u001b[0m\n",
      "\u001b[0;32mpandas/_libs/hashtable_class_helper.pxi\u001b[0m in \u001b[0;36mpandas._libs.hashtable.PyObjectHashTable.get_item\u001b[0;34m()\u001b[0m\n",
      "\u001b[0;31mKeyError\u001b[0m: 'owid_location'"
     ]
    }
   ],
   "source": [
    "owid_covid_df['owid_location'].unique()"
   ]
  },
  {
   "cell_type": "code",
   "execution_count": null,
   "metadata": {
    "collapsed": true
   },
   "outputs": [],
   "source": [
    "owid_covid_df['owid_extreme_poverty']"
   ]
  },
  {
   "cell_type": "code",
   "execution_count": 214,
   "metadata": {
    "ExecuteTime": {
     "end_time": "2020-06-08T15:31:47.145219Z",
     "start_time": "2020-06-08T15:31:47.129620Z"
    }
   },
   "outputs": [
    {
     "data": {
      "text/plain": [
       "Index(['owid_iso_code', 'owid_date', 'owid_total_cases', 'owid_new_cases',\n",
       "       'owid_total_deaths', 'owid_new_deaths', 'owid_total_tests',\n",
       "       'owid_new_tests', 'owid_tests_units', 'owid_population',\n",
       "       'owid_population_density', 'owid_median_age', 'owid_aged_65_older',\n",
       "       'owid_aged_70_older', 'owid_gdp_per_capita', 'owid_extreme_poverty',\n",
       "       'owid_cvd_death_rate', 'owid_diabetes_prevalence',\n",
       "       'owid_female_smokers', 'owid_male_smokers',\n",
       "       'owid_handwashing_facilities', 'owid_hospital_beds_per_thousand'],\n",
       "      dtype='object')"
      ]
     },
     "execution_count": 214,
     "metadata": {},
     "output_type": "execute_result"
    }
   ],
   "source": [
    "owid_covid_df.columns"
   ]
  },
  {
   "cell_type": "code",
   "execution_count": 191,
   "metadata": {
    "ExecuteTime": {
     "end_time": "2020-06-08T15:24:24.809316Z",
     "start_time": "2020-06-08T15:24:24.690712Z"
    }
   },
   "outputs": [
    {
     "name": "stdout",
     "output_type": "stream",
     "text": [
      ">> File  [ jh_clean.csv ] found. Checking age... \n",
      "\t+ File  [ jh_clean.csv ] not expired. Load from disk...\n",
      ">> File  [ owid_covid_raw.csv ] found. Checking age... \n",
      "\t+ File  [ owid_covid_raw.csv ] not expired. Load from disk...\n"
     ]
    }
   ],
   "source": [
    "jh_df = fetch_data.fetch_jh_clean()\n",
    "owid_covid_df = fetch_data.fetch_owid()"
   ]
  },
  {
   "cell_type": "code",
   "execution_count": 183,
   "metadata": {
    "ExecuteTime": {
     "end_time": "2020-06-08T15:23:56.570250Z",
     "start_time": "2020-06-08T15:23:56.538651Z"
    }
   },
   "outputs": [
    {
     "name": "stdout",
     "output_type": "stream",
     "text": [
      ">> Merging OWID data...\n"
     ]
    }
   ],
   "source": [
    "print(\">> Merging OWID data...\")\n",
    "non_covid_cols = ['Country/Region', 'Province/State', 'ISO3166_alpha2',\n",
    "                    'ISO3166_alpha3', 'ISO3166_numeric',\n",
    "                    #'population', 'gdp_total', 'lifeExp_male', 'lifeExp_female',\n",
    "                    'Date']\n",
    "\n",
    "last_date = jh_df['Date'].unique()[-1]\n",
    "noncovid_sdf = jh_df.loc[jh_df['Date'] == last_date][non_covid_cols]\n",
    "owid_dates = set(owid_covid_df['owid_date'].unique())\n",
    "jh_dates = set(jh_df['Date'].unique())\n",
    "owid_only = sorted(list(owid_dates - jh_dates))\n",
    "common_dates = sorted(list(owid_dates.intersection(jh_dates)))\n",
    "merged_df_columns = list(jh_df.columns) + list(owid_covid_df.columns)\n",
    "\n",
    "owid_covid_df.loc[owid_covid_df['owid_iso_code'] == 'OWID_WRL', 'owid_iso_code'] = 'WLD'\n",
    "\n",
    "merged_df = pd.DataFrame(columns=merged_df_columns)"
   ]
  },
  {
   "cell_type": "code",
   "execution_count": 184,
   "metadata": {
    "ExecuteTime": {
     "end_time": "2020-06-08T15:24:03.467788Z",
     "start_time": "2020-06-08T15:24:03.463453Z"
    }
   },
   "outputs": [
    {
     "data": {
      "text/plain": [
       "0"
      ]
     },
     "execution_count": 184,
     "metadata": {},
     "output_type": "execute_result"
    }
   ],
   "source": [
    "merged_df.shape[0]"
   ]
  },
  {
   "cell_type": "code",
   "execution_count": 185,
   "metadata": {
    "ExecuteTime": {
     "end_time": "2020-06-08T15:23:57.758685Z",
     "start_time": "2020-06-08T15:23:57.492483Z"
    }
   },
   "outputs": [],
   "source": [
    "for date in owid_only:\n",
    "    owid_sdf = owid_covid_df.loc[owid_covid_df['owid_date'] == date]\n",
    "    temp_sdf = noncovid_sdf.merge(owid_sdf, how='left', left_on='ISO3166_alpha3',\n",
    "                             right_on='owid_iso_code')\n",
    "    temp_sdf['Date'] = temp_sdf['owid_date']\n",
    "    merged_df = pd.concat([merged_df, temp_sdf])"
   ]
  },
  {
   "cell_type": "code",
   "execution_count": 186,
   "metadata": {
    "ExecuteTime": {
     "end_time": "2020-06-08T15:24:03.467788Z",
     "start_time": "2020-06-08T15:24:03.463453Z"
    }
   },
   "outputs": [
    {
     "data": {
      "text/plain": [
       "4278"
      ]
     },
     "execution_count": 186,
     "metadata": {},
     "output_type": "execute_result"
    }
   ],
   "source": [
    "merged_df.shape[0]"
   ]
  },
  {
   "cell_type": "code",
   "execution_count": 187,
   "metadata": {
    "ExecuteTime": {
     "end_time": "2020-06-08T15:24:02.521424Z",
     "start_time": "2020-06-08T15:23:58.594082Z"
    }
   },
   "outputs": [],
   "source": [
    "for date in common_dates:\n",
    "    owid_sdf = owid_covid_df.loc[owid_covid_df['owid_date'] == date]\n",
    "    jh_sdf = jh_df.loc[jh_df['Date'] == date]\n",
    "    jh_sdf = jh_sdf.merge(owid_sdf, how='left', left_on='ISO3166_alpha3',\n",
    "                             right_on='owid_iso_code')\n",
    "    merged_df = pd.concat([merged_df, jh_sdf])\n",
    "\n",
    "merged_df['tested_total'] = merged_df['owid_total_tests']"
   ]
  },
  {
   "cell_type": "code",
   "execution_count": 188,
   "metadata": {
    "ExecuteTime": {
     "end_time": "2020-06-08T15:24:03.467788Z",
     "start_time": "2020-06-08T15:24:03.463453Z"
    }
   },
   "outputs": [
    {
     "data": {
      "text/plain": [
       "29946"
      ]
     },
     "execution_count": 188,
     "metadata": {},
     "output_type": "execute_result"
    }
   ],
   "source": [
    "merged_df.shape[0]"
   ]
  },
  {
   "cell_type": "code",
   "execution_count": 176,
   "metadata": {
    "ExecuteTime": {
     "end_time": "2020-06-08T15:22:13.900353Z",
     "start_time": "2020-06-08T15:22:13.892313Z"
    }
   },
   "outputs": [
    {
     "data": {
      "text/plain": [
       "22662"
      ]
     },
     "execution_count": 176,
     "metadata": {},
     "output_type": "execute_result"
    }
   ],
   "source": [
    "owid_covid_df.shape[0]"
   ]
  },
  {
   "cell_type": "code",
   "execution_count": 148,
   "metadata": {
    "ExecuteTime": {
     "end_time": "2020-06-08T15:10:09.496324Z",
     "start_time": "2020-06-08T15:10:09.461639Z"
    }
   },
   "outputs": [],
   "source": [
    "non_covid_cols = ['Country/Region', 'Province/State', 'ISO3166_alpha2',\n",
    "\t\t\t\t\t\t'ISO3166_alpha3', 'ISO3166_numeric', 'Country/Region',\n",
    "\t\t\t\t\t\t#'population', 'gdp_total', 'lifeExp_male', 'lifeExp_female',\n",
    "\t\t\t\t\t\t'Date']\n",
    "\n",
    "last_date = jh_df['Date'].unique()[-1]\n",
    "noncovid_sdf = jh_df.loc[jh_df['Date'] == last_date][non_covid_cols]\n",
    "owid_dates = set(owid_covid_df['owid_date'].unique())\n",
    "\n",
    "jh_dates = set(jh_df['Date'].unique())\n",
    "owid_only = sorted(list(owid_dates - jh_dates))\n",
    "common_dates = sorted(list(owid_dates.intersection(jh_dates)))\n",
    "merged_df_columns = list(jh_df.columns) + list(owid_covid_df.columns)\n",
    "\n",
    "non_covid_cols = ['Country/Region', 'Province/State', 'ISO3166_alpha2',\n",
    "\t\t\t\t\t\t'ISO3166_alpha3', 'ISO3166_numeric', 'Country/Region',\n",
    "\t\t\t\t\t\t#'population', 'gdp_total', 'lifeExp_male', 'lifeExp_female',\n",
    "\t\t\t\t\t\t'Date']\n",
    "\n",
    "last_date = jh_df['Date'].unique()[-1]\n",
    "\n",
    "owid_covid_df.loc[owid_covid_df['owid_iso_code'] == 'OWID_WRL', 'owid_iso_code'] = 'WLD'\n",
    "\n",
    "merged_df = pd.DataFrame(columns=merged_df_columns)\n",
    "    "
   ]
  },
  {
   "cell_type": "code",
   "execution_count": 167,
   "metadata": {
    "ExecuteTime": {
     "end_time": "2020-06-08T15:17:43.462127Z",
     "start_time": "2020-06-08T15:17:43.457621Z"
    }
   },
   "outputs": [
    {
     "name": "stdout",
     "output_type": "stream",
     "text": [
      "31\n"
     ]
    }
   ],
   "source": [
    "print(len(merged_df.columns))\n",
    "#print(merged_df.columns)"
   ]
  },
  {
   "cell_type": "code",
   "execution_count": 158,
   "metadata": {
    "ExecuteTime": {
     "end_time": "2020-06-08T15:15:19.952752Z",
     "start_time": "2020-06-08T15:15:19.932230Z"
    }
   },
   "outputs": [
    {
     "data": {
      "text/html": [
       "<div>\n",
       "<style scoped>\n",
       "    .dataframe tbody tr th:only-of-type {\n",
       "        vertical-align: middle;\n",
       "    }\n",
       "\n",
       "    .dataframe tbody tr th {\n",
       "        vertical-align: top;\n",
       "    }\n",
       "\n",
       "    .dataframe thead th {\n",
       "        text-align: right;\n",
       "    }\n",
       "</style>\n",
       "<table border=\"1\" class=\"dataframe\">\n",
       "  <thead>\n",
       "    <tr style=\"text-align: right;\">\n",
       "      <th></th>\n",
       "      <th>confirmed_total</th>\n",
       "      <th>deaths_total</th>\n",
       "      <th>recovered_total</th>\n",
       "      <th>Province/State</th>\n",
       "      <th>Country/Region</th>\n",
       "      <th>ISO3166_alpha2</th>\n",
       "      <th>ISO3166_alpha3</th>\n",
       "      <th>ISO3166_numeric</th>\n",
       "      <th>Date</th>\n",
       "      <th>owid_iso_code</th>\n",
       "      <th>...</th>\n",
       "      <th>owid_aged_65_older</th>\n",
       "      <th>owid_aged_70_older</th>\n",
       "      <th>owid_gdp_per_capita</th>\n",
       "      <th>owid_extreme_poverty</th>\n",
       "      <th>owid_cvd_death_rate</th>\n",
       "      <th>owid_diabetes_prevalence</th>\n",
       "      <th>owid_female_smokers</th>\n",
       "      <th>owid_male_smokers</th>\n",
       "      <th>owid_handwashing_facilities</th>\n",
       "      <th>owid_hospital_beds_per_thousand</th>\n",
       "    </tr>\n",
       "  </thead>\n",
       "  <tbody>\n",
       "  </tbody>\n",
       "</table>\n",
       "<p>0 rows × 31 columns</p>\n",
       "</div>"
      ],
      "text/plain": [
       "Empty DataFrame\n",
       "Columns: [confirmed_total, deaths_total, recovered_total, Province/State, Country/Region, ISO3166_alpha2, ISO3166_alpha3, ISO3166_numeric, Date, owid_iso_code, owid_date, owid_total_cases, owid_new_cases, owid_total_deaths, owid_new_deaths, owid_total_tests, owid_new_tests, owid_tests_units, owid_population, owid_population_density, owid_median_age, owid_aged_65_older, owid_aged_70_older, owid_gdp_per_capita, owid_extreme_poverty, owid_cvd_death_rate, owid_diabetes_prevalence, owid_female_smokers, owid_male_smokers, owid_handwashing_facilities, owid_hospital_beds_per_thousand]\n",
       "Index: []\n",
       "\n",
       "[0 rows x 31 columns]"
      ]
     },
     "execution_count": 158,
     "metadata": {},
     "output_type": "execute_result"
    }
   ],
   "source": [
    "merged_df"
   ]
  },
  {
   "cell_type": "code",
   "execution_count": null,
   "metadata": {
    "ExecuteTime": {
     "end_time": "2020-06-08T15:14:46.654799Z",
     "start_time": "2020-06-08T15:14:46.633178Z"
    }
   },
   "outputs": [],
   "source": [
    "date = owid_only[-1]\n",
    "\n",
    "owid_sdf = owid_covid_df.loc[owid_covid_df['owid_date'] == date]\n",
    "temp_sdf = noncovid_sdf.merge(owid_sdf, how='left',\n",
    "                              left_on='ISO3166_alpha3',\n",
    "                             right_on='owid_iso_code')\n",
    "temp_sdf['Date'] = temp_sdf['owid_date']\n",
    "print()"
   ]
  },
  {
   "cell_type": "code",
   "execution_count": 168,
   "metadata": {
    "ExecuteTime": {
     "end_time": "2020-06-08T15:17:51.284357Z",
     "start_time": "2020-06-08T15:17:51.277708Z"
    }
   },
   "outputs": [
    {
     "name": "stdout",
     "output_type": "stream",
     "text": [
      "29\n"
     ]
    }
   ],
   "source": [
    "print(len(temp_sdf.columns))"
   ]
  },
  {
   "cell_type": "code",
   "execution_count": 165,
   "metadata": {
    "ExecuteTime": {
     "end_time": "2020-06-08T15:17:32.149266Z",
     "start_time": "2020-06-08T15:17:32.143329Z"
    }
   },
   "outputs": [
    {
     "data": {
      "text/plain": [
       "['deaths_total', 'confirmed_total', 'recovered_total']"
      ]
     },
     "execution_count": 165,
     "metadata": {},
     "output_type": "execute_result"
    }
   ],
   "source": [
    "list(set(list(merged_df.columns)) - set(list(temp_sdf.columns)))"
   ]
  },
  {
   "cell_type": "code",
   "execution_count": 166,
   "metadata": {
    "ExecuteTime": {
     "end_time": "2020-06-08T15:17:32.609211Z",
     "start_time": "2020-06-08T15:17:32.603903Z"
    }
   },
   "outputs": [
    {
     "data": {
      "text/plain": [
       "[]"
      ]
     },
     "execution_count": 166,
     "metadata": {},
     "output_type": "execute_result"
    }
   ],
   "source": [
    "list(set(list(temp_sdf.columns)) - set(list(merged_df.columns)))"
   ]
  },
  {
   "cell_type": "code",
   "execution_count": 157,
   "metadata": {
    "ExecuteTime": {
     "end_time": "2020-06-08T15:14:46.654799Z",
     "start_time": "2020-06-08T15:14:46.633178Z"
    }
   },
   "outputs": [
    {
     "name": "stdout",
     "output_type": "stream",
     "text": [
      "Index(['Country/Region', 'Province/State', 'ISO3166_alpha2', 'ISO3166_alpha3',\n",
      "       'ISO3166_numeric', 'Country/Region', 'Date', 'owid_iso_code',\n",
      "       'owid_date', 'owid_total_cases', 'owid_new_cases', 'owid_total_deaths',\n",
      "       'owid_new_deaths', 'owid_total_tests', 'owid_new_tests',\n",
      "       'owid_tests_units', 'owid_population', 'owid_population_density',\n",
      "       'owid_median_age', 'owid_aged_65_older', 'owid_aged_70_older',\n",
      "       'owid_gdp_per_capita', 'owid_extreme_poverty', 'owid_cvd_death_rate',\n",
      "       'owid_diabetes_prevalence', 'owid_female_smokers', 'owid_male_smokers',\n",
      "       'owid_handwashing_facilities', 'owid_hospital_beds_per_thousand'],\n",
      "      dtype='object')\n"
     ]
    }
   ],
   "source": [
    "#merged_df = pd.concat([merged_df, temp_sdf]).fillna(0)"
   ]
  },
  {
   "cell_type": "code",
   "execution_count": 140,
   "metadata": {
    "ExecuteTime": {
     "end_time": "2020-06-08T15:06:55.476884Z",
     "start_time": "2020-06-08T15:06:55.428805Z"
    }
   },
   "outputs": [
    {
     "ename": "ValueError",
     "evalue": "Plan shapes are not aligned",
     "output_type": "error",
     "traceback": [
      "\u001b[0;31m---------------------------------------------------------------------------\u001b[0m",
      "\u001b[0;31mValueError\u001b[0m                                Traceback (most recent call last)",
      "\u001b[0;32m<ipython-input-140-022e81850d21>\u001b[0m in \u001b[0;36m<module>\u001b[0;34m\u001b[0m\n\u001b[1;32m      4\u001b[0m                              right_on='owid_iso_code')\n\u001b[1;32m      5\u001b[0m     \u001b[0mtemp_sdf\u001b[0m\u001b[0;34m[\u001b[0m\u001b[0;34m'Date'\u001b[0m\u001b[0;34m]\u001b[0m \u001b[0;34m=\u001b[0m \u001b[0mtemp_sdf\u001b[0m\u001b[0;34m[\u001b[0m\u001b[0;34m'owid_date'\u001b[0m\u001b[0;34m]\u001b[0m\u001b[0;34m\u001b[0m\u001b[0;34m\u001b[0m\u001b[0m\n\u001b[0;32m----> 6\u001b[0;31m     \u001b[0mmerged_df\u001b[0m \u001b[0;34m=\u001b[0m \u001b[0mpd\u001b[0m\u001b[0;34m.\u001b[0m\u001b[0mconcat\u001b[0m\u001b[0;34m(\u001b[0m\u001b[0;34m[\u001b[0m\u001b[0mmerged_df\u001b[0m\u001b[0;34m,\u001b[0m \u001b[0mtemp_sdf\u001b[0m\u001b[0;34m]\u001b[0m\u001b[0;34m)\u001b[0m\u001b[0;34m\u001b[0m\u001b[0;34m\u001b[0m\u001b[0m\n\u001b[0m",
      "\u001b[0;32m/anaconda3/envs/r_env/lib/python3.7/site-packages/pandas/core/reshape/concat.py\u001b[0m in \u001b[0;36mconcat\u001b[0;34m(objs, axis, join, ignore_index, keys, levels, names, verify_integrity, sort, copy)\u001b[0m\n\u001b[1;32m    282\u001b[0m     )\n\u001b[1;32m    283\u001b[0m \u001b[0;34m\u001b[0m\u001b[0m\n\u001b[0;32m--> 284\u001b[0;31m     \u001b[0;32mreturn\u001b[0m \u001b[0mop\u001b[0m\u001b[0;34m.\u001b[0m\u001b[0mget_result\u001b[0m\u001b[0;34m(\u001b[0m\u001b[0;34m)\u001b[0m\u001b[0;34m\u001b[0m\u001b[0;34m\u001b[0m\u001b[0m\n\u001b[0m\u001b[1;32m    285\u001b[0m \u001b[0;34m\u001b[0m\u001b[0m\n\u001b[1;32m    286\u001b[0m \u001b[0;34m\u001b[0m\u001b[0m\n",
      "\u001b[0;32m/anaconda3/envs/r_env/lib/python3.7/site-packages/pandas/core/reshape/concat.py\u001b[0m in \u001b[0;36mget_result\u001b[0;34m(self)\u001b[0m\n\u001b[1;32m    495\u001b[0m \u001b[0;34m\u001b[0m\u001b[0m\n\u001b[1;32m    496\u001b[0m             new_data = concatenate_block_managers(\n\u001b[0;32m--> 497\u001b[0;31m                 \u001b[0mmgrs_indexers\u001b[0m\u001b[0;34m,\u001b[0m \u001b[0mself\u001b[0m\u001b[0;34m.\u001b[0m\u001b[0mnew_axes\u001b[0m\u001b[0;34m,\u001b[0m \u001b[0mconcat_axis\u001b[0m\u001b[0;34m=\u001b[0m\u001b[0mself\u001b[0m\u001b[0;34m.\u001b[0m\u001b[0maxis\u001b[0m\u001b[0;34m,\u001b[0m \u001b[0mcopy\u001b[0m\u001b[0;34m=\u001b[0m\u001b[0mself\u001b[0m\u001b[0;34m.\u001b[0m\u001b[0mcopy\u001b[0m\u001b[0;34m\u001b[0m\u001b[0;34m\u001b[0m\u001b[0m\n\u001b[0m\u001b[1;32m    498\u001b[0m             )\n\u001b[1;32m    499\u001b[0m             \u001b[0;32mif\u001b[0m \u001b[0;32mnot\u001b[0m \u001b[0mself\u001b[0m\u001b[0;34m.\u001b[0m\u001b[0mcopy\u001b[0m\u001b[0;34m:\u001b[0m\u001b[0;34m\u001b[0m\u001b[0;34m\u001b[0m\u001b[0m\n",
      "\u001b[0;32m/anaconda3/envs/r_env/lib/python3.7/site-packages/pandas/core/internals/managers.py\u001b[0m in \u001b[0;36mconcatenate_block_managers\u001b[0;34m(mgrs_indexers, axes, concat_axis, copy)\u001b[0m\n\u001b[1;32m   2004\u001b[0m     \u001b[0mblocks\u001b[0m \u001b[0;34m=\u001b[0m \u001b[0;34m[\u001b[0m\u001b[0;34m]\u001b[0m\u001b[0;34m\u001b[0m\u001b[0;34m\u001b[0m\u001b[0m\n\u001b[1;32m   2005\u001b[0m \u001b[0;34m\u001b[0m\u001b[0m\n\u001b[0;32m-> 2006\u001b[0;31m     \u001b[0;32mfor\u001b[0m \u001b[0mplacement\u001b[0m\u001b[0;34m,\u001b[0m \u001b[0mjoin_units\u001b[0m \u001b[0;32min\u001b[0m \u001b[0mconcat_plan\u001b[0m\u001b[0;34m:\u001b[0m\u001b[0;34m\u001b[0m\u001b[0;34m\u001b[0m\u001b[0m\n\u001b[0m\u001b[1;32m   2007\u001b[0m \u001b[0;34m\u001b[0m\u001b[0m\n\u001b[1;32m   2008\u001b[0m         \u001b[0;32mif\u001b[0m \u001b[0mlen\u001b[0m\u001b[0;34m(\u001b[0m\u001b[0mjoin_units\u001b[0m\u001b[0;34m)\u001b[0m \u001b[0;34m==\u001b[0m \u001b[0;36m1\u001b[0m \u001b[0;32mand\u001b[0m \u001b[0;32mnot\u001b[0m \u001b[0mjoin_units\u001b[0m\u001b[0;34m[\u001b[0m\u001b[0;36m0\u001b[0m\u001b[0;34m]\u001b[0m\u001b[0;34m.\u001b[0m\u001b[0mindexers\u001b[0m\u001b[0;34m:\u001b[0m\u001b[0;34m\u001b[0m\u001b[0;34m\u001b[0m\u001b[0m\n",
      "\u001b[0;32m/anaconda3/envs/r_env/lib/python3.7/site-packages/pandas/core/internals/concat.py\u001b[0m in \u001b[0;36mcombine_concat_plans\u001b[0;34m(plans, concat_axis)\u001b[0m\n\u001b[1;32m    468\u001b[0m         \u001b[0;32mwhile\u001b[0m \u001b[0mnum_ended\u001b[0m\u001b[0;34m[\u001b[0m\u001b[0;36m0\u001b[0m\u001b[0;34m]\u001b[0m \u001b[0;34m!=\u001b[0m \u001b[0mlen\u001b[0m\u001b[0;34m(\u001b[0m\u001b[0mnext_items\u001b[0m\u001b[0;34m)\u001b[0m\u001b[0;34m:\u001b[0m\u001b[0;34m\u001b[0m\u001b[0;34m\u001b[0m\u001b[0m\n\u001b[1;32m    469\u001b[0m             \u001b[0;32mif\u001b[0m \u001b[0mnum_ended\u001b[0m\u001b[0;34m[\u001b[0m\u001b[0;36m0\u001b[0m\u001b[0;34m]\u001b[0m \u001b[0;34m>\u001b[0m \u001b[0;36m0\u001b[0m\u001b[0;34m:\u001b[0m\u001b[0;34m\u001b[0m\u001b[0;34m\u001b[0m\u001b[0m\n\u001b[0;32m--> 470\u001b[0;31m                 \u001b[0;32mraise\u001b[0m \u001b[0mValueError\u001b[0m\u001b[0;34m(\u001b[0m\u001b[0;34m\"Plan shapes are not aligned\"\u001b[0m\u001b[0;34m)\u001b[0m\u001b[0;34m\u001b[0m\u001b[0;34m\u001b[0m\u001b[0m\n\u001b[0m\u001b[1;32m    471\u001b[0m \u001b[0;34m\u001b[0m\u001b[0m\n\u001b[1;32m    472\u001b[0m             \u001b[0mplacements\u001b[0m\u001b[0;34m,\u001b[0m \u001b[0munits\u001b[0m \u001b[0;34m=\u001b[0m \u001b[0mzip\u001b[0m\u001b[0;34m(\u001b[0m\u001b[0;34m*\u001b[0m\u001b[0mnext_items\u001b[0m\u001b[0;34m)\u001b[0m\u001b[0;34m\u001b[0m\u001b[0;34m\u001b[0m\u001b[0m\n",
      "\u001b[0;31mValueError\u001b[0m: Plan shapes are not aligned"
     ]
    }
   ],
   "source": [
    "for date in owid_only:\n",
    "    owid_sdf = owid_covid_df.loc[owid_covid_df['owid_date'] == date]\n",
    "    temp_sdf = noncovid_sdf.merge(owid_sdf, how='left', left_on='ISO3166_alpha3',\n",
    "                             right_on='owid_iso_code')\n",
    "    temp_sdf['Date'] = temp_sdf['owid_date']\n",
    "    merged_df = pd.concat([merged_df, temp_sdf])"
   ]
  },
  {
   "cell_type": "code",
   "execution_count": 125,
   "metadata": {
    "ExecuteTime": {
     "end_time": "2020-06-08T15:02:14.538099Z",
     "start_time": "2020-06-08T15:02:14.532052Z"
    }
   },
   "outputs": [
    {
     "data": {
      "text/plain": [
       "Index(['confirmed_total', 'deaths_total', 'recovered_total', 'Province/State',\n",
       "       'Country/Region', 'ISO3166_alpha2', 'ISO3166_alpha3', 'ISO3166_numeric',\n",
       "       'Date'],\n",
       "      dtype='object')"
      ]
     },
     "execution_count": 125,
     "metadata": {},
     "output_type": "execute_result"
    }
   ],
   "source": [
    "jh_clean_df.columns"
   ]
  },
  {
   "cell_type": "code",
   "execution_count": 111,
   "metadata": {
    "ExecuteTime": {
     "end_time": "2020-06-08T14:51:53.317454Z",
     "start_time": "2020-06-08T14:51:53.311288Z"
    }
   },
   "outputs": [],
   "source": [
    "jh_fixed_df = jh_fixed_df_orig.copy()"
   ]
  },
  {
   "cell_type": "code",
   "execution_count": 118,
   "metadata": {
    "ExecuteTime": {
     "end_time": "2020-06-08T14:53:27.106130Z",
     "start_time": "2020-06-08T14:53:25.352877Z"
    }
   },
   "outputs": [],
   "source": [
    "jh_clean_df = fetch_data.rotate_jh_df(jh_fixed_df)"
   ]
  },
  {
   "cell_type": "code",
   "execution_count": 103,
   "metadata": {
    "ExecuteTime": {
     "end_time": "2020-06-08T14:49:17.804043Z",
     "start_time": "2020-06-08T14:49:17.796101Z"
    }
   },
   "outputs": [],
   "source": [
    "first_date_str=\"1/22/20\"\n",
    "final_offset = 8\n",
    "\n",
    "first_date = jh_fixed_df.columns.get_loc(first_date_str)\n",
    "last_date = len(jh_fixed_df.columns) - final_offset\n",
    "\n",
    "new_order = list(jh_fixed_df.columns[0:first_date]) + \\\n",
    "                list(jh_fixed_df.columns[last_date:]) + \\\n",
    "                list(jh_fixed_df.columns[first_date:last_date])\n",
    "print(new_order)\n",
    "jh_fixed_df = jh_fixed_df[new_order]"
   ]
  },
  {
   "cell_type": "code",
   "execution_count": 97,
   "metadata": {
    "ExecuteTime": {
     "end_time": "2020-06-08T14:44:31.484497Z",
     "start_time": "2020-06-08T14:44:31.475970Z"
    }
   },
   "outputs": [
    {
     "name": "stdout",
     "output_type": "stream",
     "text": [
      "9\n",
      "155\n",
      "['Province/State', 'Country/Region', 'Latitude', 'Longitude', 'Counter', 'UID', 'FIPS', 'CountyName', 'FullName', '1/22/20', '1/23/20', '1/24/20', '1/25/20', '1/26/20', '1/27/20', '1/28/20', '1/29/20', '1/30/20', '1/31/20', '2/1/20', '2/2/20', '2/3/20', '2/4/20', '2/5/20', '2/6/20', '2/7/20', '2/8/20', '2/9/20', '2/10/20', '2/11/20', '2/12/20', '2/13/20', '2/14/20', '2/15/20', '2/16/20', '2/17/20', '2/18/20', '2/19/20', '2/20/20', '2/21/20', '2/22/20', '2/23/20', '2/24/20', '2/25/20', '2/26/20', '2/27/20', '2/28/20', '2/29/20', '3/1/20', '3/2/20', '3/3/20', '3/4/20', '3/5/20', '3/6/20', '3/7/20', '3/8/20', '3/9/20', '3/10/20', '3/11/20', '3/12/20', '3/13/20', '3/14/20', '3/15/20', '3/16/20', '3/17/20', '3/18/20', '3/19/20', '3/20/20', '3/21/20', '3/22/20', '3/23/20', '3/24/20', '3/25/20', '3/26/20', '3/27/20', '3/28/20', '3/29/20', '3/30/20', '3/31/20', '4/1/20', '4/2/20', '4/3/20', '4/4/20', '4/5/20', '4/6/20', '4/7/20', '4/8/20', '4/9/20', '4/10/20', '4/11/20', '4/12/20', '4/13/20', '4/14/20', '4/15/20', '4/16/20', '4/17/20', '4/18/20', '4/19/20', '4/20/20', '4/21/20', '4/22/20', '4/23/20', '4/24/20', '4/25/20', '4/26/20', '4/27/20', '4/28/20', '4/29/20', '4/30/20', '5/1/20', '5/2/20', '5/3/20', '5/4/20', '5/5/20', '5/6/20', '5/7/20', '5/8/20', '5/9/20', '5/10/20', '5/11/20', '5/12/20', '5/13/20', '5/14/20', '5/15/20', '5/16/20', '5/17/20', '5/18/20', '5/19/20', '5/20/20', '5/21/20', '5/22/20', '5/23/20', '5/24/20', '5/25/20', '5/26/20', '5/27/20', '5/28/20', '5/29/20', '5/30/20', '5/31/20', '6/1/20', '6/2/20', '6/3/20', '6/4/20', '6/5/20', '6/6/20', '6/7/20', 'GEC', 'ISO3166_alpha2', 'ISO3166_alpha3', 'ISO3166_numeric', 'STANAG', 'ccTLDs', 'name', 'notes']\n"
     ]
    }
   ],
   "source": [
    "jh_fixed_df = fetch_data.reorder_jh_columns(jh_fixed_df)"
   ]
  },
  {
   "cell_type": "code",
   "execution_count": null,
   "metadata": {},
   "outputs": [],
   "source": []
  },
  {
   "cell_type": "code",
   "execution_count": 91,
   "metadata": {
    "ExecuteTime": {
     "end_time": "2020-06-08T14:43:15.672267Z",
     "start_time": "2020-06-08T14:43:15.654398Z"
    }
   },
   "outputs": [
    {
     "ename": "IndexError",
     "evalue": "index 155 is out of bounds for axis 0 with size 155",
     "output_type": "error",
     "traceback": [
      "\u001b[0;31m---------------------------------------------------------------------------\u001b[0m",
      "\u001b[0;31mIndexError\u001b[0m                                Traceback (most recent call last)",
      "\u001b[0;32m<ipython-input-91-656b7f51753e>\u001b[0m in \u001b[0;36m<module>\u001b[0;34m\u001b[0m\n\u001b[0;32m----> 1\u001b[0;31m \u001b[0mjh_fixed_df\u001b[0m\u001b[0;34m.\u001b[0m\u001b[0mcolumns\u001b[0m\u001b[0;34m[\u001b[0m\u001b[0;36m155\u001b[0m\u001b[0;34m]\u001b[0m\u001b[0;34m\u001b[0m\u001b[0;34m\u001b[0m\u001b[0m\n\u001b[0m",
      "\u001b[0;32m/anaconda3/envs/r_env/lib/python3.7/site-packages/pandas/core/indexes/base.py\u001b[0m in \u001b[0;36m__getitem__\u001b[0;34m(self, key)\u001b[0m\n\u001b[1;32m   3928\u001b[0m         \u001b[0;32mif\u001b[0m \u001b[0mis_scalar\u001b[0m\u001b[0;34m(\u001b[0m\u001b[0mkey\u001b[0m\u001b[0;34m)\u001b[0m\u001b[0;34m:\u001b[0m\u001b[0;34m\u001b[0m\u001b[0;34m\u001b[0m\u001b[0m\n\u001b[1;32m   3929\u001b[0m             \u001b[0mkey\u001b[0m \u001b[0;34m=\u001b[0m \u001b[0mcom\u001b[0m\u001b[0;34m.\u001b[0m\u001b[0mcast_scalar_indexer\u001b[0m\u001b[0;34m(\u001b[0m\u001b[0mkey\u001b[0m\u001b[0;34m)\u001b[0m\u001b[0;34m\u001b[0m\u001b[0;34m\u001b[0m\u001b[0m\n\u001b[0;32m-> 3930\u001b[0;31m             \u001b[0;32mreturn\u001b[0m \u001b[0mgetitem\u001b[0m\u001b[0;34m(\u001b[0m\u001b[0mkey\u001b[0m\u001b[0;34m)\u001b[0m\u001b[0;34m\u001b[0m\u001b[0;34m\u001b[0m\u001b[0m\n\u001b[0m\u001b[1;32m   3931\u001b[0m \u001b[0;34m\u001b[0m\u001b[0m\n\u001b[1;32m   3932\u001b[0m         \u001b[0;32mif\u001b[0m \u001b[0misinstance\u001b[0m\u001b[0;34m(\u001b[0m\u001b[0mkey\u001b[0m\u001b[0;34m,\u001b[0m \u001b[0mslice\u001b[0m\u001b[0;34m)\u001b[0m\u001b[0;34m:\u001b[0m\u001b[0;34m\u001b[0m\u001b[0;34m\u001b[0m\u001b[0m\n",
      "\u001b[0;31mIndexError\u001b[0m: index 155 is out of bounds for axis 0 with size 155"
     ]
    }
   ],
   "source": [
    "jh_fixed_df.columns[155]"
   ]
  },
  {
   "cell_type": "code",
   "execution_count": 67,
   "metadata": {
    "ExecuteTime": {
     "end_time": "2020-06-08T14:32:32.075517Z",
     "start_time": "2020-06-08T14:32:32.052372Z"
    }
   },
   "outputs": [
    {
     "data": {
      "text/html": [
       "<div>\n",
       "<style scoped>\n",
       "    .dataframe tbody tr th:only-of-type {\n",
       "        vertical-align: middle;\n",
       "    }\n",
       "\n",
       "    .dataframe tbody tr th {\n",
       "        vertical-align: top;\n",
       "    }\n",
       "\n",
       "    .dataframe thead th {\n",
       "        text-align: right;\n",
       "    }\n",
       "</style>\n",
       "<table border=\"1\" class=\"dataframe\">\n",
       "  <thead>\n",
       "    <tr style=\"text-align: right;\">\n",
       "      <th></th>\n",
       "      <th>confirmed_total</th>\n",
       "      <th>deaths_total</th>\n",
       "      <th>recovered_total</th>\n",
       "      <th>Province/State</th>\n",
       "      <th>Country/Region</th>\n",
       "      <th>ISO3166_alpha2</th>\n",
       "      <th>ISO3166_alpha3</th>\n",
       "      <th>ISO3166_numeric</th>\n",
       "      <th>Date</th>\n",
       "    </tr>\n",
       "  </thead>\n",
       "  <tbody>\n",
       "    <tr>\n",
       "      <th>0</th>\n",
       "      <td>0.0</td>\n",
       "      <td>0.0</td>\n",
       "      <td>0.0</td>\n",
       "      <td>All</td>\n",
       "      <td>Afghanistan</td>\n",
       "      <td>AF</td>\n",
       "      <td>AFG</td>\n",
       "      <td>004</td>\n",
       "      <td>2020-01-22</td>\n",
       "    </tr>\n",
       "    <tr>\n",
       "      <th>1</th>\n",
       "      <td>0.0</td>\n",
       "      <td>0.0</td>\n",
       "      <td>0.0</td>\n",
       "      <td>All</td>\n",
       "      <td>Afghanistan</td>\n",
       "      <td>AF</td>\n",
       "      <td>AFG</td>\n",
       "      <td>004</td>\n",
       "      <td>2020-01-23</td>\n",
       "    </tr>\n",
       "    <tr>\n",
       "      <th>2</th>\n",
       "      <td>0.0</td>\n",
       "      <td>0.0</td>\n",
       "      <td>0.0</td>\n",
       "      <td>All</td>\n",
       "      <td>Afghanistan</td>\n",
       "      <td>AF</td>\n",
       "      <td>AFG</td>\n",
       "      <td>004</td>\n",
       "      <td>2020-01-24</td>\n",
       "    </tr>\n",
       "    <tr>\n",
       "      <th>3</th>\n",
       "      <td>0.0</td>\n",
       "      <td>0.0</td>\n",
       "      <td>0.0</td>\n",
       "      <td>All</td>\n",
       "      <td>Afghanistan</td>\n",
       "      <td>AF</td>\n",
       "      <td>AFG</td>\n",
       "      <td>004</td>\n",
       "      <td>2020-01-25</td>\n",
       "    </tr>\n",
       "    <tr>\n",
       "      <th>4</th>\n",
       "      <td>0.0</td>\n",
       "      <td>0.0</td>\n",
       "      <td>0.0</td>\n",
       "      <td>All</td>\n",
       "      <td>Afghanistan</td>\n",
       "      <td>AF</td>\n",
       "      <td>AFG</td>\n",
       "      <td>004</td>\n",
       "      <td>2020-01-26</td>\n",
       "    </tr>\n",
       "  </tbody>\n",
       "</table>\n",
       "</div>"
      ],
      "text/plain": [
       "   confirmed_total  deaths_total  recovered_total Province/State  \\\n",
       "0              0.0           0.0              0.0            All   \n",
       "1              0.0           0.0              0.0            All   \n",
       "2              0.0           0.0              0.0            All   \n",
       "3              0.0           0.0              0.0            All   \n",
       "4              0.0           0.0              0.0            All   \n",
       "\n",
       "  Country/Region ISO3166_alpha2 ISO3166_alpha3 ISO3166_numeric       Date  \n",
       "0    Afghanistan             AF            AFG             004 2020-01-22  \n",
       "1    Afghanistan             AF            AFG             004 2020-01-23  \n",
       "2    Afghanistan             AF            AFG             004 2020-01-24  \n",
       "3    Afghanistan             AF            AFG             004 2020-01-25  \n",
       "4    Afghanistan             AF            AFG             004 2020-01-26  "
      ]
     },
     "execution_count": 67,
     "metadata": {},
     "output_type": "execute_result"
    }
   ],
   "source": [
    "jh_clean_df.head()"
   ]
  },
  {
   "cell_type": "code",
   "execution_count": 44,
   "metadata": {
    "ExecuteTime": {
     "end_time": "2020-06-08T14:03:27.124735Z",
     "start_time": "2020-06-08T14:03:07.910942Z"
    },
    "scrolled": false
   },
   "outputs": [
    {
     "name": "stdout",
     "output_type": "stream",
     "text": [
      "Refreshed at 2020-06-08 16:03:07.936806\n",
      ">> File  [ merged_df_global.csv ] found. Checking age... \n",
      "\t+ File  [ merged_df_global.csv ] not expired. Load from disk...\n",
      ">> File  [ ISO_codes.csv ] found. Checking age... \n",
      "\t+ File  [ ISO_codes.csv ] not expired. Load from disk...\n",
      ">> File  [ wb_indicators.csv ] found. Checking age... \n",
      "\t+ File  [ wb_indicators.csv ] not expired. Load from disk...\n",
      ">> File  [ ISO_codes.csv ] found. Checking age... \n",
      "\t+ File  [ ISO_codes.csv ] not expired. Load from disk...\n",
      ">> File  [ owid_covid_raw.csv ] found. Checking age... \n",
      "\t+ File  [ owid_covid_raw.csv ] not expired. Load from disk...\n",
      ">> Merging OWID data...\n"
     ]
    }
   ],
   "source": [
    "indicator_names = {\"SP.POP.TOTL\" : \"population\",\n",
    "\t\t\t\t\t\"NY.GDP.MKTP.CD\" : \"gdp_total\",\n",
    "\t\t\t\t\t\"SP.DYN.LE00.MA.IN\" : \"lifeExp_male\",\n",
    "\t\t\t\t\t\"SP.DYN.LE00.FE.IN\" : \"lifeExp_female\" }\n",
    "\n",
    "cv_merged_df, iso_codes_df, indicator_df = fetch_data.fetch_components(indicator_names)\n",
    "\n",
    "full_df = fetch_data.build_full_df(cv_merged_df)\n",
    "full_owid_df = fetch_data.merge_owid(full_df)"
   ]
  },
  {
   "cell_type": "code",
   "execution_count": 45,
   "metadata": {
    "ExecuteTime": {
     "end_time": "2020-06-08T14:03:29.627330Z",
     "start_time": "2020-06-08T14:03:29.362040Z"
    }
   },
   "outputs": [],
   "source": [
    "full_owid_df = full_owid_df.drop_duplicates()"
   ]
  },
  {
   "cell_type": "code",
   "execution_count": 46,
   "metadata": {
    "ExecuteTime": {
     "end_time": "2020-06-08T14:03:30.480620Z",
     "start_time": "2020-06-08T14:03:30.391181Z"
    }
   },
   "outputs": [],
   "source": [
    "full_owid_df = fetch_data.generate_features(full_owid_df)"
   ]
  },
  {
   "cell_type": "code",
   "execution_count": 49,
   "metadata": {
    "ExecuteTime": {
     "end_time": "2020-06-08T14:04:54.813329Z",
     "start_time": "2020-06-08T14:04:54.693852Z"
    }
   },
   "outputs": [
    {
     "name": "stdout",
     "output_type": "stream",
     "text": [
      "{'Country/Region': 'Country/Region', 'Province/State': 'Province/State', 'ISO3166_alpha2': 'ISO3166:2', 'ISO3166_alpha3': 'ISO3166:3', 'ISO3166_numeric': 'ISO3166:#', 'DisplayName': 'Name', 'population': 'Population', 'gdp_total': 'GDP (Total)', 'lifeExp_male': 'Life Expectancy (Male)', 'lifeExp_female': 'Life Expectancy (Female)', 'Date': 'Date', 'confirmed_total': 'Confirmed (Total)', 'deaths_total': 'Deaths (Total)', 'recovered_total': 'Recovered (Total)', 'active_total': 'Active (Total)', 'confirmed_total_norm': 'Confirmed (Total, normalised)', 'deaths_total_norm': 'Deaths (Total, normalised)', 'recovered_total_norm': 'Recovered (Total, normalised)', 'active_total_norm': 'Active (Total, normalised)', 'confirmed_total_pct': 'Confirmed (Total, percent)', 'deaths_total_pct': 'Deaths (Total, percent)', 'recovered_total_pct': 'Recovered (Total, percent)', 'active_total_pct': 'Active (Total, percent)', 'confirmed_daily': 'Confirmed (Daily)', 'deaths_daily': 'Deaths (Daily)', 'recovered_daily': 'Recovered (Daily)', 'active_daily': 'Active (Daily)', 'confirmed_daily_norm': 'Confirmed (Daily, normalised)', 'deaths_daily_norm': 'Deaths (Daily, normalised)', 'recovered_daily_norm': 'Recovered (Daily, normalised)', 'active_daily_norm': 'Active (Daily, normalised)', 'confirmed_daily_pct': 'Confirmed (Daily, percent)', 'deaths_daily_pct': 'Deaths (Daily, percent)', 'recovered_daily_pct': 'Recovered (Daily, percent)', 'active_daily_pct': 'Active (Daily, percent)'}\n"
     ]
    },
    {
     "ename": "KeyError",
     "evalue": "\"['Recovered (Daily, percent)', 'Confirmed (Daily, percent)', 'Deaths (Daily, percent)', 'Active (Total, percent)', 'Confirmed (Total, percent)', 'Active (Daily, percent)', 'Deaths (Total, percent)', 'Recovered (Total, percent)'] not in index\"",
     "output_type": "error",
     "traceback": [
      "\u001b[0;31m---------------------------------------------------------------------------\u001b[0m",
      "\u001b[0;31mKeyError\u001b[0m                                  Traceback (most recent call last)",
      "\u001b[0;32m<ipython-input-49-1a7ce0cd9018>\u001b[0m in \u001b[0;36m<module>\u001b[0;34m\u001b[0m\n\u001b[0;32m----> 1\u001b[0;31m \u001b[0mfetch_data\u001b[0m\u001b[0;34m.\u001b[0m\u001b[0mrename_select_columns\u001b[0m\u001b[0;34m(\u001b[0m\u001b[0mfull_owid_df\u001b[0m\u001b[0;34m)\u001b[0m\u001b[0;34m\u001b[0m\u001b[0;34m\u001b[0m\u001b[0m\n\u001b[0m",
      "\u001b[0;32m~/Dropbox/Records/Education/2019-20_BGSE_MScDataScience/Modules/DS_Trimester03/DS_MastersProject/dashboard/cv_dashboard/fetch_data.py\u001b[0m in \u001b[0;36mrename_select_columns\u001b[0;34m(df, data_path, filename)\u001b[0m\n\u001b[1;32m    702\u001b[0m         \u001b[0mprint\u001b[0m\u001b[0;34m(\u001b[0m\u001b[0mnew_names\u001b[0m\u001b[0;34m)\u001b[0m\u001b[0;34m\u001b[0m\u001b[0;34m\u001b[0m\u001b[0m\n\u001b[1;32m    703\u001b[0m         \u001b[0mdf\u001b[0m \u001b[0;34m=\u001b[0m \u001b[0mdf\u001b[0m\u001b[0;34m.\u001b[0m\u001b[0mrename\u001b[0m\u001b[0;34m(\u001b[0m\u001b[0mcolumns\u001b[0m\u001b[0;34m=\u001b[0m\u001b[0mnew_names\u001b[0m\u001b[0;34m)\u001b[0m\u001b[0;34m\u001b[0m\u001b[0;34m\u001b[0m\u001b[0m\n\u001b[0;32m--> 704\u001b[0;31m         \u001b[0mdf\u001b[0m \u001b[0;34m=\u001b[0m \u001b[0mdf\u001b[0m\u001b[0;34m[\u001b[0m\u001b[0mnew_names\u001b[0m\u001b[0;34m.\u001b[0m\u001b[0mvalues\u001b[0m\u001b[0;34m(\u001b[0m\u001b[0;34m)\u001b[0m\u001b[0;34m]\u001b[0m\u001b[0;34m\u001b[0m\u001b[0;34m\u001b[0m\u001b[0m\n\u001b[0m\u001b[1;32m    705\u001b[0m         \u001b[0;32mreturn\u001b[0m \u001b[0mdf\u001b[0m\u001b[0;34m\u001b[0m\u001b[0;34m\u001b[0m\u001b[0m\n\u001b[1;32m    706\u001b[0m \u001b[0;34m\u001b[0m\u001b[0m\n",
      "\u001b[0;32m/anaconda3/envs/r_env/lib/python3.7/site-packages/pandas/core/frame.py\u001b[0m in \u001b[0;36m__getitem__\u001b[0;34m(self, key)\u001b[0m\n\u001b[1;32m   2804\u001b[0m             \u001b[0;32mif\u001b[0m \u001b[0mis_iterator\u001b[0m\u001b[0;34m(\u001b[0m\u001b[0mkey\u001b[0m\u001b[0;34m)\u001b[0m\u001b[0;34m:\u001b[0m\u001b[0;34m\u001b[0m\u001b[0;34m\u001b[0m\u001b[0m\n\u001b[1;32m   2805\u001b[0m                 \u001b[0mkey\u001b[0m \u001b[0;34m=\u001b[0m \u001b[0mlist\u001b[0m\u001b[0;34m(\u001b[0m\u001b[0mkey\u001b[0m\u001b[0;34m)\u001b[0m\u001b[0;34m\u001b[0m\u001b[0;34m\u001b[0m\u001b[0m\n\u001b[0;32m-> 2806\u001b[0;31m             \u001b[0mindexer\u001b[0m \u001b[0;34m=\u001b[0m \u001b[0mself\u001b[0m\u001b[0;34m.\u001b[0m\u001b[0mloc\u001b[0m\u001b[0;34m.\u001b[0m\u001b[0m_get_listlike_indexer\u001b[0m\u001b[0;34m(\u001b[0m\u001b[0mkey\u001b[0m\u001b[0;34m,\u001b[0m \u001b[0maxis\u001b[0m\u001b[0;34m=\u001b[0m\u001b[0;36m1\u001b[0m\u001b[0;34m,\u001b[0m \u001b[0mraise_missing\u001b[0m\u001b[0;34m=\u001b[0m\u001b[0;32mTrue\u001b[0m\u001b[0;34m)\u001b[0m\u001b[0;34m[\u001b[0m\u001b[0;36m1\u001b[0m\u001b[0;34m]\u001b[0m\u001b[0;34m\u001b[0m\u001b[0;34m\u001b[0m\u001b[0m\n\u001b[0m\u001b[1;32m   2807\u001b[0m \u001b[0;34m\u001b[0m\u001b[0m\n\u001b[1;32m   2808\u001b[0m         \u001b[0;31m# take() does not accept boolean indexers\u001b[0m\u001b[0;34m\u001b[0m\u001b[0;34m\u001b[0m\u001b[0;34m\u001b[0m\u001b[0m\n",
      "\u001b[0;32m/anaconda3/envs/r_env/lib/python3.7/site-packages/pandas/core/indexing.py\u001b[0m in \u001b[0;36m_get_listlike_indexer\u001b[0;34m(self, key, axis, raise_missing)\u001b[0m\n\u001b[1;32m   1550\u001b[0m \u001b[0;34m\u001b[0m\u001b[0m\n\u001b[1;32m   1551\u001b[0m         self._validate_read_indexer(\n\u001b[0;32m-> 1552\u001b[0;31m             \u001b[0mkeyarr\u001b[0m\u001b[0;34m,\u001b[0m \u001b[0mindexer\u001b[0m\u001b[0;34m,\u001b[0m \u001b[0mo\u001b[0m\u001b[0;34m.\u001b[0m\u001b[0m_get_axis_number\u001b[0m\u001b[0;34m(\u001b[0m\u001b[0maxis\u001b[0m\u001b[0;34m)\u001b[0m\u001b[0;34m,\u001b[0m \u001b[0mraise_missing\u001b[0m\u001b[0;34m=\u001b[0m\u001b[0mraise_missing\u001b[0m\u001b[0;34m\u001b[0m\u001b[0;34m\u001b[0m\u001b[0m\n\u001b[0m\u001b[1;32m   1553\u001b[0m         )\n\u001b[1;32m   1554\u001b[0m         \u001b[0;32mreturn\u001b[0m \u001b[0mkeyarr\u001b[0m\u001b[0;34m,\u001b[0m \u001b[0mindexer\u001b[0m\u001b[0;34m\u001b[0m\u001b[0;34m\u001b[0m\u001b[0m\n",
      "\u001b[0;32m/anaconda3/envs/r_env/lib/python3.7/site-packages/pandas/core/indexing.py\u001b[0m in \u001b[0;36m_validate_read_indexer\u001b[0;34m(self, key, indexer, axis, raise_missing)\u001b[0m\n\u001b[1;32m   1643\u001b[0m             \u001b[0;32mif\u001b[0m \u001b[0;32mnot\u001b[0m \u001b[0;34m(\u001b[0m\u001b[0mself\u001b[0m\u001b[0;34m.\u001b[0m\u001b[0mname\u001b[0m \u001b[0;34m==\u001b[0m \u001b[0;34m\"loc\"\u001b[0m \u001b[0;32mand\u001b[0m \u001b[0;32mnot\u001b[0m \u001b[0mraise_missing\u001b[0m\u001b[0;34m)\u001b[0m\u001b[0;34m:\u001b[0m\u001b[0;34m\u001b[0m\u001b[0;34m\u001b[0m\u001b[0m\n\u001b[1;32m   1644\u001b[0m                 \u001b[0mnot_found\u001b[0m \u001b[0;34m=\u001b[0m \u001b[0mlist\u001b[0m\u001b[0;34m(\u001b[0m\u001b[0mset\u001b[0m\u001b[0;34m(\u001b[0m\u001b[0mkey\u001b[0m\u001b[0;34m)\u001b[0m \u001b[0;34m-\u001b[0m \u001b[0mset\u001b[0m\u001b[0;34m(\u001b[0m\u001b[0max\u001b[0m\u001b[0;34m)\u001b[0m\u001b[0;34m)\u001b[0m\u001b[0;34m\u001b[0m\u001b[0;34m\u001b[0m\u001b[0m\n\u001b[0;32m-> 1645\u001b[0;31m                 \u001b[0;32mraise\u001b[0m \u001b[0mKeyError\u001b[0m\u001b[0;34m(\u001b[0m\u001b[0;34mf\"{not_found} not in index\"\u001b[0m\u001b[0;34m)\u001b[0m\u001b[0;34m\u001b[0m\u001b[0;34m\u001b[0m\u001b[0m\n\u001b[0m\u001b[1;32m   1646\u001b[0m \u001b[0;34m\u001b[0m\u001b[0m\n\u001b[1;32m   1647\u001b[0m             \u001b[0;31m# we skip the warning on Categorical/Interval\u001b[0m\u001b[0;34m\u001b[0m\u001b[0;34m\u001b[0m\u001b[0;34m\u001b[0m\u001b[0m\n",
      "\u001b[0;31mKeyError\u001b[0m: \"['Recovered (Daily, percent)', 'Confirmed (Daily, percent)', 'Deaths (Daily, percent)', 'Active (Total, percent)', 'Confirmed (Total, percent)', 'Active (Daily, percent)', 'Deaths (Total, percent)', 'Recovered (Total, percent)'] not in index\""
     ]
    }
   ],
   "source": [
    "fetch_data.rename_select_columns(full_owid_df)"
   ]
  },
  {
   "cell_type": "code",
   "execution_count": 20,
   "metadata": {
    "ExecuteTime": {
     "end_time": "2020-06-08T13:42:14.481373Z",
     "start_time": "2020-06-08T13:42:14.476211Z"
    }
   },
   "outputs": [],
   "source": [
    "# full_df.reset_index(inplace=True, drop=True)"
   ]
  },
  {
   "cell_type": "markdown",
   "metadata": {},
   "source": [
    "### Country Converter exploration"
   ]
  },
  {
   "cell_type": "code",
   "execution_count": 164,
   "metadata": {
    "ExecuteTime": {
     "end_time": "2020-06-05T13:50:13.915107Z",
     "start_time": "2020-06-05T13:50:13.896126Z"
    }
   },
   "outputs": [],
   "source": [
    "def map_iso3_to_name(country_list):\n",
    "    subset_df = full_df.loc[full_df['ISO3166:3'].isin(country_list)][['Name','ISO3166:3']]\n",
    "    subset_df = subset_df.drop_duplicates()\n",
    "    subset_dict = dict(zip(subset_df['ISO3166:3'], subset_df['Name']))\n",
    "    return [subset_dict[x] for x in country_list]"
   ]
  },
  {
   "cell_type": "code",
   "execution_count": 165,
   "metadata": {
    "ExecuteTime": {
     "end_time": "2020-06-05T13:50:26.790314Z",
     "start_time": "2020-06-05T13:50:26.769649Z"
    }
   },
   "outputs": [
    {
     "data": {
      "text/plain": [
       "['Austria',\n",
       " 'Belgium',\n",
       " 'Bulgaria',\n",
       " 'Croatia',\n",
       " 'Cyprus',\n",
       " 'Czech Republic',\n",
       " 'Denmark',\n",
       " 'Estonia',\n",
       " 'Finland',\n",
       " 'France',\n",
       " 'Germany',\n",
       " 'Greece',\n",
       " 'Hungary',\n",
       " 'Ireland',\n",
       " 'Italy',\n",
       " 'Latvia',\n",
       " 'Lithuania',\n",
       " 'Luxembourg',\n",
       " 'Malta',\n",
       " 'Netherlands',\n",
       " 'Poland',\n",
       " 'Portugal',\n",
       " 'Romania',\n",
       " 'Slovak Republic',\n",
       " 'Slovenia',\n",
       " 'Spain',\n",
       " 'Sweden',\n",
       " 'United Kingdom']"
      ]
     },
     "execution_count": 165,
     "metadata": {},
     "output_type": "execute_result"
    }
   ],
   "source": [
    "map_iso3_to_name(EU_states)"
   ]
  },
  {
   "cell_type": "markdown",
   "metadata": {},
   "source": [
    "### Preliminaries"
   ]
  },
  {
   "cell_type": "code",
   "execution_count": 578,
   "metadata": {
    "ExecuteTime": {
     "end_time": "2020-06-10T13:00:57.326742Z",
     "start_time": "2020-06-10T13:00:57.306936Z"
    }
   },
   "outputs": [],
   "source": [
    "eu_df = owid_covid_df.loc[(owid_covid_df['owid_iso_code'].isin(EU_states))]"
   ]
  },
  {
   "cell_type": "code",
   "execution_count": 579,
   "metadata": {
    "ExecuteTime": {
     "end_time": "2020-06-10T13:00:57.761372Z",
     "start_time": "2020-06-10T13:00:57.716717Z"
    }
   },
   "outputs": [
    {
     "data": {
      "text/html": [
       "<div>\n",
       "<style scoped>\n",
       "    .dataframe tbody tr th:only-of-type {\n",
       "        vertical-align: middle;\n",
       "    }\n",
       "\n",
       "    .dataframe tbody tr th {\n",
       "        vertical-align: top;\n",
       "    }\n",
       "\n",
       "    .dataframe thead th {\n",
       "        text-align: right;\n",
       "    }\n",
       "</style>\n",
       "<table border=\"1\" class=\"dataframe\">\n",
       "  <thead>\n",
       "    <tr style=\"text-align: right;\">\n",
       "      <th></th>\n",
       "      <th>owid_iso_code</th>\n",
       "      <th>owid_location</th>\n",
       "      <th>owid_date</th>\n",
       "      <th>owid_total_cases</th>\n",
       "      <th>owid_total_deaths</th>\n",
       "      <th>owid_total_tests</th>\n",
       "      <th>owid_tests_units</th>\n",
       "      <th>owid_stringency_index</th>\n",
       "      <th>owid_population</th>\n",
       "    </tr>\n",
       "  </thead>\n",
       "  <tbody>\n",
       "    <tr>\n",
       "      <th>1205</th>\n",
       "      <td>AUT</td>\n",
       "      <td>Austria</td>\n",
       "      <td>2019-12-31</td>\n",
       "      <td>0</td>\n",
       "      <td>0</td>\n",
       "      <td>NaN</td>\n",
       "      <td>NaN</td>\n",
       "      <td>NaN</td>\n",
       "      <td>9006400.0</td>\n",
       "    </tr>\n",
       "    <tr>\n",
       "      <th>1206</th>\n",
       "      <td>AUT</td>\n",
       "      <td>Austria</td>\n",
       "      <td>2020-01-01</td>\n",
       "      <td>0</td>\n",
       "      <td>0</td>\n",
       "      <td>NaN</td>\n",
       "      <td>NaN</td>\n",
       "      <td>0.0</td>\n",
       "      <td>9006400.0</td>\n",
       "    </tr>\n",
       "    <tr>\n",
       "      <th>1207</th>\n",
       "      <td>AUT</td>\n",
       "      <td>Austria</td>\n",
       "      <td>2020-01-02</td>\n",
       "      <td>0</td>\n",
       "      <td>0</td>\n",
       "      <td>NaN</td>\n",
       "      <td>NaN</td>\n",
       "      <td>0.0</td>\n",
       "      <td>9006400.0</td>\n",
       "    </tr>\n",
       "    <tr>\n",
       "      <th>1208</th>\n",
       "      <td>AUT</td>\n",
       "      <td>Austria</td>\n",
       "      <td>2020-01-03</td>\n",
       "      <td>0</td>\n",
       "      <td>0</td>\n",
       "      <td>NaN</td>\n",
       "      <td>NaN</td>\n",
       "      <td>0.0</td>\n",
       "      <td>9006400.0</td>\n",
       "    </tr>\n",
       "    <tr>\n",
       "      <th>1209</th>\n",
       "      <td>AUT</td>\n",
       "      <td>Austria</td>\n",
       "      <td>2020-01-04</td>\n",
       "      <td>0</td>\n",
       "      <td>0</td>\n",
       "      <td>NaN</td>\n",
       "      <td>NaN</td>\n",
       "      <td>0.0</td>\n",
       "      <td>9006400.0</td>\n",
       "    </tr>\n",
       "    <tr>\n",
       "      <th>...</th>\n",
       "      <td>...</td>\n",
       "      <td>...</td>\n",
       "      <td>...</td>\n",
       "      <td>...</td>\n",
       "      <td>...</td>\n",
       "      <td>...</td>\n",
       "      <td>...</td>\n",
       "      <td>...</td>\n",
       "      <td>...</td>\n",
       "    </tr>\n",
       "    <tr>\n",
       "      <th>21425</th>\n",
       "      <td>GBR</td>\n",
       "      <td>United Kingdom</td>\n",
       "      <td>2020-06-04</td>\n",
       "      <td>279856</td>\n",
       "      <td>39728</td>\n",
       "      <td>3167470.0</td>\n",
       "      <td>tests performed</td>\n",
       "      <td>NaN</td>\n",
       "      <td>67886004.0</td>\n",
       "    </tr>\n",
       "    <tr>\n",
       "      <th>21426</th>\n",
       "      <td>GBR</td>\n",
       "      <td>United Kingdom</td>\n",
       "      <td>2020-06-05</td>\n",
       "      <td>281661</td>\n",
       "      <td>39904</td>\n",
       "      <td>3250401.0</td>\n",
       "      <td>tests performed</td>\n",
       "      <td>NaN</td>\n",
       "      <td>67886004.0</td>\n",
       "    </tr>\n",
       "    <tr>\n",
       "      <th>21427</th>\n",
       "      <td>GBR</td>\n",
       "      <td>United Kingdom</td>\n",
       "      <td>2020-06-06</td>\n",
       "      <td>283311</td>\n",
       "      <td>40261</td>\n",
       "      <td>NaN</td>\n",
       "      <td>NaN</td>\n",
       "      <td>NaN</td>\n",
       "      <td>67886004.0</td>\n",
       "    </tr>\n",
       "    <tr>\n",
       "      <th>21428</th>\n",
       "      <td>GBR</td>\n",
       "      <td>United Kingdom</td>\n",
       "      <td>2020-06-07</td>\n",
       "      <td>284868</td>\n",
       "      <td>40465</td>\n",
       "      <td>NaN</td>\n",
       "      <td>NaN</td>\n",
       "      <td>NaN</td>\n",
       "      <td>67886004.0</td>\n",
       "    </tr>\n",
       "    <tr>\n",
       "      <th>21429</th>\n",
       "      <td>GBR</td>\n",
       "      <td>United Kingdom</td>\n",
       "      <td>2020-06-08</td>\n",
       "      <td>286194</td>\n",
       "      <td>40542</td>\n",
       "      <td>NaN</td>\n",
       "      <td>NaN</td>\n",
       "      <td>NaN</td>\n",
       "      <td>67886004.0</td>\n",
       "    </tr>\n",
       "  </tbody>\n",
       "</table>\n",
       "<p>3906 rows × 9 columns</p>\n",
       "</div>"
      ],
      "text/plain": [
       "      owid_iso_code   owid_location   owid_date  owid_total_cases  \\\n",
       "1205            AUT         Austria  2019-12-31                 0   \n",
       "1206            AUT         Austria  2020-01-01                 0   \n",
       "1207            AUT         Austria  2020-01-02                 0   \n",
       "1208            AUT         Austria  2020-01-03                 0   \n",
       "1209            AUT         Austria  2020-01-04                 0   \n",
       "...             ...             ...         ...               ...   \n",
       "21425           GBR  United Kingdom  2020-06-04            279856   \n",
       "21426           GBR  United Kingdom  2020-06-05            281661   \n",
       "21427           GBR  United Kingdom  2020-06-06            283311   \n",
       "21428           GBR  United Kingdom  2020-06-07            284868   \n",
       "21429           GBR  United Kingdom  2020-06-08            286194   \n",
       "\n",
       "       owid_total_deaths  owid_total_tests owid_tests_units  \\\n",
       "1205                   0               NaN              NaN   \n",
       "1206                   0               NaN              NaN   \n",
       "1207                   0               NaN              NaN   \n",
       "1208                   0               NaN              NaN   \n",
       "1209                   0               NaN              NaN   \n",
       "...                  ...               ...              ...   \n",
       "21425              39728         3167470.0  tests performed   \n",
       "21426              39904         3250401.0  tests performed   \n",
       "21427              40261               NaN              NaN   \n",
       "21428              40465               NaN              NaN   \n",
       "21429              40542               NaN              NaN   \n",
       "\n",
       "       owid_stringency_index  owid_population  \n",
       "1205                     NaN        9006400.0  \n",
       "1206                     0.0        9006400.0  \n",
       "1207                     0.0        9006400.0  \n",
       "1208                     0.0        9006400.0  \n",
       "1209                     0.0        9006400.0  \n",
       "...                      ...              ...  \n",
       "21425                    NaN       67886004.0  \n",
       "21426                    NaN       67886004.0  \n",
       "21427                    NaN       67886004.0  \n",
       "21428                    NaN       67886004.0  \n",
       "21429                    NaN       67886004.0  \n",
       "\n",
       "[3906 rows x 9 columns]"
      ]
     },
     "execution_count": 579,
     "metadata": {},
     "output_type": "execute_result"
    }
   ],
   "source": [
    "eu_df"
   ]
  },
  {
   "cell_type": "code",
   "execution_count": 580,
   "metadata": {
    "ExecuteTime": {
     "end_time": "2020-06-10T13:00:58.292179Z",
     "start_time": "2020-06-10T13:00:58.265940Z"
    }
   },
   "outputs": [],
   "source": [
    "recent_eu_df = eu_df.loc[eu_df.owid_date > '2020-04-01']"
   ]
  },
  {
   "cell_type": "code",
   "execution_count": 584,
   "metadata": {
    "ExecuteTime": {
     "end_time": "2020-06-10T13:01:49.672606Z",
     "start_time": "2020-06-10T13:01:49.667106Z"
    }
   },
   "outputs": [],
   "source": [
    "# def prop_test(df):\n",
    "#     print(f\"{df['owid_new_tests'].count() / df.shape[0]:0.3f}\")"
   ]
  },
  {
   "cell_type": "code",
   "execution_count": 585,
   "metadata": {
    "ExecuteTime": {
     "end_time": "2020-06-10T13:01:52.919515Z",
     "start_time": "2020-06-10T13:01:52.916102Z"
    }
   },
   "outputs": [],
   "source": [
    "# prop_test(owid_covid_df)\n",
    "# prop_test(eu_df)\n",
    "# prop_test(recent_eu_df)"
   ]
  },
  {
   "cell_type": "code",
   "execution_count": 586,
   "metadata": {
    "ExecuteTime": {
     "end_time": "2020-06-10T13:01:57.284034Z",
     "start_time": "2020-06-10T13:01:57.278822Z"
    }
   },
   "outputs": [],
   "source": [
    "# state_iso3 = \"ITA\"\n",
    "# recent_eu_df.loc[recent_eu_df['owid_iso_code'] == state_iso3]"
   ]
  },
  {
   "cell_type": "code",
   "execution_count": 587,
   "metadata": {
    "ExecuteTime": {
     "end_time": "2020-06-10T13:02:01.887888Z",
     "start_time": "2020-06-10T13:02:01.882166Z"
    },
    "scrolled": true
   },
   "outputs": [],
   "source": [
    "# x_val = range(recent_eu_df.loc[recent_eu_df['owid_iso_code'] == 'ITA'].shape[0])\n",
    "# for state_iso3 in EU_states:\n",
    "#     try:\n",
    "#         subset = recent_eu_df.loc[recent_eu_df['owid_iso_code'] == state_iso3]['owid_new_tests']\n",
    "#         plt.plot(x_val, subset, label=state_iso3)\n",
    "#     except:\n",
    "#         print(f\"{state_iso3} failed. No testing data found...\")\n",
    "# plt.legend()"
   ]
  },
  {
   "cell_type": "code",
   "execution_count": 434,
   "metadata": {
    "ExecuteTime": {
     "end_time": "2020-06-05T22:43:11.977546Z",
     "start_time": "2020-06-05T22:43:11.955524Z"
    }
   },
   "outputs": [],
   "source": []
  },
  {
   "cell_type": "markdown",
   "metadata": {
    "ExecuteTime": {
     "end_time": "2020-06-05T22:44:17.058866Z",
     "start_time": "2020-06-05T22:44:17.051384Z"
    }
   },
   "source": [
    "### Cultural dimensions"
   ]
  },
  {
   "cell_type": "markdown",
   "metadata": {},
   "source": [
    "From [ https://www.researchgate.net/post/Are_there_any_alternatives_for_the_dimensions_of_national_culture ]\n",
    "\n",
    "_See Myers, M. D. and F. B. Tan (2002). \"Beyond Models of National Culture in Information Systems Research.\" Journal of Global Information Management 10(2).\n",
    "There is an interesting debate on this: Baskerville, R. F. (2003). \"Hofstede never studied culture.\" Accounting, Organizations and Society 28(1): 1-14. Hofstede replied with Hofstede, G. (2003). \"What is culture? A reply to Baskerville.\" Accounting, Organizations and Society 28: 811-813._"
   ]
  },
  {
   "cell_type": "code",
   "execution_count": 588,
   "metadata": {
    "ExecuteTime": {
     "end_time": "2020-06-10T13:02:08.098521Z",
     "start_time": "2020-06-10T13:02:08.000438Z"
    }
   },
   "outputs": [],
   "source": [
    "# Pull this into a function and then merge it with the other stuff...\n",
    "\n",
    "# hofstede_url = \"https://geerthofstede.com/wp-content/uploads/2016/08/6-dimensions-for-website-2015-08-16.csv\"\n",
    "hofstede_df = pd.read_csv('assets/6-dimensions-for-website-2015-08-16.csv',sep=\";\",na_values=\"#NULL!\")\n",
    "\n",
    "eu_states_iso = list(cc.data.loc[cc.data.EU <= 2017]['ISO3'].values)\n",
    "\n",
    "# This gets all of the ones that are correct\n",
    "first_pass = list(hofstede_df.loc[hofstede_df['ctr'].isin(eu_states_iso)]['ctr'])\n",
    "missing_iso = sorted(list(set(eu_states_iso) - set(first_pass)))\n",
    "missing_countries = eu_df.loc[eu_df['owid_iso_code'].isin(missing_iso), ['owid_iso_code', 'owid_location']].drop_duplicates()\n",
    "# Slovakia is still wrong, so fix manually...\n",
    "missing_countries.loc[missing_countries['owid_location'] == 'Slovakia', 'owid_location'] = 'Slovak Rep'\n",
    "hofstede_codes = [hofstede_df.loc[hofstede_df['country'] == x, 'ctr'].values[0] for x in list(missing_countries['owid_location'])]\n",
    "hofstede_codes += first_pass\n",
    "\n",
    "eu_indicators = hofstede_df.loc[hofstede_df['ctr'].isin(hofstede_codes)]\n",
    "# Then fix the codes back to ISO so it can be merged back to everything else..."
   ]
  },
  {
   "cell_type": "code",
   "execution_count": 590,
   "metadata": {
    "ExecuteTime": {
     "end_time": "2020-06-10T13:05:32.869591Z",
     "start_time": "2020-06-10T13:05:32.863507Z"
    }
   },
   "outputs": [
    {
     "data": {
      "text/plain": [
       "14"
      ]
     },
     "execution_count": 590,
     "metadata": {},
     "output_type": "execute_result"
    }
   ],
   "source": [
    "missing_countries.shape[0]"
   ]
  },
  {
   "cell_type": "code",
   "execution_count": 516,
   "metadata": {
    "ExecuteTime": {
     "end_time": "2020-06-05T23:14:22.453874Z",
     "start_time": "2020-06-05T23:14:22.446719Z"
    }
   },
   "outputs": [],
   "source": [
    "import matplotlib.pyplot as plt"
   ]
  },
  {
   "cell_type": "code",
   "execution_count": 530,
   "metadata": {
    "ExecuteTime": {
     "end_time": "2020-06-05T23:20:01.668572Z",
     "start_time": "2020-06-05T23:20:01.650050Z"
    }
   },
   "outputs": [
    {
     "data": {
      "text/plain": [
       "array([[51., 42., 86., 48., 44.]])"
      ]
     },
     "execution_count": 530,
     "metadata": {},
     "output_type": "execute_result"
    }
   ],
   "source": []
  },
  {
   "cell_type": "code",
   "execution_count": 549,
   "metadata": {
    "ExecuteTime": {
     "end_time": "2020-06-06T12:17:33.062410Z",
     "start_time": "2020-06-06T12:17:32.116627Z"
    }
   },
   "outputs": [
    {
     "data": {
      "image/png": "[encoded data removed]",
      "text/plain": [
       "<Figure size 432x288 with 1 Axes>"
      ]
     },
     "metadata": {
      "needs_background": "light"
     },
     "output_type": "display_data"
    },
    {
     "data": {
      "image/png": "[encoded data removed]",
      "text/plain": [
       "<Figure size 432x288 with 1 Axes>"
      ]
     },
     "metadata": {
      "needs_background": "light"
     },
     "output_type": "display_data"
    },
    {
     "data": {
      "image/png": "[encoded data removed]",
      "text/plain": [
       "<Figure size 432x288 with 1 Axes>"
      ]
     },
     "metadata": {
      "needs_background": "light"
     },
     "output_type": "display_data"
    },
    {
     "data": {
      "image/png": "[encoded data removed]",
      "text/plain": [
       "<Figure size 432x288 with 1 Axes>"
      ]
     },
     "metadata": {
      "needs_background": "light"
     },
     "output_type": "display_data"
    },
    {
     "data": {
      "image/png": "[encoded data removed]",
      "text/plain": [
       "<Figure size 432x288 with 1 Axes>"
      ]
     },
     "metadata": {
      "needs_background": "light"
     },
     "output_type": "display_data"
    }
   ],
   "source": [
    "for country in eu_indicators['country'][:5]:\n",
    "    heights = eu_indicators.loc[eu_indicators['country'] == country].iloc[:,3:].values[0]\n",
    "    heights = list(heights)\n",
    "\n",
    "    plt.bar(eu_indicators.columns[3:],height = heights)\n",
    "    plt.title(country)\n",
    "    plt.show()\n",
    "    "
   ]
  },
  {
   "cell_type": "code",
   "execution_count": 510,
   "metadata": {
    "ExecuteTime": {
     "end_time": "2020-06-05T23:12:25.937753Z",
     "start_time": "2020-06-05T23:12:24.905814Z"
    }
   },
   "outputs": [
    {
     "data": {
      "text/plain": [
       "<matplotlib.axes._subplots.AxesSubplot at 0x12af95ed0>"
      ]
     },
     "execution_count": 510,
     "metadata": {},
     "output_type": "execute_result"
    },
    {
     "data": {
      "image/png": "[encoded data removed]",
      "text/plain": [
       "<Figure size 432x288 with 1 Axes>"
      ]
     },
     "metadata": {
      "needs_background": "light"
     },
     "output_type": "display_data"
    }
   ],
   "source": [
    "eu_indicators[''.plot(kind='bar')"
   ]
  },
  {
   "cell_type": "code",
   "execution_count": 545,
   "metadata": {
    "ExecuteTime": {
     "end_time": "2020-06-05T23:25:34.808651Z",
     "start_time": "2020-06-05T23:25:34.799145Z"
    }
   },
   "outputs": [],
   "source": [
    "eu_states_iso = list(cc.data.loc[cc.data.EU <= 2017]['ISO3'].values)"
   ]
  },
  {
   "cell_type": "code",
   "execution_count": 546,
   "metadata": {
    "ExecuteTime": {
     "end_time": "2020-06-05T23:25:35.301686Z",
     "start_time": "2020-06-05T23:25:35.293925Z"
    }
   },
   "outputs": [],
   "source": [
    "oecd_states_iso = list(cc.data.loc[cc.data.OECD <= 2017]['ISO3'].values)"
   ]
  },
  {
   "cell_type": "code",
   "execution_count": 547,
   "metadata": {
    "ExecuteTime": {
     "end_time": "2020-06-05T23:25:49.564597Z",
     "start_time": "2020-06-05T23:25:49.555001Z"
    }
   },
   "outputs": [
    {
     "data": {
      "text/plain": [
       "{'BGR', 'CYP', 'HRV', 'LTU', 'MLT', 'ROU'}"
      ]
     },
     "execution_count": 547,
     "metadata": {},
     "output_type": "execute_result"
    }
   ],
   "source": [
    "set(eu_states_iso) - set(oecd_states_iso)"
   ]
  },
  {
   "cell_type": "code",
   "execution_count": 548,
   "metadata": {
    "ExecuteTime": {
     "end_time": "2020-06-05T23:26:03.726635Z",
     "start_time": "2020-06-05T23:26:03.716438Z"
    }
   },
   "outputs": [
    {
     "data": {
      "text/plain": [
       "{'AUS',\n",
       " 'CAN',\n",
       " 'CHE',\n",
       " 'CHL',\n",
       " 'ISL',\n",
       " 'ISR',\n",
       " 'JPN',\n",
       " 'KOR',\n",
       " 'MEX',\n",
       " 'NOR',\n",
       " 'NZL',\n",
       " 'TUR',\n",
       " 'USA'}"
      ]
     },
     "execution_count": 548,
     "metadata": {},
     "output_type": "execute_result"
    }
   ],
   "source": [
    "set(oecd_states_iso) - set(eu_states_iso)"
   ]
  },
  {
   "cell_type": "markdown",
   "metadata": {},
   "source": [
    "---"
   ]
  },
  {
   "cell_type": "markdown",
   "metadata": {},
   "source": [
    "### OECD API\n"
   ]
  },
  {
   "cell_type": "markdown",
   "metadata": {},
   "source": [
    "### Eurostat API"
   ]
  },
  {
   "cell_type": "code",
   "execution_count": 5,
   "metadata": {
    "ExecuteTime": {
     "end_time": "2020-06-08T13:10:54.561988Z",
     "start_time": "2020-06-08T13:10:53.280780Z"
    }
   },
   "outputs": [
    {
     "name": "stderr",
     "output_type": "stream",
     "text": [
      "/anaconda3/envs/r_env/lib/python3.7/site-packages/pandasdmx/remote.py:11: RuntimeWarning: optional dependency requests_cache is not installed; cache options to Session() have no effect\n",
      "  'to Session() have no effect', RuntimeWarning)\n"
     ]
    }
   ],
   "source": [
    "import eurostat\n"
   ]
  },
  {
   "cell_type": "code",
   "execution_count": 6,
   "metadata": {
    "ExecuteTime": {
     "end_time": "2020-06-08T13:10:54.568039Z",
     "start_time": "2020-06-08T13:10:54.564100Z"
    }
   },
   "outputs": [],
   "source": [
    "# import sys\n",
    "# !{sys.executable} -m pip install eurostat"
   ]
  },
  {
   "cell_type": "code",
   "execution_count": 8,
   "metadata": {
    "ExecuteTime": {
     "end_time": "2020-06-08T13:11:27.995109Z",
     "start_time": "2020-06-08T13:11:25.995079Z"
    }
   },
   "outputs": [
    {
     "data": {
      "text/html": [
       "<div>\n",
       "<style scoped>\n",
       "    .dataframe tbody tr th:only-of-type {\n",
       "        vertical-align: middle;\n",
       "    }\n",
       "\n",
       "    .dataframe tbody tr th {\n",
       "        vertical-align: top;\n",
       "    }\n",
       "\n",
       "    .dataframe thead th {\n",
       "        text-align: right;\n",
       "    }\n",
       "</style>\n",
       "<table border=\"1\" class=\"dataframe\">\n",
       "  <thead>\n",
       "    <tr style=\"text-align: right;\">\n",
       "      <th></th>\n",
       "      <th>title</th>\n",
       "      <th>code</th>\n",
       "      <th>type</th>\n",
       "      <th>last update of data</th>\n",
       "      <th>last table structure change</th>\n",
       "      <th>data start</th>\n",
       "      <th>data end</th>\n",
       "    </tr>\n",
       "  </thead>\n",
       "  <tbody>\n",
       "    <tr>\n",
       "      <th>0</th>\n",
       "      <td>Database by themes</td>\n",
       "      <td>data</td>\n",
       "      <td>folder</td>\n",
       "      <td></td>\n",
       "      <td></td>\n",
       "      <td></td>\n",
       "      <td></td>\n",
       "    </tr>\n",
       "    <tr>\n",
       "      <th>1</th>\n",
       "      <td>General and regional statistics</td>\n",
       "      <td>general</td>\n",
       "      <td>folder</td>\n",
       "      <td></td>\n",
       "      <td></td>\n",
       "      <td></td>\n",
       "      <td></td>\n",
       "    </tr>\n",
       "    <tr>\n",
       "      <th>2</th>\n",
       "      <td>European and national indicators for short-ter...</td>\n",
       "      <td>euroind</td>\n",
       "      <td>folder</td>\n",
       "      <td></td>\n",
       "      <td></td>\n",
       "      <td></td>\n",
       "      <td></td>\n",
       "    </tr>\n",
       "    <tr>\n",
       "      <th>3</th>\n",
       "      <td>Business and consumer surveys (source: DG ECFIN)</td>\n",
       "      <td>ei_bcs</td>\n",
       "      <td>folder</td>\n",
       "      <td></td>\n",
       "      <td></td>\n",
       "      <td></td>\n",
       "      <td></td>\n",
       "    </tr>\n",
       "    <tr>\n",
       "      <th>4</th>\n",
       "      <td>Consumer surveys (source: DG ECFIN)</td>\n",
       "      <td>ei_bcs_cs</td>\n",
       "      <td>folder</td>\n",
       "      <td></td>\n",
       "      <td></td>\n",
       "      <td></td>\n",
       "      <td></td>\n",
       "    </tr>\n",
       "    <tr>\n",
       "      <th>...</th>\n",
       "      <td>...</td>\n",
       "      <td>...</td>\n",
       "      <td>...</td>\n",
       "      <td>...</td>\n",
       "      <td>...</td>\n",
       "      <td>...</td>\n",
       "      <td>...</td>\n",
       "    </tr>\n",
       "    <tr>\n",
       "      <th>9923</th>\n",
       "      <td>Enterprises that provided training to develop/...</td>\n",
       "      <td>isoc_ske_ittn2</td>\n",
       "      <td>dataset</td>\n",
       "      <td>13.01.2020</td>\n",
       "      <td>27.02.2020</td>\n",
       "      <td>2012</td>\n",
       "      <td>2019</td>\n",
       "    </tr>\n",
       "    <tr>\n",
       "      <th>9924</th>\n",
       "      <td>Participation in education and training - cont...</td>\n",
       "      <td>sks_devcvt</td>\n",
       "      <td>folder</td>\n",
       "      <td></td>\n",
       "      <td></td>\n",
       "      <td></td>\n",
       "      <td></td>\n",
       "    </tr>\n",
       "    <tr>\n",
       "      <th>9925</th>\n",
       "      <td>Enterprises providing training by type of trai...</td>\n",
       "      <td>trng_cvt_01s</td>\n",
       "      <td>dataset</td>\n",
       "      <td>26.02.2019</td>\n",
       "      <td>27.02.2020</td>\n",
       "      <td>2005</td>\n",
       "      <td>2015</td>\n",
       "    </tr>\n",
       "    <tr>\n",
       "      <th>9926</th>\n",
       "      <td>Participants in CVT courses by sex and size cl...</td>\n",
       "      <td>trng_cvt_12s</td>\n",
       "      <td>dataset</td>\n",
       "      <td>26.02.2019</td>\n",
       "      <td>27.02.2020</td>\n",
       "      <td>2005</td>\n",
       "      <td>2015</td>\n",
       "    </tr>\n",
       "    <tr>\n",
       "      <th>9927</th>\n",
       "      <td>Main skills targeted by CVT courses by type of...</td>\n",
       "      <td>trng_cvt_29n2</td>\n",
       "      <td>dataset</td>\n",
       "      <td>26.02.2019</td>\n",
       "      <td>27.02.2020</td>\n",
       "      <td>2010</td>\n",
       "      <td>2015</td>\n",
       "    </tr>\n",
       "  </tbody>\n",
       "</table>\n",
       "<p>9928 rows × 7 columns</p>\n",
       "</div>"
      ],
      "text/plain": [
       "                                                  title            code  \\\n",
       "0                                    Database by themes            data   \n",
       "1                       General and regional statistics         general   \n",
       "2     European and national indicators for short-ter...         euroind   \n",
       "3     Business and consumer surveys (source: DG ECFIN)           ei_bcs   \n",
       "4                   Consumer surveys (source: DG ECFIN)       ei_bcs_cs   \n",
       "...                                                 ...             ...   \n",
       "9923  Enterprises that provided training to develop/...  isoc_ske_ittn2   \n",
       "9924  Participation in education and training - cont...      sks_devcvt   \n",
       "9925  Enterprises providing training by type of trai...    trng_cvt_01s   \n",
       "9926  Participants in CVT courses by sex and size cl...    trng_cvt_12s   \n",
       "9927  Main skills targeted by CVT courses by type of...   trng_cvt_29n2   \n",
       "\n",
       "         type last update of data last table structure change data start  \\\n",
       "0      folder                                                              \n",
       "1      folder                                                              \n",
       "2      folder                                                              \n",
       "3      folder                                                              \n",
       "4      folder                                                              \n",
       "...       ...                 ...                         ...        ...   \n",
       "9923  dataset          13.01.2020                  27.02.2020       2012   \n",
       "9924   folder                                                              \n",
       "9925  dataset          26.02.2019                  27.02.2020       2005   \n",
       "9926  dataset          26.02.2019                  27.02.2020       2005   \n",
       "9927  dataset          26.02.2019                  27.02.2020       2010   \n",
       "\n",
       "     data end  \n",
       "0              \n",
       "1              \n",
       "2              \n",
       "3              \n",
       "4              \n",
       "...       ...  \n",
       "9923     2019  \n",
       "9924           \n",
       "9925     2015  \n",
       "9926     2015  \n",
       "9927     2015  \n",
       "\n",
       "[9928 rows x 7 columns]"
      ]
     },
     "execution_count": 8,
     "metadata": {},
     "output_type": "execute_result"
    }
   ],
   "source": [
    "eurostat.get_toc_df()"
   ]
  },
  {
   "cell_type": "code",
   "execution_count": null,
   "metadata": {},
   "outputs": [],
   "source": []
  }
 ],
 "metadata": {
  "kernelspec": {
   "display_name": "Python 3",
   "language": "python",
   "name": "python3"
  },
  "language_info": {
   "codemirror_mode": {
    "name": "ipython",
    "version": 3
   },
   "file_extension": ".py",
   "mimetype": "text/x-python",
   "name": "python",
   "nbconvert_exporter": "python",
   "pygments_lexer": "ipython3",
   "version": "3.7.6"
  },
  "toc": {
   "base_numbering": 1,
   "nav_menu": {},
   "number_sections": true,
   "sideBar": true,
   "skip_h1_title": false,
   "title_cell": "Table of Contents",
   "title_sidebar": "Contents",
   "toc_cell": false,
   "toc_position": {},
   "toc_section_display": true,
   "toc_window_display": false
  }
 },
 "nbformat": 4,
 "nbformat_minor": 4
}
